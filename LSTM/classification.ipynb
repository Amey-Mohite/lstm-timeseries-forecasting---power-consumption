{
  "nbformat": 4,
  "nbformat_minor": 0,
  "metadata": {
    "colab": {
      "name": "Untitled82.ipynb",
      "provenance": []
    },
    "kernelspec": {
      "name": "python3",
      "display_name": "Python 3"
    },
    "language_info": {
      "name": "python"
    }
  },
  "cells": [
    {
      "cell_type": "code",
      "execution_count": 56,
      "metadata": {
        "id": "q0VeuaaNRKzu"
      },
      "outputs": [],
      "source": [
        "#importing libraries\n",
        "import pandas as pd\n",
        "import numpy as np\n",
        "import keras\n",
        "from keras.models import Sequential\n",
        "from keras.layers import Dense\n",
        "\n",
        "from sklearn.ensemble import GradientBoostingClassifier, RandomForestClassifier\n",
        "from sklearn.tree import DecisionTreeClassifier\n",
        "from sklearn.metrics import f1_score\n",
        "from sklearn.model_selection import RandomizedSearchCV\n",
        "\n",
        "from sklearn.model_selection import train_test_split\n",
        "from sklearn.preprocessing import StandardScaler, MinMaxScaler"
      ]
    },
    {
      "cell_type": "code",
      "source": [
        "#read csv file\n",
        "df = pd.read_csv('/content/sample_data/Quality Prediction.csv', skiprows=1)\n",
        "df.head()"
      ],
      "metadata": {
        "colab": {
          "base_uri": "https://localhost:8080/",
          "height": 305
        },
        "id": "kV09IJPGRP71",
        "outputId": "036a6081-0596-4038-bf7d-5eecefd85df1"
      },
      "execution_count": 57,
      "outputs": [
        {
          "output_type": "execute_result",
          "data": {
            "text/html": [
              "\n",
              "  <div id=\"df-6a6f5e0d-12e7-4f13-bb72-bdb7b0a32446\">\n",
              "    <div class=\"colab-df-container\">\n",
              "      <div>\n",
              "<style scoped>\n",
              "    .dataframe tbody tr th:only-of-type {\n",
              "        vertical-align: middle;\n",
              "    }\n",
              "\n",
              "    .dataframe tbody tr th {\n",
              "        vertical-align: top;\n",
              "    }\n",
              "\n",
              "    .dataframe thead th {\n",
              "        text-align: right;\n",
              "    }\n",
              "</style>\n",
              "<table border=\"1\" class=\"dataframe\">\n",
              "  <thead>\n",
              "    <tr style=\"text-align: right;\">\n",
              "      <th></th>\n",
              "      <th>VariantID</th>\n",
              "      <th>Variant_Change</th>\n",
              "      <th>Mono_Identity</th>\n",
              "      <th>DateTimeCreated</th>\n",
              "      <th>Mono_MM_Delay (s)</th>\n",
              "      <th>A_Mono_MM_Duration (s)</th>\n",
              "      <th>B_Mono_MM_Duration (s)</th>\n",
              "      <th>Wrap_Delay (s)</th>\n",
              "      <th>A_Wrapping_Duration (s)</th>\n",
              "      <th>B_Wrapping_Duration (s)</th>\n",
              "      <th>Press_Delay (s)</th>\n",
              "      <th>A_Pressing_Duration (s)</th>\n",
              "      <th>B_Pressing_Duration (s)</th>\n",
              "      <th>GBD_MM Duration (s)</th>\n",
              "      <th>OperationTime (s)</th>\n",
              "      <th>CycleTime (s)</th>\n",
              "      <th>Downtime (s)</th>\n",
              "      <th>ShutDown (s)</th>\n",
              "      <th>A_MonoMM_Dia</th>\n",
              "      <th>B_MonoMM_Dia</th>\n",
              "      <th>A_MatWeight</th>\n",
              "      <th>B_MatWeight</th>\n",
              "      <th>A_GBD_MM_Gap</th>\n",
              "      <th>B_GBD_MM_Gap</th>\n",
              "      <th>A_GBD_Diameter</th>\n",
              "      <th>B_GBD_Diameter</th>\n",
              "      <th>A_GBD</th>\n",
              "      <th>B_GBD</th>\n",
              "      <th>A_PressSB</th>\n",
              "      <th>B_PressSB</th>\n",
              "      <th>A_PressDispl</th>\n",
              "      <th>B_PressDispl</th>\n",
              "      <th>A_PForce</th>\n",
              "      <th>B_PForce</th>\n",
              "      <th>A_MonoMM_Result</th>\n",
              "      <th>B_MonoMM_Result</th>\n",
              "      <th>A_GBD_Result</th>\n",
              "      <th>B_GBD_Result</th>\n",
              "      <th>A_Press_Result</th>\n",
              "      <th>B_Press_Result</th>\n",
              "      <th>A_Marking_Result</th>\n",
              "      <th>B_Marking_Result</th>\n",
              "      <th>ShiftNumber</th>\n",
              "      <th>Shift_Status</th>\n",
              "      <th>Final_Result</th>\n",
              "    </tr>\n",
              "  </thead>\n",
              "  <tbody>\n",
              "    <tr>\n",
              "      <th>0</th>\n",
              "      <td>28</td>\n",
              "      <td>1</td>\n",
              "      <td>Double</td>\n",
              "      <td>8/7/2021 7:33:38</td>\n",
              "      <td>1</td>\n",
              "      <td>0.0</td>\n",
              "      <td>0.0</td>\n",
              "      <td>364</td>\n",
              "      <td>0.0</td>\n",
              "      <td>0.0</td>\n",
              "      <td>2</td>\n",
              "      <td>0.0</td>\n",
              "      <td>0.0</td>\n",
              "      <td>0.0</td>\n",
              "      <td>123.0</td>\n",
              "      <td>NaN</td>\n",
              "      <td>0</td>\n",
              "      <td>0</td>\n",
              "      <td>267.111</td>\n",
              "      <td>266.777</td>\n",
              "      <td>616.5</td>\n",
              "      <td>478.4</td>\n",
              "      <td>616.5</td>\n",
              "      <td>478.4</td>\n",
              "      <td>284.620</td>\n",
              "      <td>284.979</td>\n",
              "      <td>0.665</td>\n",
              "      <td>0.666</td>\n",
              "      <td>0.35</td>\n",
              "      <td>0.35</td>\n",
              "      <td>871.674</td>\n",
              "      <td>874.806</td>\n",
              "      <td>5076</td>\n",
              "      <td>16.0</td>\n",
              "      <td>1</td>\n",
              "      <td>1.0</td>\n",
              "      <td>1.0</td>\n",
              "      <td>1.0</td>\n",
              "      <td>1</td>\n",
              "      <td>1.0</td>\n",
              "      <td>1.0</td>\n",
              "      <td>1.0</td>\n",
              "      <td>1</td>\n",
              "      <td>Shift_Change</td>\n",
              "      <td>1</td>\n",
              "    </tr>\n",
              "    <tr>\n",
              "      <th>1</th>\n",
              "      <td>28</td>\n",
              "      <td>0</td>\n",
              "      <td>Double</td>\n",
              "      <td>8/7/2021 7:46:45</td>\n",
              "      <td>1</td>\n",
              "      <td>787.0</td>\n",
              "      <td>787.0</td>\n",
              "      <td>42</td>\n",
              "      <td>812.0</td>\n",
              "      <td>406.0</td>\n",
              "      <td>2</td>\n",
              "      <td>448.0</td>\n",
              "      <td>448.0</td>\n",
              "      <td>510.0</td>\n",
              "      <td>186.0</td>\n",
              "      <td>511.0</td>\n",
              "      <td>449</td>\n",
              "      <td>0</td>\n",
              "      <td>267.097</td>\n",
              "      <td>266.452</td>\n",
              "      <td>627.3</td>\n",
              "      <td>476.9</td>\n",
              "      <td>627.3</td>\n",
              "      <td>476.9</td>\n",
              "      <td>284.849</td>\n",
              "      <td>284.593</td>\n",
              "      <td>0.666</td>\n",
              "      <td>0.667</td>\n",
              "      <td>0.35</td>\n",
              "      <td>0.35</td>\n",
              "      <td>872.457</td>\n",
              "      <td>874.433</td>\n",
              "      <td>4870</td>\n",
              "      <td>6.0</td>\n",
              "      <td>1</td>\n",
              "      <td>1.0</td>\n",
              "      <td>1.0</td>\n",
              "      <td>1.0</td>\n",
              "      <td>1</td>\n",
              "      <td>1.0</td>\n",
              "      <td>1.0</td>\n",
              "      <td>1.0</td>\n",
              "      <td>1</td>\n",
              "      <td>Same_Shift</td>\n",
              "      <td>1</td>\n",
              "    </tr>\n",
              "    <tr>\n",
              "      <th>2</th>\n",
              "      <td>28</td>\n",
              "      <td>0</td>\n",
              "      <td>Double</td>\n",
              "      <td>8/7/2021 7:48:58</td>\n",
              "      <td>60</td>\n",
              "      <td>133.0</td>\n",
              "      <td>72.0</td>\n",
              "      <td>61</td>\n",
              "      <td>93.0</td>\n",
              "      <td>74.0</td>\n",
              "      <td>1</td>\n",
              "      <td>94.0</td>\n",
              "      <td>93.0</td>\n",
              "      <td>36.0</td>\n",
              "      <td>127.0</td>\n",
              "      <td>35.0</td>\n",
              "      <td>0</td>\n",
              "      <td>0</td>\n",
              "      <td>267.059</td>\n",
              "      <td>266.826</td>\n",
              "      <td>655.3</td>\n",
              "      <td>487.8</td>\n",
              "      <td>655.3</td>\n",
              "      <td>487.8</td>\n",
              "      <td>285.396</td>\n",
              "      <td>285.283</td>\n",
              "      <td>0.669</td>\n",
              "      <td>0.668</td>\n",
              "      <td>0.35</td>\n",
              "      <td>0.35</td>\n",
              "      <td>873.022</td>\n",
              "      <td>874.042</td>\n",
              "      <td>5044</td>\n",
              "      <td>30.0</td>\n",
              "      <td>1</td>\n",
              "      <td>1.0</td>\n",
              "      <td>1.0</td>\n",
              "      <td>1.0</td>\n",
              "      <td>1</td>\n",
              "      <td>1.0</td>\n",
              "      <td>1.0</td>\n",
              "      <td>1.0</td>\n",
              "      <td>1</td>\n",
              "      <td>Same_Shift</td>\n",
              "      <td>1</td>\n",
              "    </tr>\n",
              "    <tr>\n",
              "      <th>3</th>\n",
              "      <td>28</td>\n",
              "      <td>0</td>\n",
              "      <td>Double</td>\n",
              "      <td>8/7/2021 7:49:31</td>\n",
              "      <td>32</td>\n",
              "      <td>33.0</td>\n",
              "      <td>61.0</td>\n",
              "      <td>3</td>\n",
              "      <td>35.0</td>\n",
              "      <td>93.0</td>\n",
              "      <td>2</td>\n",
              "      <td>34.0</td>\n",
              "      <td>35.0</td>\n",
              "      <td>35.0</td>\n",
              "      <td>128.0</td>\n",
              "      <td>35.0</td>\n",
              "      <td>0</td>\n",
              "      <td>0</td>\n",
              "      <td>267.075</td>\n",
              "      <td>266.849</td>\n",
              "      <td>620.7</td>\n",
              "      <td>457.2</td>\n",
              "      <td>620.7</td>\n",
              "      <td>457.2</td>\n",
              "      <td>284.695</td>\n",
              "      <td>284.404</td>\n",
              "      <td>0.665</td>\n",
              "      <td>0.665</td>\n",
              "      <td>0.35</td>\n",
              "      <td>0.35</td>\n",
              "      <td>872.577</td>\n",
              "      <td>873.295</td>\n",
              "      <td>5474</td>\n",
              "      <td>8.0</td>\n",
              "      <td>1</td>\n",
              "      <td>1.0</td>\n",
              "      <td>1.0</td>\n",
              "      <td>1.0</td>\n",
              "      <td>1</td>\n",
              "      <td>1.0</td>\n",
              "      <td>1.0</td>\n",
              "      <td>1.0</td>\n",
              "      <td>1</td>\n",
              "      <td>Same_Shift</td>\n",
              "      <td>1</td>\n",
              "    </tr>\n",
              "    <tr>\n",
              "      <th>4</th>\n",
              "      <td>28</td>\n",
              "      <td>0</td>\n",
              "      <td>Double</td>\n",
              "      <td>8/7/2021 7:50:06</td>\n",
              "      <td>1</td>\n",
              "      <td>35.0</td>\n",
              "      <td>68.0</td>\n",
              "      <td>3</td>\n",
              "      <td>35.0</td>\n",
              "      <td>35.0</td>\n",
              "      <td>2</td>\n",
              "      <td>35.0</td>\n",
              "      <td>35.0</td>\n",
              "      <td>37.0</td>\n",
              "      <td>130.0</td>\n",
              "      <td>37.0</td>\n",
              "      <td>0</td>\n",
              "      <td>0</td>\n",
              "      <td>267.072</td>\n",
              "      <td>266.494</td>\n",
              "      <td>608.0</td>\n",
              "      <td>467.7</td>\n",
              "      <td>608.0</td>\n",
              "      <td>467.7</td>\n",
              "      <td>284.402</td>\n",
              "      <td>284.372</td>\n",
              "      <td>0.664</td>\n",
              "      <td>0.665</td>\n",
              "      <td>0.35</td>\n",
              "      <td>0.35</td>\n",
              "      <td>872.728</td>\n",
              "      <td>874.141</td>\n",
              "      <td>4900</td>\n",
              "      <td>16.0</td>\n",
              "      <td>1</td>\n",
              "      <td>1.0</td>\n",
              "      <td>1.0</td>\n",
              "      <td>1.0</td>\n",
              "      <td>1</td>\n",
              "      <td>1.0</td>\n",
              "      <td>1.0</td>\n",
              "      <td>1.0</td>\n",
              "      <td>1</td>\n",
              "      <td>Same_Shift</td>\n",
              "      <td>1</td>\n",
              "    </tr>\n",
              "  </tbody>\n",
              "</table>\n",
              "</div>\n",
              "      <button class=\"colab-df-convert\" onclick=\"convertToInteractive('df-6a6f5e0d-12e7-4f13-bb72-bdb7b0a32446')\"\n",
              "              title=\"Convert this dataframe to an interactive table.\"\n",
              "              style=\"display:none;\">\n",
              "        \n",
              "  <svg xmlns=\"http://www.w3.org/2000/svg\" height=\"24px\"viewBox=\"0 0 24 24\"\n",
              "       width=\"24px\">\n",
              "    <path d=\"M0 0h24v24H0V0z\" fill=\"none\"/>\n",
              "    <path d=\"M18.56 5.44l.94 2.06.94-2.06 2.06-.94-2.06-.94-.94-2.06-.94 2.06-2.06.94zm-11 1L8.5 8.5l.94-2.06 2.06-.94-2.06-.94L8.5 2.5l-.94 2.06-2.06.94zm10 10l.94 2.06.94-2.06 2.06-.94-2.06-.94-.94-2.06-.94 2.06-2.06.94z\"/><path d=\"M17.41 7.96l-1.37-1.37c-.4-.4-.92-.59-1.43-.59-.52 0-1.04.2-1.43.59L10.3 9.45l-7.72 7.72c-.78.78-.78 2.05 0 2.83L4 21.41c.39.39.9.59 1.41.59.51 0 1.02-.2 1.41-.59l7.78-7.78 2.81-2.81c.8-.78.8-2.07 0-2.86zM5.41 20L4 18.59l7.72-7.72 1.47 1.35L5.41 20z\"/>\n",
              "  </svg>\n",
              "      </button>\n",
              "      \n",
              "  <style>\n",
              "    .colab-df-container {\n",
              "      display:flex;\n",
              "      flex-wrap:wrap;\n",
              "      gap: 12px;\n",
              "    }\n",
              "\n",
              "    .colab-df-convert {\n",
              "      background-color: #E8F0FE;\n",
              "      border: none;\n",
              "      border-radius: 50%;\n",
              "      cursor: pointer;\n",
              "      display: none;\n",
              "      fill: #1967D2;\n",
              "      height: 32px;\n",
              "      padding: 0 0 0 0;\n",
              "      width: 32px;\n",
              "    }\n",
              "\n",
              "    .colab-df-convert:hover {\n",
              "      background-color: #E2EBFA;\n",
              "      box-shadow: 0px 1px 2px rgba(60, 64, 67, 0.3), 0px 1px 3px 1px rgba(60, 64, 67, 0.15);\n",
              "      fill: #174EA6;\n",
              "    }\n",
              "\n",
              "    [theme=dark] .colab-df-convert {\n",
              "      background-color: #3B4455;\n",
              "      fill: #D2E3FC;\n",
              "    }\n",
              "\n",
              "    [theme=dark] .colab-df-convert:hover {\n",
              "      background-color: #434B5C;\n",
              "      box-shadow: 0px 1px 3px 1px rgba(0, 0, 0, 0.15);\n",
              "      filter: drop-shadow(0px 1px 2px rgba(0, 0, 0, 0.3));\n",
              "      fill: #FFFFFF;\n",
              "    }\n",
              "  </style>\n",
              "\n",
              "      <script>\n",
              "        const buttonEl =\n",
              "          document.querySelector('#df-6a6f5e0d-12e7-4f13-bb72-bdb7b0a32446 button.colab-df-convert');\n",
              "        buttonEl.style.display =\n",
              "          google.colab.kernel.accessAllowed ? 'block' : 'none';\n",
              "\n",
              "        async function convertToInteractive(key) {\n",
              "          const element = document.querySelector('#df-6a6f5e0d-12e7-4f13-bb72-bdb7b0a32446');\n",
              "          const dataTable =\n",
              "            await google.colab.kernel.invokeFunction('convertToInteractive',\n",
              "                                                     [key], {});\n",
              "          if (!dataTable) return;\n",
              "\n",
              "          const docLinkHtml = 'Like what you see? Visit the ' +\n",
              "            '<a target=\"_blank\" href=https://colab.research.google.com/notebooks/data_table.ipynb>data table notebook</a>'\n",
              "            + ' to learn more about interactive tables.';\n",
              "          element.innerHTML = '';\n",
              "          dataTable['output_type'] = 'display_data';\n",
              "          await google.colab.output.renderOutput(dataTable, element);\n",
              "          const docLink = document.createElement('div');\n",
              "          docLink.innerHTML = docLinkHtml;\n",
              "          element.appendChild(docLink);\n",
              "        }\n",
              "      </script>\n",
              "    </div>\n",
              "  </div>\n",
              "  "
            ],
            "text/plain": [
              "   VariantID  Variant_Change  ...  Shift_Status Final_Result\n",
              "0         28               1  ...  Shift_Change            1\n",
              "1         28               0  ...    Same_Shift            1\n",
              "2         28               0  ...    Same_Shift            1\n",
              "3         28               0  ...    Same_Shift            1\n",
              "4         28               0  ...    Same_Shift            1\n",
              "\n",
              "[5 rows x 45 columns]"
            ]
          },
          "metadata": {},
          "execution_count": 57
        }
      ]
    },
    {
      "cell_type": "code",
      "source": [
        "#checking Nan values\n",
        "df.isna().any().sum()"
      ],
      "metadata": {
        "colab": {
          "base_uri": "https://localhost:8080/"
        },
        "id": "Uhk0_fcgRQlm",
        "outputId": "e4b50438-5a71-43fd-d7c4-d18d1f5d6896"
      },
      "execution_count": 58,
      "outputs": [
        {
          "output_type": "execute_result",
          "data": {
            "text/plain": [
              "25"
            ]
          },
          "metadata": {},
          "execution_count": 58
        }
      ]
    },
    {
      "cell_type": "code",
      "source": [
        "#drop Nan values\n",
        "df = df.dropna()\n",
        "df_final = df.copy()\n",
        "\n",
        "#dropping datetime as we dont need it\n",
        "df_final.drop(['DateTimeCreated'], axis = 1, inplace = True)\n",
        "df_final = pd.get_dummies(df_final, columns=['Mono_Identity', 'Shift_Status'], drop_first=True)"
      ],
      "metadata": {
        "id": "S-SiIO3QRqIt"
      },
      "execution_count": 59,
      "outputs": []
    },
    {
      "cell_type": "code",
      "source": [
        "#describe stats of dataset\n",
        "df_final.describe()"
      ],
      "metadata": {
        "colab": {
          "base_uri": "https://localhost:8080/",
          "height": 382
        },
        "id": "-Dlpv57wRuMV",
        "outputId": "25d38571-786d-4134-f61c-7bc46f90f460"
      },
      "execution_count": 60,
      "outputs": [
        {
          "output_type": "execute_result",
          "data": {
            "text/html": [
              "\n",
              "  <div id=\"df-c0d50906-ab88-4bc5-9169-07b57de2775e\">\n",
              "    <div class=\"colab-df-container\">\n",
              "      <div>\n",
              "<style scoped>\n",
              "    .dataframe tbody tr th:only-of-type {\n",
              "        vertical-align: middle;\n",
              "    }\n",
              "\n",
              "    .dataframe tbody tr th {\n",
              "        vertical-align: top;\n",
              "    }\n",
              "\n",
              "    .dataframe thead th {\n",
              "        text-align: right;\n",
              "    }\n",
              "</style>\n",
              "<table border=\"1\" class=\"dataframe\">\n",
              "  <thead>\n",
              "    <tr style=\"text-align: right;\">\n",
              "      <th></th>\n",
              "      <th>VariantID</th>\n",
              "      <th>Variant_Change</th>\n",
              "      <th>Mono_MM_Delay (s)</th>\n",
              "      <th>A_Mono_MM_Duration (s)</th>\n",
              "      <th>B_Mono_MM_Duration (s)</th>\n",
              "      <th>Wrap_Delay (s)</th>\n",
              "      <th>A_Wrapping_Duration (s)</th>\n",
              "      <th>B_Wrapping_Duration (s)</th>\n",
              "      <th>Press_Delay (s)</th>\n",
              "      <th>A_Pressing_Duration (s)</th>\n",
              "      <th>B_Pressing_Duration (s)</th>\n",
              "      <th>GBD_MM Duration (s)</th>\n",
              "      <th>OperationTime (s)</th>\n",
              "      <th>CycleTime (s)</th>\n",
              "      <th>Downtime (s)</th>\n",
              "      <th>ShutDown (s)</th>\n",
              "      <th>A_MonoMM_Dia</th>\n",
              "      <th>B_MonoMM_Dia</th>\n",
              "      <th>A_MatWeight</th>\n",
              "      <th>B_MatWeight</th>\n",
              "      <th>A_GBD_MM_Gap</th>\n",
              "      <th>B_GBD_MM_Gap</th>\n",
              "      <th>A_GBD_Diameter</th>\n",
              "      <th>B_GBD_Diameter</th>\n",
              "      <th>A_GBD</th>\n",
              "      <th>B_GBD</th>\n",
              "      <th>A_PressSB</th>\n",
              "      <th>B_PressSB</th>\n",
              "      <th>A_PressDispl</th>\n",
              "      <th>B_PressDispl</th>\n",
              "      <th>A_PForce</th>\n",
              "      <th>B_PForce</th>\n",
              "      <th>A_MonoMM_Result</th>\n",
              "      <th>B_MonoMM_Result</th>\n",
              "      <th>A_GBD_Result</th>\n",
              "      <th>B_GBD_Result</th>\n",
              "      <th>A_Press_Result</th>\n",
              "      <th>B_Press_Result</th>\n",
              "      <th>A_Marking_Result</th>\n",
              "      <th>B_Marking_Result</th>\n",
              "      <th>ShiftNumber</th>\n",
              "      <th>Final_Result</th>\n",
              "      <th>Shift_Status_Shift_Change</th>\n",
              "    </tr>\n",
              "  </thead>\n",
              "  <tbody>\n",
              "    <tr>\n",
              "      <th>count</th>\n",
              "      <td>21707.000000</td>\n",
              "      <td>21707.000000</td>\n",
              "      <td>21707.000000</td>\n",
              "      <td>21707.000000</td>\n",
              "      <td>21707.000000</td>\n",
              "      <td>21707.000000</td>\n",
              "      <td>21707.000000</td>\n",
              "      <td>21707.000000</td>\n",
              "      <td>21707.000000</td>\n",
              "      <td>21707.000000</td>\n",
              "      <td>21707.000000</td>\n",
              "      <td>21707.000000</td>\n",
              "      <td>21707.000000</td>\n",
              "      <td>21707.000000</td>\n",
              "      <td>21707.000000</td>\n",
              "      <td>21707.000000</td>\n",
              "      <td>21707.000000</td>\n",
              "      <td>21707.000000</td>\n",
              "      <td>21707.000000</td>\n",
              "      <td>21707.000000</td>\n",
              "      <td>21707.000000</td>\n",
              "      <td>21707.000000</td>\n",
              "      <td>21707.000000</td>\n",
              "      <td>21707.000000</td>\n",
              "      <td>21707.000000</td>\n",
              "      <td>21707.000000</td>\n",
              "      <td>21707.000000</td>\n",
              "      <td>21707.000000</td>\n",
              "      <td>21707.000000</td>\n",
              "      <td>21707.000000</td>\n",
              "      <td>21707.000000</td>\n",
              "      <td>21707.000000</td>\n",
              "      <td>21707.0</td>\n",
              "      <td>21707.0</td>\n",
              "      <td>21707.000000</td>\n",
              "      <td>21707.000000</td>\n",
              "      <td>21707.000000</td>\n",
              "      <td>21707.000000</td>\n",
              "      <td>21707.000000</td>\n",
              "      <td>21707.000000</td>\n",
              "      <td>21707.000000</td>\n",
              "      <td>21707.000000</td>\n",
              "      <td>21707.000000</td>\n",
              "    </tr>\n",
              "    <tr>\n",
              "      <th>mean</th>\n",
              "      <td>16.659004</td>\n",
              "      <td>0.003501</td>\n",
              "      <td>64.820427</td>\n",
              "      <td>309.410789</td>\n",
              "      <td>309.443497</td>\n",
              "      <td>31.198001</td>\n",
              "      <td>309.298936</td>\n",
              "      <td>359.282029</td>\n",
              "      <td>2.005851</td>\n",
              "      <td>309.308103</td>\n",
              "      <td>359.284056</td>\n",
              "      <td>309.609020</td>\n",
              "      <td>216.428203</td>\n",
              "      <td>309.588934</td>\n",
              "      <td>258.661584</td>\n",
              "      <td>170.293408</td>\n",
              "      <td>262.869815</td>\n",
              "      <td>262.464629</td>\n",
              "      <td>582.755051</td>\n",
              "      <td>404.415944</td>\n",
              "      <td>582.755051</td>\n",
              "      <td>404.415944</td>\n",
              "      <td>280.063268</td>\n",
              "      <td>279.706141</td>\n",
              "      <td>0.657848</td>\n",
              "      <td>0.655930</td>\n",
              "      <td>0.607546</td>\n",
              "      <td>0.607546</td>\n",
              "      <td>863.852756</td>\n",
              "      <td>889.682324</td>\n",
              "      <td>2305.511033</td>\n",
              "      <td>1461.306767</td>\n",
              "      <td>1.0</td>\n",
              "      <td>1.0</td>\n",
              "      <td>0.998157</td>\n",
              "      <td>0.998111</td>\n",
              "      <td>0.999724</td>\n",
              "      <td>0.999908</td>\n",
              "      <td>0.991570</td>\n",
              "      <td>0.991570</td>\n",
              "      <td>1.463261</td>\n",
              "      <td>0.991570</td>\n",
              "      <td>0.004791</td>\n",
              "    </tr>\n",
              "    <tr>\n",
              "      <th>std</th>\n",
              "      <td>9.552635</td>\n",
              "      <td>0.059068</td>\n",
              "      <td>213.854016</td>\n",
              "      <td>4530.430329</td>\n",
              "      <td>4531.763320</td>\n",
              "      <td>153.378024</td>\n",
              "      <td>4529.169425</td>\n",
              "      <td>5163.897227</td>\n",
              "      <td>0.852156</td>\n",
              "      <td>4538.347670</td>\n",
              "      <td>5169.894689</td>\n",
              "      <td>4538.498229</td>\n",
              "      <td>467.875071</td>\n",
              "      <td>4538.829485</td>\n",
              "      <td>4538.148133</td>\n",
              "      <td>4501.166075</td>\n",
              "      <td>11.864128</td>\n",
              "      <td>11.848679</td>\n",
              "      <td>90.915466</td>\n",
              "      <td>62.724015</td>\n",
              "      <td>90.915466</td>\n",
              "      <td>62.724015</td>\n",
              "      <td>12.948190</td>\n",
              "      <td>12.889446</td>\n",
              "      <td>0.024188</td>\n",
              "      <td>0.022084</td>\n",
              "      <td>0.268248</td>\n",
              "      <td>0.268248</td>\n",
              "      <td>29.629482</td>\n",
              "      <td>26.259635</td>\n",
              "      <td>1093.524388</td>\n",
              "      <td>1748.909155</td>\n",
              "      <td>0.0</td>\n",
              "      <td>0.0</td>\n",
              "      <td>0.042888</td>\n",
              "      <td>0.043420</td>\n",
              "      <td>0.016624</td>\n",
              "      <td>0.009599</td>\n",
              "      <td>0.091432</td>\n",
              "      <td>0.091432</td>\n",
              "      <td>0.536662</td>\n",
              "      <td>0.091432</td>\n",
              "      <td>0.069053</td>\n",
              "    </tr>\n",
              "    <tr>\n",
              "      <th>min</th>\n",
              "      <td>7.000000</td>\n",
              "      <td>0.000000</td>\n",
              "      <td>0.000000</td>\n",
              "      <td>0.000000</td>\n",
              "      <td>0.000000</td>\n",
              "      <td>0.000000</td>\n",
              "      <td>32.000000</td>\n",
              "      <td>31.000000</td>\n",
              "      <td>1.000000</td>\n",
              "      <td>23.000000</td>\n",
              "      <td>25.000000</td>\n",
              "      <td>1.000000</td>\n",
              "      <td>111.000000</td>\n",
              "      <td>26.000000</td>\n",
              "      <td>0.000000</td>\n",
              "      <td>0.000000</td>\n",
              "      <td>228.513000</td>\n",
              "      <td>228.161000</td>\n",
              "      <td>305.100000</td>\n",
              "      <td>217.300000</td>\n",
              "      <td>305.100000</td>\n",
              "      <td>217.300000</td>\n",
              "      <td>242.241000</td>\n",
              "      <td>242.017000</td>\n",
              "      <td>0.361000</td>\n",
              "      <td>0.376000</td>\n",
              "      <td>0.300000</td>\n",
              "      <td>0.300000</td>\n",
              "      <td>742.803000</td>\n",
              "      <td>759.300000</td>\n",
              "      <td>0.000000</td>\n",
              "      <td>0.000000</td>\n",
              "      <td>1.0</td>\n",
              "      <td>1.0</td>\n",
              "      <td>0.000000</td>\n",
              "      <td>0.000000</td>\n",
              "      <td>0.000000</td>\n",
              "      <td>0.000000</td>\n",
              "      <td>0.000000</td>\n",
              "      <td>0.000000</td>\n",
              "      <td>1.000000</td>\n",
              "      <td>0.000000</td>\n",
              "      <td>0.000000</td>\n",
              "    </tr>\n",
              "    <tr>\n",
              "      <th>25%</th>\n",
              "      <td>7.000000</td>\n",
              "      <td>0.000000</td>\n",
              "      <td>1.000000</td>\n",
              "      <td>35.000000</td>\n",
              "      <td>36.000000</td>\n",
              "      <td>2.000000</td>\n",
              "      <td>35.000000</td>\n",
              "      <td>35.000000</td>\n",
              "      <td>2.000000</td>\n",
              "      <td>35.000000</td>\n",
              "      <td>35.000000</td>\n",
              "      <td>36.000000</td>\n",
              "      <td>130.000000</td>\n",
              "      <td>36.000000</td>\n",
              "      <td>0.000000</td>\n",
              "      <td>0.000000</td>\n",
              "      <td>266.903000</td>\n",
              "      <td>266.497000</td>\n",
              "      <td>588.800000</td>\n",
              "      <td>344.800000</td>\n",
              "      <td>588.800000</td>\n",
              "      <td>344.800000</td>\n",
              "      <td>284.094000</td>\n",
              "      <td>283.636000</td>\n",
              "      <td>0.644000</td>\n",
              "      <td>0.643000</td>\n",
              "      <td>0.350000</td>\n",
              "      <td>0.350000</td>\n",
              "      <td>871.630000</td>\n",
              "      <td>873.446000</td>\n",
              "      <td>1712.000000</td>\n",
              "      <td>14.000000</td>\n",
              "      <td>1.0</td>\n",
              "      <td>1.0</td>\n",
              "      <td>1.000000</td>\n",
              "      <td>1.000000</td>\n",
              "      <td>1.000000</td>\n",
              "      <td>1.000000</td>\n",
              "      <td>1.000000</td>\n",
              "      <td>1.000000</td>\n",
              "      <td>1.000000</td>\n",
              "      <td>1.000000</td>\n",
              "      <td>0.000000</td>\n",
              "    </tr>\n",
              "    <tr>\n",
              "      <th>50%</th>\n",
              "      <td>17.000000</td>\n",
              "      <td>0.000000</td>\n",
              "      <td>19.000000</td>\n",
              "      <td>39.000000</td>\n",
              "      <td>41.000000</td>\n",
              "      <td>3.000000</td>\n",
              "      <td>36.000000</td>\n",
              "      <td>37.000000</td>\n",
              "      <td>2.000000</td>\n",
              "      <td>37.000000</td>\n",
              "      <td>37.000000</td>\n",
              "      <td>39.000000</td>\n",
              "      <td>138.000000</td>\n",
              "      <td>39.000000</td>\n",
              "      <td>0.000000</td>\n",
              "      <td>0.000000</td>\n",
              "      <td>267.022000</td>\n",
              "      <td>266.585000</td>\n",
              "      <td>601.800000</td>\n",
              "      <td>430.200000</td>\n",
              "      <td>601.800000</td>\n",
              "      <td>430.200000</td>\n",
              "      <td>284.432000</td>\n",
              "      <td>284.045000</td>\n",
              "      <td>0.660000</td>\n",
              "      <td>0.660000</td>\n",
              "      <td>0.500000</td>\n",
              "      <td>0.500000</td>\n",
              "      <td>872.999000</td>\n",
              "      <td>875.349000</td>\n",
              "      <td>2314.000000</td>\n",
              "      <td>626.000000</td>\n",
              "      <td>1.0</td>\n",
              "      <td>1.0</td>\n",
              "      <td>1.000000</td>\n",
              "      <td>1.000000</td>\n",
              "      <td>1.000000</td>\n",
              "      <td>1.000000</td>\n",
              "      <td>1.000000</td>\n",
              "      <td>1.000000</td>\n",
              "      <td>1.000000</td>\n",
              "      <td>1.000000</td>\n",
              "      <td>0.000000</td>\n",
              "    </tr>\n",
              "    <tr>\n",
              "      <th>75%</th>\n",
              "      <td>27.000000</td>\n",
              "      <td>0.000000</td>\n",
              "      <td>70.000000</td>\n",
              "      <td>94.000000</td>\n",
              "      <td>94.000000</td>\n",
              "      <td>6.000000</td>\n",
              "      <td>96.000000</td>\n",
              "      <td>96.000000</td>\n",
              "      <td>2.000000</td>\n",
              "      <td>95.000000</td>\n",
              "      <td>95.000000</td>\n",
              "      <td>95.000000</td>\n",
              "      <td>200.000000</td>\n",
              "      <td>96.000000</td>\n",
              "      <td>0.000000</td>\n",
              "      <td>0.000000</td>\n",
              "      <td>267.091000</td>\n",
              "      <td>266.674000</td>\n",
              "      <td>627.700000</td>\n",
              "      <td>450.000000</td>\n",
              "      <td>627.700000</td>\n",
              "      <td>450.000000</td>\n",
              "      <td>284.847000</td>\n",
              "      <td>284.563000</td>\n",
              "      <td>0.667000</td>\n",
              "      <td>0.666000</td>\n",
              "      <td>0.900000</td>\n",
              "      <td>0.900000</td>\n",
              "      <td>873.759000</td>\n",
              "      <td>896.242000</td>\n",
              "      <td>2899.000000</td>\n",
              "      <td>2624.000000</td>\n",
              "      <td>1.0</td>\n",
              "      <td>1.0</td>\n",
              "      <td>1.000000</td>\n",
              "      <td>1.000000</td>\n",
              "      <td>1.000000</td>\n",
              "      <td>1.000000</td>\n",
              "      <td>1.000000</td>\n",
              "      <td>1.000000</td>\n",
              "      <td>2.000000</td>\n",
              "      <td>1.000000</td>\n",
              "      <td>0.000000</td>\n",
              "    </tr>\n",
              "    <tr>\n",
              "      <th>max</th>\n",
              "      <td>37.000000</td>\n",
              "      <td>1.000000</td>\n",
              "      <td>9786.000000</td>\n",
              "      <td>328036.000000</td>\n",
              "      <td>328363.000000</td>\n",
              "      <td>9772.000000</td>\n",
              "      <td>328036.000000</td>\n",
              "      <td>328345.000000</td>\n",
              "      <td>34.000000</td>\n",
              "      <td>328345.000000</td>\n",
              "      <td>328345.000000</td>\n",
              "      <td>328365.000000</td>\n",
              "      <td>27091.000000</td>\n",
              "      <td>328391.000000</td>\n",
              "      <td>328329.000000</td>\n",
              "      <td>328329.000000</td>\n",
              "      <td>267.520000</td>\n",
              "      <td>267.337000</td>\n",
              "      <td>677.900000</td>\n",
              "      <td>501.500000</td>\n",
              "      <td>677.900000</td>\n",
              "      <td>501.500000</td>\n",
              "      <td>292.175000</td>\n",
              "      <td>292.206000</td>\n",
              "      <td>0.752000</td>\n",
              "      <td>0.755000</td>\n",
              "      <td>1.000000</td>\n",
              "      <td>1.000000</td>\n",
              "      <td>875.715000</td>\n",
              "      <td>971.177000</td>\n",
              "      <td>53258.000000</td>\n",
              "      <td>53336.000000</td>\n",
              "      <td>1.0</td>\n",
              "      <td>1.0</td>\n",
              "      <td>1.000000</td>\n",
              "      <td>1.000000</td>\n",
              "      <td>1.000000</td>\n",
              "      <td>1.000000</td>\n",
              "      <td>1.000000</td>\n",
              "      <td>1.000000</td>\n",
              "      <td>3.000000</td>\n",
              "      <td>1.000000</td>\n",
              "      <td>1.000000</td>\n",
              "    </tr>\n",
              "  </tbody>\n",
              "</table>\n",
              "</div>\n",
              "      <button class=\"colab-df-convert\" onclick=\"convertToInteractive('df-c0d50906-ab88-4bc5-9169-07b57de2775e')\"\n",
              "              title=\"Convert this dataframe to an interactive table.\"\n",
              "              style=\"display:none;\">\n",
              "        \n",
              "  <svg xmlns=\"http://www.w3.org/2000/svg\" height=\"24px\"viewBox=\"0 0 24 24\"\n",
              "       width=\"24px\">\n",
              "    <path d=\"M0 0h24v24H0V0z\" fill=\"none\"/>\n",
              "    <path d=\"M18.56 5.44l.94 2.06.94-2.06 2.06-.94-2.06-.94-.94-2.06-.94 2.06-2.06.94zm-11 1L8.5 8.5l.94-2.06 2.06-.94-2.06-.94L8.5 2.5l-.94 2.06-2.06.94zm10 10l.94 2.06.94-2.06 2.06-.94-2.06-.94-.94-2.06-.94 2.06-2.06.94z\"/><path d=\"M17.41 7.96l-1.37-1.37c-.4-.4-.92-.59-1.43-.59-.52 0-1.04.2-1.43.59L10.3 9.45l-7.72 7.72c-.78.78-.78 2.05 0 2.83L4 21.41c.39.39.9.59 1.41.59.51 0 1.02-.2 1.41-.59l7.78-7.78 2.81-2.81c.8-.78.8-2.07 0-2.86zM5.41 20L4 18.59l7.72-7.72 1.47 1.35L5.41 20z\"/>\n",
              "  </svg>\n",
              "      </button>\n",
              "      \n",
              "  <style>\n",
              "    .colab-df-container {\n",
              "      display:flex;\n",
              "      flex-wrap:wrap;\n",
              "      gap: 12px;\n",
              "    }\n",
              "\n",
              "    .colab-df-convert {\n",
              "      background-color: #E8F0FE;\n",
              "      border: none;\n",
              "      border-radius: 50%;\n",
              "      cursor: pointer;\n",
              "      display: none;\n",
              "      fill: #1967D2;\n",
              "      height: 32px;\n",
              "      padding: 0 0 0 0;\n",
              "      width: 32px;\n",
              "    }\n",
              "\n",
              "    .colab-df-convert:hover {\n",
              "      background-color: #E2EBFA;\n",
              "      box-shadow: 0px 1px 2px rgba(60, 64, 67, 0.3), 0px 1px 3px 1px rgba(60, 64, 67, 0.15);\n",
              "      fill: #174EA6;\n",
              "    }\n",
              "\n",
              "    [theme=dark] .colab-df-convert {\n",
              "      background-color: #3B4455;\n",
              "      fill: #D2E3FC;\n",
              "    }\n",
              "\n",
              "    [theme=dark] .colab-df-convert:hover {\n",
              "      background-color: #434B5C;\n",
              "      box-shadow: 0px 1px 3px 1px rgba(0, 0, 0, 0.15);\n",
              "      filter: drop-shadow(0px 1px 2px rgba(0, 0, 0, 0.3));\n",
              "      fill: #FFFFFF;\n",
              "    }\n",
              "  </style>\n",
              "\n",
              "      <script>\n",
              "        const buttonEl =\n",
              "          document.querySelector('#df-c0d50906-ab88-4bc5-9169-07b57de2775e button.colab-df-convert');\n",
              "        buttonEl.style.display =\n",
              "          google.colab.kernel.accessAllowed ? 'block' : 'none';\n",
              "\n",
              "        async function convertToInteractive(key) {\n",
              "          const element = document.querySelector('#df-c0d50906-ab88-4bc5-9169-07b57de2775e');\n",
              "          const dataTable =\n",
              "            await google.colab.kernel.invokeFunction('convertToInteractive',\n",
              "                                                     [key], {});\n",
              "          if (!dataTable) return;\n",
              "\n",
              "          const docLinkHtml = 'Like what you see? Visit the ' +\n",
              "            '<a target=\"_blank\" href=https://colab.research.google.com/notebooks/data_table.ipynb>data table notebook</a>'\n",
              "            + ' to learn more about interactive tables.';\n",
              "          element.innerHTML = '';\n",
              "          dataTable['output_type'] = 'display_data';\n",
              "          await google.colab.output.renderOutput(dataTable, element);\n",
              "          const docLink = document.createElement('div');\n",
              "          docLink.innerHTML = docLinkHtml;\n",
              "          element.appendChild(docLink);\n",
              "        }\n",
              "      </script>\n",
              "    </div>\n",
              "  </div>\n",
              "  "
            ],
            "text/plain": [
              "          VariantID  Variant_Change  ...  Final_Result  Shift_Status_Shift_Change\n",
              "count  21707.000000    21707.000000  ...  21707.000000               21707.000000\n",
              "mean      16.659004        0.003501  ...      0.991570                   0.004791\n",
              "std        9.552635        0.059068  ...      0.091432                   0.069053\n",
              "min        7.000000        0.000000  ...      0.000000                   0.000000\n",
              "25%        7.000000        0.000000  ...      1.000000                   0.000000\n",
              "50%       17.000000        0.000000  ...      1.000000                   0.000000\n",
              "75%       27.000000        0.000000  ...      1.000000                   0.000000\n",
              "max       37.000000        1.000000  ...      1.000000                   1.000000\n",
              "\n",
              "[8 rows x 43 columns]"
            ]
          },
          "metadata": {},
          "execution_count": 60
        }
      ]
    },
    {
      "cell_type": "code",
      "source": [
        "X = df_final.drop(['Final_Result'], axis = 1)\n",
        "y = df_final.Final_Result"
      ],
      "metadata": {
        "id": "DxP8eg22RwqW"
      },
      "execution_count": 61,
      "outputs": []
    },
    {
      "cell_type": "code",
      "source": [
        "#split the dataset\n",
        "X_train, X_test, y_train, y_test = train_test_split(X, y, test_size = 0.2, random_state = 24, stratify = X.VariantID)"
      ],
      "metadata": {
        "id": "xCbqoxe2RywN"
      },
      "execution_count": 62,
      "outputs": []
    },
    {
      "cell_type": "code",
      "source": [
        "X_train.shape, y_train.shape"
      ],
      "metadata": {
        "colab": {
          "base_uri": "https://localhost:8080/"
        },
        "id": "pJBKCQxpR6DV",
        "outputId": "b07ba86a-4e7f-4082-be53-70345fadd2f1"
      },
      "execution_count": 63,
      "outputs": [
        {
          "output_type": "execute_result",
          "data": {
            "text/plain": [
              "((17365, 42), (17365,))"
            ]
          },
          "metadata": {},
          "execution_count": 63
        }
      ]
    },
    {
      "cell_type": "code",
      "source": [
        "X_test.shape, y_test.shape"
      ],
      "metadata": {
        "colab": {
          "base_uri": "https://localhost:8080/"
        },
        "id": "rLlJ9fXdR6VV",
        "outputId": "fed221cb-d67b-4507-8ceb-7abb52615b8e"
      },
      "execution_count": 64,
      "outputs": [
        {
          "output_type": "execute_result",
          "data": {
            "text/plain": [
              "((4342, 42), (4342,))"
            ]
          },
          "metadata": {},
          "execution_count": 64
        }
      ]
    },
    {
      "cell_type": "code",
      "source": [
        "#normalizing the dataset\n",
        "Std_scaler = StandardScaler()\n",
        "X_train_scaled = Std_scaler.fit_transform(X_train)\n",
        "X_test_scaled = Std_scaler.transform(X_test)"
      ],
      "metadata": {
        "id": "UPK4JsuER8C9"
      },
      "execution_count": 65,
      "outputs": []
    },
    {
      "cell_type": "code",
      "source": [
        "#list of classifiers\n",
        "Classifier_list = [\n",
        "    GradientBoostingClassifier(),\n",
        "    RandomForestClassifier(),\n",
        "    DecisionTreeClassifier()\n",
        "]"
      ],
      "metadata": {
        "id": "gTI-G_lFSBRl"
      },
      "execution_count": 66,
      "outputs": []
    },
    {
      "cell_type": "code",
      "source": [
        "# score of all the classifiers\n",
        "for model in Classifier_list:\n",
        "    model.fit(X_train, y_train)\n",
        "    y_pred = model.predict(X_test_scaled)\n",
        "    print(model)\n",
        "    print(\"f1-score:\", f1_score(y_test, y_pred, average='weighted'))\n",
        "    print()"
      ],
      "metadata": {
        "colab": {
          "base_uri": "https://localhost:8080/"
        },
        "id": "63FMQaeySGOl",
        "outputId": "19e0ec3e-8887-4c15-de79-17d76c165a60"
      },
      "execution_count": 67,
      "outputs": [
        {
          "output_type": "stream",
          "name": "stderr",
          "text": [
            "/usr/local/lib/python3.7/dist-packages/sklearn/base.py:446: UserWarning: X does not have valid feature names, but GradientBoostingClassifier was fitted with feature names\n",
            "  \"X does not have valid feature names, but\"\n"
          ]
        },
        {
          "output_type": "stream",
          "name": "stdout",
          "text": [
            "GradientBoostingClassifier()\n",
            "f1-score: 0.00014400205158218704\n",
            "\n",
            "RandomForestClassifier()\n",
            "f1-score: 0.00014400205158218704\n",
            "\n",
            "DecisionTreeClassifier()\n",
            "f1-score: 0.00014400205158218704\n",
            "\n"
          ]
        },
        {
          "output_type": "stream",
          "name": "stderr",
          "text": [
            "/usr/local/lib/python3.7/dist-packages/sklearn/base.py:446: UserWarning: X does not have valid feature names, but RandomForestClassifier was fitted with feature names\n",
            "  \"X does not have valid feature names, but\"\n",
            "/usr/local/lib/python3.7/dist-packages/sklearn/base.py:446: UserWarning: X does not have valid feature names, but DecisionTreeClassifier was fitted with feature names\n",
            "  \"X does not have valid feature names, but\"\n"
          ]
        }
      ]
    },
    {
      "cell_type": "code",
      "source": [
        "# hyperparameter tuning\n",
        "parameters_rfg = { 'n_estimators' : [int(x) for x in np.linspace(start = 30, stop = 300, num = 10)],\n",
        "              'max_depth' : [int(x) for x in np.linspace(10, 50, num = 10)],\n",
        "              'max_features' : ['auto', 'sqrt'],\n",
        "              'min_samples_split' : [2, 5, 7],\n",
        "              'min_samples_leaf' : [1, 2, 4]\n",
        "             }"
      ],
      "metadata": {
        "id": "aEfPMjX0SDa1"
      },
      "execution_count": 68,
      "outputs": []
    },
    {
      "cell_type": "code",
      "source": [
        "# fitting the model to data\n",
        "Rf_reg = RandomForestClassifier()\n",
        "\n",
        "RF_reg_cv = RandomizedSearchCV(estimator = Rf_reg, \n",
        "                         param_distributions= parameters_rfg,\n",
        "                         cv = 3, verbose =2, random_state = 24, n_jobs = -1)\n",
        "RF_reg_cv.fit(X_train_scaled, y_train)"
      ],
      "metadata": {
        "colab": {
          "base_uri": "https://localhost:8080/"
        },
        "id": "DT5O9Q7mS-iU",
        "outputId": "6b43ff9a-8366-4d01-8604-220da3de0ff1"
      },
      "execution_count": 70,
      "outputs": [
        {
          "output_type": "stream",
          "name": "stdout",
          "text": [
            "Fitting 3 folds for each of 10 candidates, totalling 30 fits\n"
          ]
        },
        {
          "output_type": "execute_result",
          "data": {
            "text/plain": [
              "RandomizedSearchCV(cv=3, estimator=RandomForestClassifier(), n_jobs=-1,\n",
              "                   param_distributions={'max_depth': [10, 14, 18, 23, 27, 32,\n",
              "                                                      36, 41, 45, 50],\n",
              "                                        'max_features': ['auto', 'sqrt'],\n",
              "                                        'min_samples_leaf': [1, 2, 4],\n",
              "                                        'min_samples_split': [2, 5, 7],\n",
              "                                        'n_estimators': [30, 60, 90, 120, 150,\n",
              "                                                         180, 210, 240, 270,\n",
              "                                                         300]},\n",
              "                   random_state=24, verbose=2)"
            ]
          },
          "metadata": {},
          "execution_count": 70
        }
      ]
    },
    {
      "cell_type": "code",
      "source": [
        "#best parameter after hyperparameter tuning\n",
        "RF_reg_cv.best_params_"
      ],
      "metadata": {
        "colab": {
          "base_uri": "https://localhost:8080/"
        },
        "id": "oq3bW0qzTRWc",
        "outputId": "b75320f7-ecd9-48bc-d310-3f7b0d4cd657"
      },
      "execution_count": 71,
      "outputs": [
        {
          "output_type": "execute_result",
          "data": {
            "text/plain": [
              "{'max_depth': 18,\n",
              " 'max_features': 'auto',\n",
              " 'min_samples_leaf': 2,\n",
              " 'min_samples_split': 7,\n",
              " 'n_estimators': 270}"
            ]
          },
          "metadata": {},
          "execution_count": 71
        }
      ]
    },
    {
      "cell_type": "code",
      "source": [
        "RF_reg_cv"
      ],
      "metadata": {
        "colab": {
          "base_uri": "https://localhost:8080/"
        },
        "id": "D8uEtemOTTmk",
        "outputId": "0aaf5195-1c30-4334-9076-29fc01bfe40d"
      },
      "execution_count": 72,
      "outputs": [
        {
          "output_type": "execute_result",
          "data": {
            "text/plain": [
              "RandomizedSearchCV(cv=3, estimator=RandomForestClassifier(), n_jobs=-1,\n",
              "                   param_distributions={'max_depth': [10, 14, 18, 23, 27, 32,\n",
              "                                                      36, 41, 45, 50],\n",
              "                                        'max_features': ['auto', 'sqrt'],\n",
              "                                        'min_samples_leaf': [1, 2, 4],\n",
              "                                        'min_samples_split': [2, 5, 7],\n",
              "                                        'n_estimators': [30, 60, 90, 120, 150,\n",
              "                                                         180, 210, 240, 270,\n",
              "                                                         300]},\n",
              "                   random_state=24, verbose=2)"
            ]
          },
          "metadata": {},
          "execution_count": 72
        }
      ]
    },
    {
      "cell_type": "code",
      "source": [
        "#fit the best model\n",
        "best_model = RF_reg_cv.best_estimator_\n",
        "preds_Rf = best_model.predict(X_test_scaled)"
      ],
      "metadata": {
        "id": "bmC8E7muTVIc"
      },
      "execution_count": 73,
      "outputs": []
    },
    {
      "cell_type": "code",
      "source": [
        "#score of the model\n",
        "print(\"f1-score:\", f1_score(y_test, preds_Rf, average='weighted'))"
      ],
      "metadata": {
        "colab": {
          "base_uri": "https://localhost:8080/"
        },
        "id": "XZvOuqCDTb7D",
        "outputId": "4bfff031-e56a-4873-9ba0-91edd87bd254"
      },
      "execution_count": 74,
      "outputs": [
        {
          "output_type": "stream",
          "name": "stdout",
          "text": [
            "f1-score: 1.0\n"
          ]
        }
      ]
    },
    {
      "cell_type": "code",
      "source": [
        ""
      ],
      "metadata": {
        "id": "ULMb0JwcToad"
      },
      "execution_count": 74,
      "outputs": []
    },
    {
      "cell_type": "markdown",
      "source": [
        "## Neural Network"
      ],
      "metadata": {
        "id": "7RzUNYD6TvQX"
      }
    },
    {
      "cell_type": "code",
      "source": [
        "#linear activation\n",
        "model = Sequential()\n",
        "model.add(Dense(64, activation = 'relu', input_shape = (X_train_scaled.shape[1],)))\n",
        "model.add(Dense(16, activation='relu'))\n",
        "model.add(Dense(1, activation='sigmoid'))\n",
        "\n",
        "#using adam as the optimizer\n",
        "model.compile(optimizer = 'adam', loss = 'binary_crossentropy')\n",
        "model.summary()"
      ],
      "metadata": {
        "colab": {
          "base_uri": "https://localhost:8080/"
        },
        "id": "4ES7co2SRpum",
        "outputId": "7841cb8a-e73a-4004-98d8-6db295664ec2"
      },
      "execution_count": 75,
      "outputs": [
        {
          "output_type": "stream",
          "name": "stdout",
          "text": [
            "Model: \"sequential_5\"\n",
            "_________________________________________________________________\n",
            " Layer (type)                Output Shape              Param #   \n",
            "=================================================================\n",
            " dense_20 (Dense)            (None, 64)                2752      \n",
            "                                                                 \n",
            " dense_21 (Dense)            (None, 16)                1040      \n",
            "                                                                 \n",
            " dense_22 (Dense)            (None, 1)                 17        \n",
            "                                                                 \n",
            "=================================================================\n",
            "Total params: 3,809\n",
            "Trainable params: 3,809\n",
            "Non-trainable params: 0\n",
            "_________________________________________________________________\n"
          ]
        }
      ]
    },
    {
      "cell_type": "code",
      "source": [
        "#training the model\n",
        "model.fit(X_train_scaled, y_train, epochs = 10, verbose = 2)"
      ],
      "metadata": {
        "colab": {
          "base_uri": "https://localhost:8080/"
        },
        "id": "BIm2AscyUIDr",
        "outputId": "3b051372-f7e9-4edc-9f0e-0cfd3eaac38f"
      },
      "execution_count": 76,
      "outputs": [
        {
          "output_type": "stream",
          "name": "stdout",
          "text": [
            "Epoch 1/10\n",
            "543/543 - 1s - loss: 0.0394 - 1s/epoch - 3ms/step\n",
            "Epoch 2/10\n",
            "543/543 - 1s - loss: 3.6146e-04 - 742ms/epoch - 1ms/step\n",
            "Epoch 3/10\n",
            "543/543 - 1s - loss: 8.4640e-05 - 850ms/epoch - 2ms/step\n",
            "Epoch 4/10\n",
            "543/543 - 1s - loss: 3.9687e-05 - 799ms/epoch - 1ms/step\n",
            "Epoch 5/10\n",
            "543/543 - 1s - loss: 2.2149e-05 - 709ms/epoch - 1ms/step\n",
            "Epoch 6/10\n",
            "543/543 - 1s - loss: 1.3515e-05 - 738ms/epoch - 1ms/step\n",
            "Epoch 7/10\n",
            "543/543 - 1s - loss: 8.7144e-06 - 735ms/epoch - 1ms/step\n",
            "Epoch 8/10\n",
            "543/543 - 1s - loss: 5.8249e-06 - 691ms/epoch - 1ms/step\n",
            "Epoch 9/10\n",
            "543/543 - 1s - loss: 3.9891e-06 - 1s/epoch - 2ms/step\n",
            "Epoch 10/10\n",
            "543/543 - 1s - loss: 2.7833e-06 - 639ms/epoch - 1ms/step\n"
          ]
        },
        {
          "output_type": "execute_result",
          "data": {
            "text/plain": [
              "<keras.callbacks.History at 0x7fe31d4dbe90>"
            ]
          },
          "metadata": {},
          "execution_count": 76
        }
      ]
    },
    {
      "cell_type": "code",
      "source": [
        "#plot model graph\n",
        "plt.plot(model.history.history['loss'])"
      ],
      "metadata": {
        "colab": {
          "base_uri": "https://localhost:8080/",
          "height": 282
        },
        "id": "X4FM0rKeUKfj",
        "outputId": "165f145a-90dd-4132-81d4-e40bb8265baf"
      },
      "execution_count": 77,
      "outputs": [
        {
          "output_type": "execute_result",
          "data": {
            "text/plain": [
              "[<matplotlib.lines.Line2D at 0x7fe31d39ba50>]"
            ]
          },
          "metadata": {},
          "execution_count": 77
        },
        {
          "output_type": "display_data",
          "data": {
            "image/png": "[encoded data removed]",
            "text/plain": [
              "<Figure size 432x288 with 1 Axes>"
            ]
          },
          "metadata": {
            "needs_background": "light"
          }
        }
      ]
    },
    {
      "cell_type": "code",
      "source": [
        "#predictions\n",
        "scores = model.evaluate(X_test_scaled, y_test, verbose=0)\n",
        "print(f'Loss on Test-set : {np.round(scores, 6)}')"
      ],
      "metadata": {
        "colab": {
          "base_uri": "https://localhost:8080/"
        },
        "id": "K8eYTbvlUE_8",
        "outputId": "9b08eb50-1457-4ad4-82b7-4ef6d3c3b9a3"
      },
      "execution_count": 78,
      "outputs": [
        {
          "output_type": "stream",
          "name": "stdout",
          "text": [
            "Loss on Test-set : 2e-06\n"
          ]
        }
      ]
    },
    {
      "cell_type": "code",
      "source": [
        "#model score\n",
        "print(\"f1-score : \", f1_score(y_test, [round(i[0]) for i in model.predict(X_test_scaled).tolist()]))"
      ],
      "metadata": {
        "colab": {
          "base_uri": "https://localhost:8080/"
        },
        "id": "sEryP_kvUth7",
        "outputId": "9b609f13-7a54-438c-f6de-a3b819a46f9c"
      },
      "execution_count": 79,
      "outputs": [
        {
          "output_type": "stream",
          "name": "stdout",
          "text": [
            "f1-score :  1.0\n"
          ]
        }
      ]
    },
    {
      "cell_type": "code",
      "source": [
        ""
      ],
      "metadata": {
        "id": "HVkiWMo_Rpln"
      },
      "execution_count": null,
      "outputs": []
    }
  ]
}