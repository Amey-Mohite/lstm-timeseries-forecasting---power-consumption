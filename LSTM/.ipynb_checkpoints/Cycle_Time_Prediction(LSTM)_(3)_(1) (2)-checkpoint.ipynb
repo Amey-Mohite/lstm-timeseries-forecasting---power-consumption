{
 "cells": [
  {
   "cell_type": "code",
   "execution_count": 1,
   "metadata": {
    "colab": {
     "base_uri": "https://localhost:8080/"
    },
    "id": "OVEcb7LjuY5m",
    "outputId": "cd955ed8-20ad-4636-e8f8-103a5609edac"
   },
   "outputs": [
    {
     "name": "stdout",
     "output_type": "stream",
     "text": [
      "Mounted at /content/drive\n"
     ]
    }
   ],
   "source": [
    "from google.colab import drive\n",
    "drive.mount('/content/drive')"
   ]
  },
  {
   "cell_type": "code",
   "execution_count": 2,
   "metadata": {
    "colab": {
     "base_uri": "https://localhost:8080/",
     "height": 372
    },
    "id": "Yb76UBlrj27c",
    "outputId": "c6e8474c-3f62-4898-fed2-1167a8845870"
   },
   "outputs": [
    {
     "data": {
      "text/html": [
       "\n",
       "  <div id=\"df-7656b3a6-e7bf-48a4-bb4c-e0d1a47b0353\">\n",
       "    <div class=\"colab-df-container\">\n",
       "      <div>\n",
       "<style scoped>\n",
       "    .dataframe tbody tr th:only-of-type {\n",
       "        vertical-align: middle;\n",
       "    }\n",
       "\n",
       "    .dataframe tbody tr th {\n",
       "        vertical-align: top;\n",
       "    }\n",
       "\n",
       "    .dataframe thead th {\n",
       "        text-align: right;\n",
       "    }\n",
       "</style>\n",
       "<table border=\"1\" class=\"dataframe\">\n",
       "  <thead>\n",
       "    <tr style=\"text-align: right;\">\n",
       "      <th></th>\n",
       "      <th>VariantID</th>\n",
       "      <th>Variant_Change</th>\n",
       "      <th>Mono_Identity</th>\n",
       "      <th>DateTimeCreated</th>\n",
       "      <th>Mono_MM_Duration (s)</th>\n",
       "      <th>Wrapping_Duration (s)</th>\n",
       "      <th>Pressing_Duration (s)</th>\n",
       "      <th>GBD_MM Duration (s)</th>\n",
       "      <th>OperationTime (s)</th>\n",
       "      <th>CycleTime (s)</th>\n",
       "      <th>Downtime (s)</th>\n",
       "      <th>ShutDown (s)</th>\n",
       "      <th>Shift</th>\n",
       "      <th>Shift Status</th>\n",
       "    </tr>\n",
       "  </thead>\n",
       "  <tbody>\n",
       "    <tr>\n",
       "      <th>0</th>\n",
       "      <td>28</td>\n",
       "      <td>2</td>\n",
       "      <td>2</td>\n",
       "      <td>2021-07-08 07:33:38.747</td>\n",
       "      <td>0</td>\n",
       "      <td>0</td>\n",
       "      <td>0</td>\n",
       "      <td>0</td>\n",
       "      <td>123</td>\n",
       "      <td>0</td>\n",
       "      <td>0</td>\n",
       "      <td>0</td>\n",
       "      <td>1</td>\n",
       "      <td>1</td>\n",
       "    </tr>\n",
       "    <tr>\n",
       "      <th>1</th>\n",
       "      <td>28</td>\n",
       "      <td>1</td>\n",
       "      <td>2</td>\n",
       "      <td>2021-07-08 07:46:45.343</td>\n",
       "      <td>1574</td>\n",
       "      <td>1218</td>\n",
       "      <td>896</td>\n",
       "      <td>510</td>\n",
       "      <td>186</td>\n",
       "      <td>511</td>\n",
       "      <td>449</td>\n",
       "      <td>0</td>\n",
       "      <td>1</td>\n",
       "      <td>0</td>\n",
       "    </tr>\n",
       "    <tr>\n",
       "      <th>2</th>\n",
       "      <td>28</td>\n",
       "      <td>1</td>\n",
       "      <td>2</td>\n",
       "      <td>2021-07-08 07:48:58.927</td>\n",
       "      <td>205</td>\n",
       "      <td>167</td>\n",
       "      <td>187</td>\n",
       "      <td>36</td>\n",
       "      <td>127</td>\n",
       "      <td>35</td>\n",
       "      <td>0</td>\n",
       "      <td>0</td>\n",
       "      <td>1</td>\n",
       "      <td>0</td>\n",
       "    </tr>\n",
       "    <tr>\n",
       "      <th>3</th>\n",
       "      <td>28</td>\n",
       "      <td>1</td>\n",
       "      <td>2</td>\n",
       "      <td>2021-07-08 07:49:31.807</td>\n",
       "      <td>94</td>\n",
       "      <td>128</td>\n",
       "      <td>69</td>\n",
       "      <td>35</td>\n",
       "      <td>128</td>\n",
       "      <td>35</td>\n",
       "      <td>0</td>\n",
       "      <td>0</td>\n",
       "      <td>1</td>\n",
       "      <td>0</td>\n",
       "    </tr>\n",
       "    <tr>\n",
       "      <th>4</th>\n",
       "      <td>28</td>\n",
       "      <td>1</td>\n",
       "      <td>2</td>\n",
       "      <td>2021-07-08 07:50:06.607</td>\n",
       "      <td>103</td>\n",
       "      <td>70</td>\n",
       "      <td>70</td>\n",
       "      <td>37</td>\n",
       "      <td>130</td>\n",
       "      <td>37</td>\n",
       "      <td>0</td>\n",
       "      <td>0</td>\n",
       "      <td>1</td>\n",
       "      <td>0</td>\n",
       "    </tr>\n",
       "  </tbody>\n",
       "</table>\n",
       "</div>\n",
       "      <button class=\"colab-df-convert\" onclick=\"convertToInteractive('df-7656b3a6-e7bf-48a4-bb4c-e0d1a47b0353')\"\n",
       "              title=\"Convert this dataframe to an interactive table.\"\n",
       "              style=\"display:none;\">\n",
       "        \n",
       "  <svg xmlns=\"http://www.w3.org/2000/svg\" height=\"24px\"viewBox=\"0 0 24 24\"\n",
       "       width=\"24px\">\n",
       "    <path d=\"M0 0h24v24H0V0z\" fill=\"none\"/>\n",
       "    <path d=\"M18.56 5.44l.94 2.06.94-2.06 2.06-.94-2.06-.94-.94-2.06-.94 2.06-2.06.94zm-11 1L8.5 8.5l.94-2.06 2.06-.94-2.06-.94L8.5 2.5l-.94 2.06-2.06.94zm10 10l.94 2.06.94-2.06 2.06-.94-2.06-.94-.94-2.06-.94 2.06-2.06.94z\"/><path d=\"M17.41 7.96l-1.37-1.37c-.4-.4-.92-.59-1.43-.59-.52 0-1.04.2-1.43.59L10.3 9.45l-7.72 7.72c-.78.78-.78 2.05 0 2.83L4 21.41c.39.39.9.59 1.41.59.51 0 1.02-.2 1.41-.59l7.78-7.78 2.81-2.81c.8-.78.8-2.07 0-2.86zM5.41 20L4 18.59l7.72-7.72 1.47 1.35L5.41 20z\"/>\n",
       "  </svg>\n",
       "      </button>\n",
       "      \n",
       "  <style>\n",
       "    .colab-df-container {\n",
       "      display:flex;\n",
       "      flex-wrap:wrap;\n",
       "      gap: 12px;\n",
       "    }\n",
       "\n",
       "    .colab-df-convert {\n",
       "      background-color: #E8F0FE;\n",
       "      border: none;\n",
       "      border-radius: 50%;\n",
       "      cursor: pointer;\n",
       "      display: none;\n",
       "      fill: #1967D2;\n",
       "      height: 32px;\n",
       "      padding: 0 0 0 0;\n",
       "      width: 32px;\n",
       "    }\n",
       "\n",
       "    .colab-df-convert:hover {\n",
       "      background-color: #E2EBFA;\n",
       "      box-shadow: 0px 1px 2px rgba(60, 64, 67, 0.3), 0px 1px 3px 1px rgba(60, 64, 67, 0.15);\n",
       "      fill: #174EA6;\n",
       "    }\n",
       "\n",
       "    [theme=dark] .colab-df-convert {\n",
       "      background-color: #3B4455;\n",
       "      fill: #D2E3FC;\n",
       "    }\n",
       "\n",
       "    [theme=dark] .colab-df-convert:hover {\n",
       "      background-color: #434B5C;\n",
       "      box-shadow: 0px 1px 3px 1px rgba(0, 0, 0, 0.15);\n",
       "      filter: drop-shadow(0px 1px 2px rgba(0, 0, 0, 0.3));\n",
       "      fill: #FFFFFF;\n",
       "    }\n",
       "  </style>\n",
       "\n",
       "      <script>\n",
       "        const buttonEl =\n",
       "          document.querySelector('#df-7656b3a6-e7bf-48a4-bb4c-e0d1a47b0353 button.colab-df-convert');\n",
       "        buttonEl.style.display =\n",
       "          google.colab.kernel.accessAllowed ? 'block' : 'none';\n",
       "\n",
       "        async function convertToInteractive(key) {\n",
       "          const element = document.querySelector('#df-7656b3a6-e7bf-48a4-bb4c-e0d1a47b0353');\n",
       "          const dataTable =\n",
       "            await google.colab.kernel.invokeFunction('convertToInteractive',\n",
       "                                                     [key], {});\n",
       "          if (!dataTable) return;\n",
       "\n",
       "          const docLinkHtml = 'Like what you see? Visit the ' +\n",
       "            '<a target=\"_blank\" href=https://colab.research.google.com/notebooks/data_table.ipynb>data table notebook</a>'\n",
       "            + ' to learn more about interactive tables.';\n",
       "          element.innerHTML = '';\n",
       "          dataTable['output_type'] = 'display_data';\n",
       "          await google.colab.output.renderOutput(dataTable, element);\n",
       "          const docLink = document.createElement('div');\n",
       "          docLink.innerHTML = docLinkHtml;\n",
       "          element.appendChild(docLink);\n",
       "        }\n",
       "      </script>\n",
       "    </div>\n",
       "  </div>\n",
       "  "
      ],
      "text/plain": [
       "   VariantID  Variant_Change  Mono_Identity  ... ShutDown (s)  Shift  Shift Status\n",
       "0         28               2              2  ...            0      1             1\n",
       "1         28               1              2  ...            0      1             0\n",
       "2         28               1              2  ...            0      1             0\n",
       "3         28               1              2  ...            0      1             0\n",
       "4         28               1              2  ...            0      1             0\n",
       "\n",
       "[5 rows x 14 columns]"
      ]
     },
     "execution_count": 2,
     "metadata": {},
     "output_type": "execute_result"
    }
   ],
   "source": [
    "import pandas as pd\n",
    "import numpy as np\n",
    "\n",
    "#read the data\n",
    "df_book = pd.read_excel('/content/drive/MyDrive/Book4.xlsx', index_col = False)\n",
    "df_book.head()"
   ]
  },
  {
   "cell_type": "code",
   "execution_count": 3,
   "metadata": {
    "colab": {
     "base_uri": "https://localhost:8080/"
    },
    "id": "BX6u1mVhkMN8",
    "outputId": "09de0bfc-2f4e-469f-b9f6-a7c09d55aa09"
   },
   "outputs": [
    {
     "data": {
      "text/plain": [
       "(26959, 14)"
      ]
     },
     "execution_count": 3,
     "metadata": {},
     "output_type": "execute_result"
    }
   ],
   "source": [
    "df_book.shape"
   ]
  },
  {
   "cell_type": "code",
   "execution_count": 4,
   "metadata": {
    "colab": {
     "base_uri": "https://localhost:8080/",
     "height": 285
    },
    "id": "C4fuaF3SkO-z",
    "outputId": "7ab6d7e3-28b7-47df-e290-dd2d1cf04914"
   },
   "outputs": [
    {
     "data": {
      "text/plain": [
       "<matplotlib.axes._subplots.AxesSubplot at 0x7fc00396a310>"
      ]
     },
     "execution_count": 4,
     "metadata": {},
     "output_type": "execute_result"
    },
    {
     "data": {
      "image/png": "[encoded data removed]",
      "text/plain": [
       "<Figure size 432x288 with 1 Axes>"
      ]
     },
     "metadata": {
      "needs_background": "light"
     },
     "output_type": "display_data"
    }
   ],
   "source": [
    "#plotting the value_counts of each varientid\n",
    "df_book.VariantID.value_counts().plot(kind = 'bar')"
   ]
  },
  {
   "cell_type": "code",
   "execution_count": 5,
   "metadata": {
    "colab": {
     "base_uri": "https://localhost:8080/"
    },
    "id": "9TBrP1_PkxGo",
    "outputId": "fb62d46e-ac55-41ea-b201-fea1a7185f06"
   },
   "outputs": [
    {
     "name": "stdout",
     "output_type": "stream",
     "text": [
      "Collecting traces\n",
      "  Downloading traces-0.6.0-py2.py3-none-any.whl (18 kB)\n",
      "Requirement already satisfied: python-dateutil in /usr/local/lib/python3.7/dist-packages (from traces) (2.8.2)\n",
      "Collecting infinity\n",
      "  Downloading infinity-1.5.tar.gz (5.4 kB)\n",
      "Requirement already satisfied: sortedcontainers in /usr/local/lib/python3.7/dist-packages (from traces) (2.4.0)\n",
      "Requirement already satisfied: six>=1.5 in /usr/local/lib/python3.7/dist-packages (from python-dateutil->traces) (1.15.0)\n",
      "Building wheels for collected packages: infinity\n",
      "  Building wheel for infinity (setup.py) ... \u001b[?25l\u001b[?25hdone\n",
      "  Created wheel for infinity: filename=infinity-1.5-py3-none-any.whl size=3095 sha256=39930a420ba95d4e18d952f766d4ca2ff2372a78067ae374e75d727e81bdc8d6\n",
      "  Stored in directory: /root/.cache/pip/wheels/ee/2c/f4/26985d995b1d5930ab73914f76ffccd54b1af31c2e68b507bc\n",
      "Successfully built infinity\n",
      "Installing collected packages: infinity, traces\n",
      "Successfully installed infinity-1.5 traces-0.6.0\n"
     ]
    }
   ],
   "source": [
    "#traces library is used to generate timeseries data\n",
    "!pip install traces\n",
    "from datetime import datetime, timedelta\n",
    "import traces"
   ]
  },
  {
   "cell_type": "code",
   "execution_count": 6,
   "metadata": {
    "id": "CSNiQG5ak0z7"
   },
   "outputs": [],
   "source": [
    "#resamples the data to every 15-mins\n",
    "\n",
    "def resampling_data(df, start_date, end_date):\n",
    "    \n",
    "    #create empty dataframe to store the resampled data\n",
    "    temp_df = pd.DataFrame({})\n",
    "    \n",
    "    #iterate through the columns\n",
    "    for cols in df.columns:\n",
    "        \n",
    "        # create an empty row list which has the date_range\n",
    "        Row_list =[]\n",
    "        \n",
    "        if cols != 'DateTimeCreated':\n",
    "            \n",
    "            #iterate through the rows \n",
    "            for index, rows in df.iterrows():\n",
    "                # Create list for the current row\n",
    "                my_list =[rows.DateTimeCreated, rows[cols]]\n",
    "\n",
    "                # append the list to the final list\n",
    "                Row_list.append(my_list)\n",
    "\n",
    "            #traces library resamples the data in desired order and linearly interpolates it\n",
    "            ts = traces.TimeSeries(Row_list)\n",
    "\n",
    "            temp = np.array(ts.sample(\n",
    "            sampling_period = timedelta(minutes=15),\n",
    "            start=start_date,\n",
    "            end=end_date,\n",
    "            interpolate='linear'))\n",
    "            \n",
    "            temp_df[cols] = temp[:, 1]\n",
    "    \n",
    "    temp_df['DateTimeCreated'] = temp[:, 0]\n",
    "    \n",
    "    #drop first 2 rows of the dataframe because it will be none\n",
    "    temp_df = temp_df.drop([0, 1])\n",
    "\n",
    "    return temp_df\n",
    "\n",
    "#gets starting date of each dataframe\n",
    "def get_start_date(df):\n",
    "    start_year = df.DateTimeCreated.iloc[0].year\n",
    "    start_month = df.DateTimeCreated.iloc[0].month\n",
    "    start_day = df.DateTimeCreated.iloc[0].day\n",
    "    start_hour = df.DateTimeCreated.iloc[0].hour\n",
    "    \n",
    "    return datetime(start_year, start_month, start_day, start_hour)\n",
    "\n",
    "#gets ending date of each dataframe\n",
    "def get_end_date(df):\n",
    "    end_year = df.DateTimeCreated.iloc[-1].year\n",
    "    end_month = df.DateTimeCreated.iloc[-1].month\n",
    "    end_day = df.DateTimeCreated.iloc[-1].day\n",
    "    end_hour = df.DateTimeCreated.iloc[-1].hour\n",
    "    \n",
    "    return datetime(end_year, end_month, end_day, end_hour)"
   ]
  },
  {
   "cell_type": "code",
   "execution_count": 7,
   "metadata": {
    "colab": {
     "base_uri": "https://localhost:8080/"
    },
    "id": "aeTrJ9z9k_YD",
    "outputId": "afbf9a20-a64f-4b30-c2cf-bd7448a5f21f"
   },
   "outputs": [
    {
     "name": "stdout",
     "output_type": "stream",
     "text": [
      "[7, 8, 10, 12, 14, 16, 17, 18, 20, 26, 27, 28, 29, 32, 33]\n"
     ]
    }
   ],
   "source": [
    "#to check the number of variantids \n",
    "variants = sorted(df_book.VariantID.unique())\n",
    "variants = variants[:-2]\n",
    "print(variants)"
   ]
  },
  {
   "cell_type": "code",
   "execution_count": 8,
   "metadata": {
    "colab": {
     "base_uri": "https://localhost:8080/"
    },
    "id": "8CCvqcRglIIT",
    "outputId": "72448999-aecc-45c3-a2cc-7fab42e6c93d"
   },
   "outputs": [
    {
     "name": "stdout",
     "output_type": "stream",
     "text": [
      "variant_id : 7\n",
      "shape of sdf : (5891, 14) , shape of df_final : (5891, 14)\n",
      "variant_id : 8\n",
      "shape of sdf : (5091, 14) , shape of df_final : (10982, 14)\n",
      "variant_id : 10\n",
      "shape of sdf : (5363, 14) , shape of df_final : (16345, 14)\n",
      "variant_id : 12\n",
      "shape of sdf : (371, 14) , shape of df_final : (16716, 14)\n",
      "variant_id : 14\n",
      "shape of sdf : (403, 14) , shape of df_final : (17119, 14)\n",
      "variant_id : 16\n",
      "shape of sdf : (5927, 14) , shape of df_final : (23046, 14)\n",
      "variant_id : 17\n",
      "shape of sdf : (6407, 14) , shape of df_final : (29453, 14)\n",
      "variant_id : 18\n",
      "shape of sdf : (6423, 14) , shape of df_final : (35876, 14)\n",
      "variant_id : 20\n",
      "shape of sdf : (343, 14) , shape of df_final : (36219, 14)\n",
      "variant_id : 26\n",
      "shape of sdf : (4539, 14) , shape of df_final : (40758, 14)\n",
      "variant_id : 27\n",
      "shape of sdf : (7891, 14) , shape of df_final : (48649, 14)\n",
      "variant_id : 28\n",
      "shape of sdf : (7991, 14) , shape of df_final : (56640, 14)\n",
      "variant_id : 29\n",
      "shape of sdf : (11, 14) , shape of df_final : (56651, 14)\n",
      "variant_id : 32\n",
      "shape of sdf : (2879, 14) , shape of df_final : (59530, 14)\n",
      "variant_id : 33\n",
      "shape of sdf : (2787, 14) , shape of df_final : (62317, 14)\n"
     ]
    }
   ],
   "source": [
    "Df_Final = pd.DataFrame()\n",
    "\n",
    "#loop through the variants and resample \n",
    "for vid in variants:\n",
    "    print(f'variant_id : {vid}')\n",
    "    sdf = df_book[df_book.VariantID == vid].sort_values(by = 'DateTimeCreated')\n",
    "    #calls the resampling data function on the date-wise sorted dataframe \n",
    "    sdf = resampling_data(sdf, start_date = get_start_date(sdf), end_date = get_end_date(sdf))\n",
    "    #concat the resampled data to the Df_Final\n",
    "    Df_Final = pd.concat([Df_Final, sdf])\n",
    "    print(f'shape of sdf : {sdf.shape} , shape of df_final : {Df_Final.shape}')\n",
    "\n",
    "#Make DateTimeCreated as the index    \n",
    "Df_Final.index = Df_Final.DateTimeCreated"
   ]
  },
  {
   "cell_type": "code",
   "execution_count": 9,
   "metadata": {
    "id": "Luu22o2jlYVr"
   },
   "outputs": [],
   "source": [
    "Df_Final.to_csv('Dataframe_final_preprocessed.csv', index = False)"
   ]
  },
  {
   "cell_type": "markdown",
   "metadata": {
    "id": "vLMYXfClmK_B"
   },
   "source": [
    "## Model Building"
   ]
  },
  {
   "cell_type": "code",
   "execution_count": 10,
   "metadata": {
    "colab": {
     "base_uri": "https://localhost:8080/",
     "height": 372
    },
    "id": "3qnmZvPuwrHS",
    "outputId": "673bdd51-f72b-42de-9c20-8eb06dd7bc48"
   },
   "outputs": [
    {
     "data": {
      "text/html": [
       "\n",
       "  <div id=\"df-f5319a67-3b3c-407a-b5e4-526d4780a849\">\n",
       "    <div class=\"colab-df-container\">\n",
       "      <div>\n",
       "<style scoped>\n",
       "    .dataframe tbody tr th:only-of-type {\n",
       "        vertical-align: middle;\n",
       "    }\n",
       "\n",
       "    .dataframe tbody tr th {\n",
       "        vertical-align: top;\n",
       "    }\n",
       "\n",
       "    .dataframe thead th {\n",
       "        text-align: right;\n",
       "    }\n",
       "</style>\n",
       "<table border=\"1\" class=\"dataframe\">\n",
       "  <thead>\n",
       "    <tr style=\"text-align: right;\">\n",
       "      <th></th>\n",
       "      <th>VariantID</th>\n",
       "      <th>Variant_Change</th>\n",
       "      <th>Mono_Identity</th>\n",
       "      <th>Mono_MM_Duration (s)</th>\n",
       "      <th>Wrapping_Duration (s)</th>\n",
       "      <th>Pressing_Duration (s)</th>\n",
       "      <th>GBD_MM Duration (s)</th>\n",
       "      <th>OperationTime (s)</th>\n",
       "      <th>CycleTime (s)</th>\n",
       "      <th>Downtime (s)</th>\n",
       "      <th>ShutDown (s)</th>\n",
       "      <th>Shift</th>\n",
       "      <th>Shift Status</th>\n",
       "      <th>DateTimeCreated</th>\n",
       "    </tr>\n",
       "  </thead>\n",
       "  <tbody>\n",
       "    <tr>\n",
       "      <th>0</th>\n",
       "      <td>7.0</td>\n",
       "      <td>1.963532</td>\n",
       "      <td>2.0</td>\n",
       "      <td>9006.761940</td>\n",
       "      <td>8967.376143</td>\n",
       "      <td>9049.752345</td>\n",
       "      <td>4512.332027</td>\n",
       "      <td>113.963532</td>\n",
       "      <td>502.113312</td>\n",
       "      <td>440.113312</td>\n",
       "      <td>0.0</td>\n",
       "      <td>1.0</td>\n",
       "      <td>0.0</td>\n",
       "      <td>2021-08-05 12:30:00</td>\n",
       "    </tr>\n",
       "    <tr>\n",
       "      <th>1</th>\n",
       "      <td>7.0</td>\n",
       "      <td>1.694260</td>\n",
       "      <td>2.0</td>\n",
       "      <td>8347.854285</td>\n",
       "      <td>8298.236166</td>\n",
       "      <td>8412.924963</td>\n",
       "      <td>4197.284231</td>\n",
       "      <td>113.694260</td>\n",
       "      <td>1307.774000</td>\n",
       "      <td>1245.774000</td>\n",
       "      <td>0.0</td>\n",
       "      <td>1.0</td>\n",
       "      <td>0.0</td>\n",
       "      <td>2021-08-05 12:45:00</td>\n",
       "    </tr>\n",
       "    <tr>\n",
       "      <th>2</th>\n",
       "      <td>7.0</td>\n",
       "      <td>1.424988</td>\n",
       "      <td>2.0</td>\n",
       "      <td>7688.946630</td>\n",
       "      <td>7629.096190</td>\n",
       "      <td>7776.097581</td>\n",
       "      <td>3882.236435</td>\n",
       "      <td>113.424988</td>\n",
       "      <td>2113.434688</td>\n",
       "      <td>2051.434688</td>\n",
       "      <td>0.0</td>\n",
       "      <td>1.0</td>\n",
       "      <td>0.0</td>\n",
       "      <td>2021-08-05 13:00:00</td>\n",
       "    </tr>\n",
       "    <tr>\n",
       "      <th>3</th>\n",
       "      <td>7.0</td>\n",
       "      <td>1.155717</td>\n",
       "      <td>2.0</td>\n",
       "      <td>7030.038976</td>\n",
       "      <td>6959.956213</td>\n",
       "      <td>7139.270199</td>\n",
       "      <td>3567.188640</td>\n",
       "      <td>113.155717</td>\n",
       "      <td>2919.095376</td>\n",
       "      <td>2857.095376</td>\n",
       "      <td>0.0</td>\n",
       "      <td>1.0</td>\n",
       "      <td>0.0</td>\n",
       "      <td>2021-08-05 13:15:00</td>\n",
       "    </tr>\n",
       "    <tr>\n",
       "      <th>4</th>\n",
       "      <td>7.0</td>\n",
       "      <td>1.000000</td>\n",
       "      <td>2.0</td>\n",
       "      <td>2189.550768</td>\n",
       "      <td>2179.038080</td>\n",
       "      <td>3619.718997</td>\n",
       "      <td>1864.589761</td>\n",
       "      <td>168.230263</td>\n",
       "      <td>1864.589761</td>\n",
       "      <td>1802.589761</td>\n",
       "      <td>0.0</td>\n",
       "      <td>1.0</td>\n",
       "      <td>0.0</td>\n",
       "      <td>2021-08-05 13:30:00</td>\n",
       "    </tr>\n",
       "  </tbody>\n",
       "</table>\n",
       "</div>\n",
       "      <button class=\"colab-df-convert\" onclick=\"convertToInteractive('df-f5319a67-3b3c-407a-b5e4-526d4780a849')\"\n",
       "              title=\"Convert this dataframe to an interactive table.\"\n",
       "              style=\"display:none;\">\n",
       "        \n",
       "  <svg xmlns=\"http://www.w3.org/2000/svg\" height=\"24px\"viewBox=\"0 0 24 24\"\n",
       "       width=\"24px\">\n",
       "    <path d=\"M0 0h24v24H0V0z\" fill=\"none\"/>\n",
       "    <path d=\"M18.56 5.44l.94 2.06.94-2.06 2.06-.94-2.06-.94-.94-2.06-.94 2.06-2.06.94zm-11 1L8.5 8.5l.94-2.06 2.06-.94-2.06-.94L8.5 2.5l-.94 2.06-2.06.94zm10 10l.94 2.06.94-2.06 2.06-.94-2.06-.94-.94-2.06-.94 2.06-2.06.94z\"/><path d=\"M17.41 7.96l-1.37-1.37c-.4-.4-.92-.59-1.43-.59-.52 0-1.04.2-1.43.59L10.3 9.45l-7.72 7.72c-.78.78-.78 2.05 0 2.83L4 21.41c.39.39.9.59 1.41.59.51 0 1.02-.2 1.41-.59l7.78-7.78 2.81-2.81c.8-.78.8-2.07 0-2.86zM5.41 20L4 18.59l7.72-7.72 1.47 1.35L5.41 20z\"/>\n",
       "  </svg>\n",
       "      </button>\n",
       "      \n",
       "  <style>\n",
       "    .colab-df-container {\n",
       "      display:flex;\n",
       "      flex-wrap:wrap;\n",
       "      gap: 12px;\n",
       "    }\n",
       "\n",
       "    .colab-df-convert {\n",
       "      background-color: #E8F0FE;\n",
       "      border: none;\n",
       "      border-radius: 50%;\n",
       "      cursor: pointer;\n",
       "      display: none;\n",
       "      fill: #1967D2;\n",
       "      height: 32px;\n",
       "      padding: 0 0 0 0;\n",
       "      width: 32px;\n",
       "    }\n",
       "\n",
       "    .colab-df-convert:hover {\n",
       "      background-color: #E2EBFA;\n",
       "      box-shadow: 0px 1px 2px rgba(60, 64, 67, 0.3), 0px 1px 3px 1px rgba(60, 64, 67, 0.15);\n",
       "      fill: #174EA6;\n",
       "    }\n",
       "\n",
       "    [theme=dark] .colab-df-convert {\n",
       "      background-color: #3B4455;\n",
       "      fill: #D2E3FC;\n",
       "    }\n",
       "\n",
       "    [theme=dark] .colab-df-convert:hover {\n",
       "      background-color: #434B5C;\n",
       "      box-shadow: 0px 1px 3px 1px rgba(0, 0, 0, 0.15);\n",
       "      filter: drop-shadow(0px 1px 2px rgba(0, 0, 0, 0.3));\n",
       "      fill: #FFFFFF;\n",
       "    }\n",
       "  </style>\n",
       "\n",
       "      <script>\n",
       "        const buttonEl =\n",
       "          document.querySelector('#df-f5319a67-3b3c-407a-b5e4-526d4780a849 button.colab-df-convert');\n",
       "        buttonEl.style.display =\n",
       "          google.colab.kernel.accessAllowed ? 'block' : 'none';\n",
       "\n",
       "        async function convertToInteractive(key) {\n",
       "          const element = document.querySelector('#df-f5319a67-3b3c-407a-b5e4-526d4780a849');\n",
       "          const dataTable =\n",
       "            await google.colab.kernel.invokeFunction('convertToInteractive',\n",
       "                                                     [key], {});\n",
       "          if (!dataTable) return;\n",
       "\n",
       "          const docLinkHtml = 'Like what you see? Visit the ' +\n",
       "            '<a target=\"_blank\" href=https://colab.research.google.com/notebooks/data_table.ipynb>data table notebook</a>'\n",
       "            + ' to learn more about interactive tables.';\n",
       "          element.innerHTML = '';\n",
       "          dataTable['output_type'] = 'display_data';\n",
       "          await google.colab.output.renderOutput(dataTable, element);\n",
       "          const docLink = document.createElement('div');\n",
       "          docLink.innerHTML = docLinkHtml;\n",
       "          element.appendChild(docLink);\n",
       "        }\n",
       "      </script>\n",
       "    </div>\n",
       "  </div>\n",
       "  "
      ],
      "text/plain": [
       "   VariantID  Variant_Change  ...  Shift Status      DateTimeCreated\n",
       "0        7.0        1.963532  ...           0.0  2021-08-05 12:30:00\n",
       "1        7.0        1.694260  ...           0.0  2021-08-05 12:45:00\n",
       "2        7.0        1.424988  ...           0.0  2021-08-05 13:00:00\n",
       "3        7.0        1.155717  ...           0.0  2021-08-05 13:15:00\n",
       "4        7.0        1.000000  ...           0.0  2021-08-05 13:30:00\n",
       "\n",
       "[5 rows x 14 columns]"
      ]
     },
     "execution_count": 10,
     "metadata": {},
     "output_type": "execute_result"
    }
   ],
   "source": [
    "import pandas as pd\n",
    "import numpy as np\n",
    "\n",
    "df = pd.read_csv('Dataframe_final_preprocessed.csv', index_col = False)\n",
    "df.head()"
   ]
  },
  {
   "cell_type": "code",
   "execution_count": 11,
   "metadata": {
    "id": "UOXr4sEVRLXT"
   },
   "outputs": [],
   "source": [
    "Cycle_time = df['CycleTime (s)']"
   ]
  },
  {
   "cell_type": "code",
   "execution_count": 12,
   "metadata": {
    "id": "ziN_o4NXRLXT"
   },
   "outputs": [],
   "source": [
    "#round values and convert to integer except Cycle Time\n",
    "df.drop(['CycleTime (s)'] , axis = 1, inplace = True)\n",
    "df = np.round(df)\n",
    "train_cols = df.drop('DateTimeCreated', axis=1).columns[1:]\n",
    "df[train_cols] = df[train_cols].fillna(\"0\").astype(int)\n",
    "df['CycleTime (s)'] = Cycle_time"
   ]
  },
  {
   "cell_type": "code",
   "execution_count": 13,
   "metadata": {
    "colab": {
     "base_uri": "https://localhost:8080/",
     "height": 372
    },
    "id": "ZrFikTNeRLXV",
    "outputId": "109d1f92-0e1a-4056-c372-cb1538b897f0"
   },
   "outputs": [
    {
     "data": {
      "text/html": [
       "\n",
       "  <div id=\"df-d1e8997e-066b-4571-bba3-39ac403ec9aa\">\n",
       "    <div class=\"colab-df-container\">\n",
       "      <div>\n",
       "<style scoped>\n",
       "    .dataframe tbody tr th:only-of-type {\n",
       "        vertical-align: middle;\n",
       "    }\n",
       "\n",
       "    .dataframe tbody tr th {\n",
       "        vertical-align: top;\n",
       "    }\n",
       "\n",
       "    .dataframe thead th {\n",
       "        text-align: right;\n",
       "    }\n",
       "</style>\n",
       "<table border=\"1\" class=\"dataframe\">\n",
       "  <thead>\n",
       "    <tr style=\"text-align: right;\">\n",
       "      <th></th>\n",
       "      <th>VariantID</th>\n",
       "      <th>Variant_Change</th>\n",
       "      <th>Mono_Identity</th>\n",
       "      <th>Mono_MM_Duration (s)</th>\n",
       "      <th>Wrapping_Duration (s)</th>\n",
       "      <th>Pressing_Duration (s)</th>\n",
       "      <th>GBD_MM Duration (s)</th>\n",
       "      <th>OperationTime (s)</th>\n",
       "      <th>Downtime (s)</th>\n",
       "      <th>ShutDown (s)</th>\n",
       "      <th>Shift</th>\n",
       "      <th>Shift Status</th>\n",
       "      <th>DateTimeCreated</th>\n",
       "      <th>CycleTime (s)</th>\n",
       "    </tr>\n",
       "  </thead>\n",
       "  <tbody>\n",
       "    <tr>\n",
       "      <th>0</th>\n",
       "      <td>7.0</td>\n",
       "      <td>2</td>\n",
       "      <td>2</td>\n",
       "      <td>9007</td>\n",
       "      <td>8967</td>\n",
       "      <td>9050</td>\n",
       "      <td>4512</td>\n",
       "      <td>114</td>\n",
       "      <td>440</td>\n",
       "      <td>0</td>\n",
       "      <td>1</td>\n",
       "      <td>0</td>\n",
       "      <td>2021-08-05 12:30:00</td>\n",
       "      <td>502.113312</td>\n",
       "    </tr>\n",
       "    <tr>\n",
       "      <th>1</th>\n",
       "      <td>7.0</td>\n",
       "      <td>2</td>\n",
       "      <td>2</td>\n",
       "      <td>8348</td>\n",
       "      <td>8298</td>\n",
       "      <td>8413</td>\n",
       "      <td>4197</td>\n",
       "      <td>114</td>\n",
       "      <td>1246</td>\n",
       "      <td>0</td>\n",
       "      <td>1</td>\n",
       "      <td>0</td>\n",
       "      <td>2021-08-05 12:45:00</td>\n",
       "      <td>1307.774000</td>\n",
       "    </tr>\n",
       "    <tr>\n",
       "      <th>2</th>\n",
       "      <td>7.0</td>\n",
       "      <td>1</td>\n",
       "      <td>2</td>\n",
       "      <td>7689</td>\n",
       "      <td>7629</td>\n",
       "      <td>7776</td>\n",
       "      <td>3882</td>\n",
       "      <td>113</td>\n",
       "      <td>2051</td>\n",
       "      <td>0</td>\n",
       "      <td>1</td>\n",
       "      <td>0</td>\n",
       "      <td>2021-08-05 13:00:00</td>\n",
       "      <td>2113.434688</td>\n",
       "    </tr>\n",
       "    <tr>\n",
       "      <th>3</th>\n",
       "      <td>7.0</td>\n",
       "      <td>1</td>\n",
       "      <td>2</td>\n",
       "      <td>7030</td>\n",
       "      <td>6960</td>\n",
       "      <td>7139</td>\n",
       "      <td>3567</td>\n",
       "      <td>113</td>\n",
       "      <td>2857</td>\n",
       "      <td>0</td>\n",
       "      <td>1</td>\n",
       "      <td>0</td>\n",
       "      <td>2021-08-05 13:15:00</td>\n",
       "      <td>2919.095376</td>\n",
       "    </tr>\n",
       "    <tr>\n",
       "      <th>4</th>\n",
       "      <td>7.0</td>\n",
       "      <td>1</td>\n",
       "      <td>2</td>\n",
       "      <td>2190</td>\n",
       "      <td>2179</td>\n",
       "      <td>3620</td>\n",
       "      <td>1865</td>\n",
       "      <td>168</td>\n",
       "      <td>1803</td>\n",
       "      <td>0</td>\n",
       "      <td>1</td>\n",
       "      <td>0</td>\n",
       "      <td>2021-08-05 13:30:00</td>\n",
       "      <td>1864.589761</td>\n",
       "    </tr>\n",
       "  </tbody>\n",
       "</table>\n",
       "</div>\n",
       "      <button class=\"colab-df-convert\" onclick=\"convertToInteractive('df-d1e8997e-066b-4571-bba3-39ac403ec9aa')\"\n",
       "              title=\"Convert this dataframe to an interactive table.\"\n",
       "              style=\"display:none;\">\n",
       "        \n",
       "  <svg xmlns=\"http://www.w3.org/2000/svg\" height=\"24px\"viewBox=\"0 0 24 24\"\n",
       "       width=\"24px\">\n",
       "    <path d=\"M0 0h24v24H0V0z\" fill=\"none\"/>\n",
       "    <path d=\"M18.56 5.44l.94 2.06.94-2.06 2.06-.94-2.06-.94-.94-2.06-.94 2.06-2.06.94zm-11 1L8.5 8.5l.94-2.06 2.06-.94-2.06-.94L8.5 2.5l-.94 2.06-2.06.94zm10 10l.94 2.06.94-2.06 2.06-.94-2.06-.94-.94-2.06-.94 2.06-2.06.94z\"/><path d=\"M17.41 7.96l-1.37-1.37c-.4-.4-.92-.59-1.43-.59-.52 0-1.04.2-1.43.59L10.3 9.45l-7.72 7.72c-.78.78-.78 2.05 0 2.83L4 21.41c.39.39.9.59 1.41.59.51 0 1.02-.2 1.41-.59l7.78-7.78 2.81-2.81c.8-.78.8-2.07 0-2.86zM5.41 20L4 18.59l7.72-7.72 1.47 1.35L5.41 20z\"/>\n",
       "  </svg>\n",
       "      </button>\n",
       "      \n",
       "  <style>\n",
       "    .colab-df-container {\n",
       "      display:flex;\n",
       "      flex-wrap:wrap;\n",
       "      gap: 12px;\n",
       "    }\n",
       "\n",
       "    .colab-df-convert {\n",
       "      background-color: #E8F0FE;\n",
       "      border: none;\n",
       "      border-radius: 50%;\n",
       "      cursor: pointer;\n",
       "      display: none;\n",
       "      fill: #1967D2;\n",
       "      height: 32px;\n",
       "      padding: 0 0 0 0;\n",
       "      width: 32px;\n",
       "    }\n",
       "\n",
       "    .colab-df-convert:hover {\n",
       "      background-color: #E2EBFA;\n",
       "      box-shadow: 0px 1px 2px rgba(60, 64, 67, 0.3), 0px 1px 3px 1px rgba(60, 64, 67, 0.15);\n",
       "      fill: #174EA6;\n",
       "    }\n",
       "\n",
       "    [theme=dark] .colab-df-convert {\n",
       "      background-color: #3B4455;\n",
       "      fill: #D2E3FC;\n",
       "    }\n",
       "\n",
       "    [theme=dark] .colab-df-convert:hover {\n",
       "      background-color: #434B5C;\n",
       "      box-shadow: 0px 1px 3px 1px rgba(0, 0, 0, 0.15);\n",
       "      filter: drop-shadow(0px 1px 2px rgba(0, 0, 0, 0.3));\n",
       "      fill: #FFFFFF;\n",
       "    }\n",
       "  </style>\n",
       "\n",
       "      <script>\n",
       "        const buttonEl =\n",
       "          document.querySelector('#df-d1e8997e-066b-4571-bba3-39ac403ec9aa button.colab-df-convert');\n",
       "        buttonEl.style.display =\n",
       "          google.colab.kernel.accessAllowed ? 'block' : 'none';\n",
       "\n",
       "        async function convertToInteractive(key) {\n",
       "          const element = document.querySelector('#df-d1e8997e-066b-4571-bba3-39ac403ec9aa');\n",
       "          const dataTable =\n",
       "            await google.colab.kernel.invokeFunction('convertToInteractive',\n",
       "                                                     [key], {});\n",
       "          if (!dataTable) return;\n",
       "\n",
       "          const docLinkHtml = 'Like what you see? Visit the ' +\n",
       "            '<a target=\"_blank\" href=https://colab.research.google.com/notebooks/data_table.ipynb>data table notebook</a>'\n",
       "            + ' to learn more about interactive tables.';\n",
       "          element.innerHTML = '';\n",
       "          dataTable['output_type'] = 'display_data';\n",
       "          await google.colab.output.renderOutput(dataTable, element);\n",
       "          const docLink = document.createElement('div');\n",
       "          docLink.innerHTML = docLinkHtml;\n",
       "          element.appendChild(docLink);\n",
       "        }\n",
       "      </script>\n",
       "    </div>\n",
       "  </div>\n",
       "  "
      ],
      "text/plain": [
       "   VariantID  Variant_Change  ...      DateTimeCreated  CycleTime (s)\n",
       "0        7.0               2  ...  2021-08-05 12:30:00     502.113312\n",
       "1        7.0               2  ...  2021-08-05 12:45:00    1307.774000\n",
       "2        7.0               1  ...  2021-08-05 13:00:00    2113.434688\n",
       "3        7.0               1  ...  2021-08-05 13:15:00    2919.095376\n",
       "4        7.0               1  ...  2021-08-05 13:30:00    1864.589761\n",
       "\n",
       "[5 rows x 14 columns]"
      ]
     },
     "execution_count": 13,
     "metadata": {},
     "output_type": "execute_result"
    }
   ],
   "source": [
    "df.head()"
   ]
  },
  {
   "cell_type": "markdown",
   "metadata": {
    "id": "qA1nrvAax96_"
   },
   "source": [
    "**Now Lets build a model for variantid 7**"
   ]
  },
  {
   "cell_type": "code",
   "execution_count": 14,
   "metadata": {
    "id": "y50FdoRMxKad"
   },
   "outputs": [],
   "source": [
    "df_id7 = df[df.VariantID == 7]"
   ]
  },
  {
   "cell_type": "code",
   "execution_count": 15,
   "metadata": {
    "colab": {
     "base_uri": "https://localhost:8080/"
    },
    "id": "MvQIGHYbyh4J",
    "outputId": "2d32eee2-5b48-4995-80b3-f8b3f44ec223"
   },
   "outputs": [
    {
     "data": {
      "text/plain": [
       "Index(['VariantID', 'Variant_Change', 'Mono_Identity', 'Mono_MM_Duration (s)',\n",
       "       'Wrapping_Duration (s)', 'Pressing_Duration (s)', 'GBD_MM Duration (s)',\n",
       "       'OperationTime (s)', 'Downtime (s)', 'ShutDown (s)', 'Shift',\n",
       "       'Shift Status', 'DateTimeCreated', 'CycleTime (s)'],\n",
       "      dtype='object')"
      ]
     },
     "execution_count": 15,
     "metadata": {},
     "output_type": "execute_result"
    }
   ],
   "source": [
    "df_id7.columns"
   ]
  },
  {
   "cell_type": "markdown",
   "metadata": {
    "id": "6_BsN0XgzD1Y"
   },
   "source": [
    "Input_"
   ]
  },
  {
   "cell_type": "code",
   "execution_count": 16,
   "metadata": {
    "colab": {
     "base_uri": "https://localhost:8080/",
     "height": 372
    },
    "id": "u67I6VQsze3O",
    "outputId": "1c42715e-9469-41be-9c26-cb4c4718cb24"
   },
   "outputs": [
    {
     "data": {
      "text/html": [
       "\n",
       "  <div id=\"df-060f78f2-758b-4bb3-858b-1701b9fbd8e8\">\n",
       "    <div class=\"colab-df-container\">\n",
       "      <div>\n",
       "<style scoped>\n",
       "    .dataframe tbody tr th:only-of-type {\n",
       "        vertical-align: middle;\n",
       "    }\n",
       "\n",
       "    .dataframe tbody tr th {\n",
       "        vertical-align: top;\n",
       "    }\n",
       "\n",
       "    .dataframe thead th {\n",
       "        text-align: right;\n",
       "    }\n",
       "</style>\n",
       "<table border=\"1\" class=\"dataframe\">\n",
       "  <thead>\n",
       "    <tr style=\"text-align: right;\">\n",
       "      <th></th>\n",
       "      <th>VariantID</th>\n",
       "      <th>Variant_Change</th>\n",
       "      <th>Mono_Identity</th>\n",
       "      <th>Mono_MM_Duration (s)</th>\n",
       "      <th>Wrapping_Duration (s)</th>\n",
       "      <th>Pressing_Duration (s)</th>\n",
       "      <th>GBD_MM Duration (s)</th>\n",
       "      <th>OperationTime (s)</th>\n",
       "      <th>Downtime (s)</th>\n",
       "      <th>ShutDown (s)</th>\n",
       "      <th>Shift</th>\n",
       "      <th>Shift Status</th>\n",
       "      <th>DateTimeCreated</th>\n",
       "      <th>CycleTime (s)</th>\n",
       "    </tr>\n",
       "  </thead>\n",
       "  <tbody>\n",
       "    <tr>\n",
       "      <th>0</th>\n",
       "      <td>7.0</td>\n",
       "      <td>2</td>\n",
       "      <td>2</td>\n",
       "      <td>9007</td>\n",
       "      <td>8967</td>\n",
       "      <td>9050</td>\n",
       "      <td>4512</td>\n",
       "      <td>114</td>\n",
       "      <td>440</td>\n",
       "      <td>0</td>\n",
       "      <td>1</td>\n",
       "      <td>0</td>\n",
       "      <td>2021-08-05 12:30:00</td>\n",
       "      <td>502.113312</td>\n",
       "    </tr>\n",
       "    <tr>\n",
       "      <th>1</th>\n",
       "      <td>7.0</td>\n",
       "      <td>2</td>\n",
       "      <td>2</td>\n",
       "      <td>8348</td>\n",
       "      <td>8298</td>\n",
       "      <td>8413</td>\n",
       "      <td>4197</td>\n",
       "      <td>114</td>\n",
       "      <td>1246</td>\n",
       "      <td>0</td>\n",
       "      <td>1</td>\n",
       "      <td>0</td>\n",
       "      <td>2021-08-05 12:45:00</td>\n",
       "      <td>1307.774000</td>\n",
       "    </tr>\n",
       "    <tr>\n",
       "      <th>2</th>\n",
       "      <td>7.0</td>\n",
       "      <td>1</td>\n",
       "      <td>2</td>\n",
       "      <td>7689</td>\n",
       "      <td>7629</td>\n",
       "      <td>7776</td>\n",
       "      <td>3882</td>\n",
       "      <td>113</td>\n",
       "      <td>2051</td>\n",
       "      <td>0</td>\n",
       "      <td>1</td>\n",
       "      <td>0</td>\n",
       "      <td>2021-08-05 13:00:00</td>\n",
       "      <td>2113.434688</td>\n",
       "    </tr>\n",
       "    <tr>\n",
       "      <th>3</th>\n",
       "      <td>7.0</td>\n",
       "      <td>1</td>\n",
       "      <td>2</td>\n",
       "      <td>7030</td>\n",
       "      <td>6960</td>\n",
       "      <td>7139</td>\n",
       "      <td>3567</td>\n",
       "      <td>113</td>\n",
       "      <td>2857</td>\n",
       "      <td>0</td>\n",
       "      <td>1</td>\n",
       "      <td>0</td>\n",
       "      <td>2021-08-05 13:15:00</td>\n",
       "      <td>2919.095376</td>\n",
       "    </tr>\n",
       "    <tr>\n",
       "      <th>4</th>\n",
       "      <td>7.0</td>\n",
       "      <td>1</td>\n",
       "      <td>2</td>\n",
       "      <td>2190</td>\n",
       "      <td>2179</td>\n",
       "      <td>3620</td>\n",
       "      <td>1865</td>\n",
       "      <td>168</td>\n",
       "      <td>1803</td>\n",
       "      <td>0</td>\n",
       "      <td>1</td>\n",
       "      <td>0</td>\n",
       "      <td>2021-08-05 13:30:00</td>\n",
       "      <td>1864.589761</td>\n",
       "    </tr>\n",
       "  </tbody>\n",
       "</table>\n",
       "</div>\n",
       "      <button class=\"colab-df-convert\" onclick=\"convertToInteractive('df-060f78f2-758b-4bb3-858b-1701b9fbd8e8')\"\n",
       "              title=\"Convert this dataframe to an interactive table.\"\n",
       "              style=\"display:none;\">\n",
       "        \n",
       "  <svg xmlns=\"http://www.w3.org/2000/svg\" height=\"24px\"viewBox=\"0 0 24 24\"\n",
       "       width=\"24px\">\n",
       "    <path d=\"M0 0h24v24H0V0z\" fill=\"none\"/>\n",
       "    <path d=\"M18.56 5.44l.94 2.06.94-2.06 2.06-.94-2.06-.94-.94-2.06-.94 2.06-2.06.94zm-11 1L8.5 8.5l.94-2.06 2.06-.94-2.06-.94L8.5 2.5l-.94 2.06-2.06.94zm10 10l.94 2.06.94-2.06 2.06-.94-2.06-.94-.94-2.06-.94 2.06-2.06.94z\"/><path d=\"M17.41 7.96l-1.37-1.37c-.4-.4-.92-.59-1.43-.59-.52 0-1.04.2-1.43.59L10.3 9.45l-7.72 7.72c-.78.78-.78 2.05 0 2.83L4 21.41c.39.39.9.59 1.41.59.51 0 1.02-.2 1.41-.59l7.78-7.78 2.81-2.81c.8-.78.8-2.07 0-2.86zM5.41 20L4 18.59l7.72-7.72 1.47 1.35L5.41 20z\"/>\n",
       "  </svg>\n",
       "      </button>\n",
       "      \n",
       "  <style>\n",
       "    .colab-df-container {\n",
       "      display:flex;\n",
       "      flex-wrap:wrap;\n",
       "      gap: 12px;\n",
       "    }\n",
       "\n",
       "    .colab-df-convert {\n",
       "      background-color: #E8F0FE;\n",
       "      border: none;\n",
       "      border-radius: 50%;\n",
       "      cursor: pointer;\n",
       "      display: none;\n",
       "      fill: #1967D2;\n",
       "      height: 32px;\n",
       "      padding: 0 0 0 0;\n",
       "      width: 32px;\n",
       "    }\n",
       "\n",
       "    .colab-df-convert:hover {\n",
       "      background-color: #E2EBFA;\n",
       "      box-shadow: 0px 1px 2px rgba(60, 64, 67, 0.3), 0px 1px 3px 1px rgba(60, 64, 67, 0.15);\n",
       "      fill: #174EA6;\n",
       "    }\n",
       "\n",
       "    [theme=dark] .colab-df-convert {\n",
       "      background-color: #3B4455;\n",
       "      fill: #D2E3FC;\n",
       "    }\n",
       "\n",
       "    [theme=dark] .colab-df-convert:hover {\n",
       "      background-color: #434B5C;\n",
       "      box-shadow: 0px 1px 3px 1px rgba(0, 0, 0, 0.15);\n",
       "      filter: drop-shadow(0px 1px 2px rgba(0, 0, 0, 0.3));\n",
       "      fill: #FFFFFF;\n",
       "    }\n",
       "  </style>\n",
       "\n",
       "      <script>\n",
       "        const buttonEl =\n",
       "          document.querySelector('#df-060f78f2-758b-4bb3-858b-1701b9fbd8e8 button.colab-df-convert');\n",
       "        buttonEl.style.display =\n",
       "          google.colab.kernel.accessAllowed ? 'block' : 'none';\n",
       "\n",
       "        async function convertToInteractive(key) {\n",
       "          const element = document.querySelector('#df-060f78f2-758b-4bb3-858b-1701b9fbd8e8');\n",
       "          const dataTable =\n",
       "            await google.colab.kernel.invokeFunction('convertToInteractive',\n",
       "                                                     [key], {});\n",
       "          if (!dataTable) return;\n",
       "\n",
       "          const docLinkHtml = 'Like what you see? Visit the ' +\n",
       "            '<a target=\"_blank\" href=https://colab.research.google.com/notebooks/data_table.ipynb>data table notebook</a>'\n",
       "            + ' to learn more about interactive tables.';\n",
       "          element.innerHTML = '';\n",
       "          dataTable['output_type'] = 'display_data';\n",
       "          await google.colab.output.renderOutput(dataTable, element);\n",
       "          const docLink = document.createElement('div');\n",
       "          docLink.innerHTML = docLinkHtml;\n",
       "          element.appendChild(docLink);\n",
       "        }\n",
       "      </script>\n",
       "    </div>\n",
       "  </div>\n",
       "  "
      ],
      "text/plain": [
       "   VariantID  Variant_Change  ...      DateTimeCreated  CycleTime (s)\n",
       "0        7.0               2  ...  2021-08-05 12:30:00     502.113312\n",
       "1        7.0               2  ...  2021-08-05 12:45:00    1307.774000\n",
       "2        7.0               1  ...  2021-08-05 13:00:00    2113.434688\n",
       "3        7.0               1  ...  2021-08-05 13:15:00    2919.095376\n",
       "4        7.0               1  ...  2021-08-05 13:30:00    1864.589761\n",
       "\n",
       "[5 rows x 14 columns]"
      ]
     },
     "execution_count": 16,
     "metadata": {},
     "output_type": "execute_result"
    }
   ],
   "source": [
    "df_id7.head()"
   ]
  },
  {
   "cell_type": "code",
   "execution_count": 17,
   "metadata": {
    "colab": {
     "base_uri": "https://localhost:8080/"
    },
    "id": "veAI9UQlRLXa",
    "outputId": "b81acd4c-aad3-421c-f704-468718f81e88"
   },
   "outputs": [
    {
     "data": {
      "text/plain": [
       "2    5891\n",
       "Name: Mono_Identity, dtype: int64"
      ]
     },
     "execution_count": 17,
     "metadata": {},
     "output_type": "execute_result"
    }
   ],
   "source": [
    "df_id7['Mono_Identity'].value_counts()"
   ]
  },
  {
   "cell_type": "markdown",
   "metadata": {
    "id": "yr3L-LG_HRve"
   },
   "source": [
    "Remove this row as it is the same value for every observation and doesnt make a difference"
   ]
  },
  {
   "cell_type": "code",
   "execution_count": 18,
   "metadata": {
    "id": "RihvqdjKzM-D"
   },
   "outputs": [],
   "source": [
    "df_id7_train = df_id7.drop(['VariantID'], axis = 1)"
   ]
  },
  {
   "cell_type": "code",
   "execution_count": 19,
   "metadata": {
    "id": "3Er8SWFM4uBn"
   },
   "outputs": [],
   "source": [
    "import tensorflow as tf\n",
    "import keras\n",
    "from keras.models import Sequential\n",
    "from keras.layers import Dense, LSTM, Dropout, GRU"
   ]
  },
  {
   "cell_type": "code",
   "execution_count": 20,
   "metadata": {
    "id": "9alPmORcWuaQ"
   },
   "outputs": [],
   "source": [
    "from sklearn.preprocessing import MinMaxScaler"
   ]
  },
  {
   "cell_type": "markdown",
   "metadata": {
    "id": "LNamapZvfVuW"
   },
   "source": [
    "Trial Code for 1 column"
   ]
  },
  {
   "cell_type": "code",
   "execution_count": 21,
   "metadata": {
    "id": "_vtsUouJRLXe"
   },
   "outputs": [],
   "source": [
    "from keras.preprocessing.sequence import TimeseriesGenerator"
   ]
  },
  {
   "cell_type": "code",
   "execution_count": 22,
   "metadata": {
    "colab": {
     "base_uri": "https://localhost:8080/"
    },
    "id": "KgZF-9FUT9ZB",
    "outputId": "3ff26ea2-ba15-430d-a0ae-8d765bea6879"
   },
   "outputs": [
    {
     "name": "stdout",
     "output_type": "stream",
     "text": [
      "Epoch 1/5\n",
      "92/92 [==============================] - 4s 16ms/step - loss: 0.0100\n",
      "Epoch 2/5\n",
      "92/92 [==============================] - 2s 23ms/step - loss: 0.0035\n",
      "Epoch 3/5\n",
      "92/92 [==============================] - 2s 16ms/step - loss: 0.0024\n",
      "Epoch 4/5\n",
      "92/92 [==============================] - 2s 17ms/step - loss: 0.0022\n",
      "Epoch 5/5\n",
      "92/92 [==============================] - 2s 18ms/step - loss: 0.0032\n"
     ]
    }
   ],
   "source": [
    "\n",
    "timeseries_data = df_id7_train['Mono_MM_Duration (s)']\n",
    "\n",
    "#scaler\n",
    "scaler = MinMaxScaler()\n",
    "scaler.fit(np.array(timeseries_data).reshape(-1, 1))\n",
    "scaled_train = scaler.transform(np.array(timeseries_data).reshape(-1, 1))\n",
    "\n",
    "n_input = 14 #no.of past observations to give in as input to predict one outcome\n",
    "n_features = 1 \n",
    "\n",
    "#Generates data\n",
    "generator = TimeseriesGenerator(scaled_train, scaled_train, length = n_input, batch_size = 64)\n",
    "\n",
    "X, y = generator[0]\n",
    "\n",
    "#creating the Deep_learing model\n",
    "model = Sequential()\n",
    "model.add(LSTM(32, activation='relu', input_shape = (X.shape[1], X.shape[2]),return_sequences= True))\n",
    "model.add(LSTM(16, activation='relu'))\n",
    "model.add(Dense(1))\n",
    "model.compile(optimizer = 'adam', loss = 'mse')\n",
    "\n",
    "#fiting the model for 5 epochs\n",
    "model.fit(generator, epochs = 5, verbose = 1)\n",
    "\n",
    "test_predictions = []\n",
    "\n",
    "#take sthe scaled batch and get the observations of the last 14 values\n",
    "first_eval_batch = scaled_train[-n_input:]\n",
    "#reshape them(1,14,1)\n",
    "current_batch = first_eval_batch.reshape((1, n_input, n_features))\n",
    "\n",
    "future = 7\n",
    "#loops through the length of the days into the future you want to predict, makes predictions and saves them\n",
    "for i in range(future):\n",
    "  #gets prediction for current batch\n",
    "  current_pred = model.predict(current_batch)[0]\n",
    "  #append to test_predictions\n",
    "  test_predictions.append(current_pred)  \n",
    "  current_batch = np.append(current_batch[:,1:,:],[[current_pred]],axis=1)\n",
    "\n",
    "#inverse transform\n",
    "true_predictions = scaler.inverse_transform(test_predictions)\n",
    "#flatten the list\n",
    "true_predictions = true_predictions.flatten()"
   ]
  },
  {
   "cell_type": "code",
   "execution_count": 23,
   "metadata": {
    "colab": {
     "base_uri": "https://localhost:8080/"
    },
    "id": "hW3zYx0QV647",
    "outputId": "4d26ec86-1b51-4310-8b9f-a30d80cd9c96"
   },
   "outputs": [
    {
     "data": {
      "text/plain": [
       "(64, 14, 1)"
      ]
     },
     "execution_count": 23,
     "metadata": {},
     "output_type": "execute_result"
    }
   ],
   "source": [
    "X.shape"
   ]
  },
  {
   "cell_type": "code",
   "execution_count": 24,
   "metadata": {
    "colab": {
     "base_uri": "https://localhost:8080/"
    },
    "id": "TIxEw5TmUv7E",
    "outputId": "06d0ecc6-6f59-4af5-be55-bef085b5e5c2"
   },
   "outputs": [
    {
     "data": {
      "text/plain": [
       "array([4127.38861232, 4133.85514447, 4139.99215536, 4147.50661674,\n",
       "       4156.8411884 , 4201.4702405 , 4285.42115956])"
      ]
     },
     "execution_count": 24,
     "metadata": {},
     "output_type": "execute_result"
    }
   ],
   "source": [
    "true_predictions"
   ]
  },
  {
   "cell_type": "markdown",
   "metadata": {
    "id": "bKESkv8wHa4f"
   },
   "source": [
    "Make predictions for 7 days for each of the column\n",
    "**same method and code as used above in the trail cell**"
   ]
  },
  {
   "cell_type": "code",
   "execution_count": 25,
   "metadata": {
    "colab": {
     "base_uri": "https://localhost:8080/"
    },
    "id": "GLYPdYzp07ZJ",
    "outputId": "3aeefd70-9357-4720-f640-5773288aa37f",
    "scrolled": true
   },
   "outputs": [
    {
     "name": "stdout",
     "output_type": "stream",
     "text": [
      "Cols : Variant_Change\n",
      "Training for columns : Variant_Change\n",
      "Epoch 1/3\n",
      "92/92 [==============================] - 4s 21ms/step - loss: 0.1001\n",
      "Epoch 2/3\n",
      "92/92 [==============================] - 2s 21ms/step - loss: 0.0271\n",
      "Epoch 3/3\n",
      "92/92 [==============================] - 2s 23ms/step - loss: 0.0206\n",
      "Cols : Mono_Identity\n",
      "Training for columns : Mono_Identity\n",
      "Epoch 1/3\n",
      "92/92 [==============================] - 5s 22ms/step - loss: 0.0000e+00\n",
      "Epoch 2/3\n",
      "92/92 [==============================] - 2s 22ms/step - loss: 0.0000e+00\n",
      "Epoch 3/3\n",
      "92/92 [==============================] - 2s 23ms/step - loss: 0.0000e+00\n",
      "Cols : Mono_MM_Duration (s)\n",
      "Training for columns : Mono_MM_Duration (s)\n",
      "Epoch 1/3\n",
      "92/92 [==============================] - 5s 23ms/step - loss: 0.0077\n",
      "Epoch 2/3\n",
      "92/92 [==============================] - 2s 23ms/step - loss: 0.0031\n",
      "Epoch 3/3\n",
      "92/92 [==============================] - 2s 22ms/step - loss: 0.0027\n",
      "Cols : Wrapping_Duration (s)\n",
      "Training for columns : Wrapping_Duration (s)\n",
      "Epoch 1/3\n",
      "92/92 [==============================] - 5s 22ms/step - loss: 0.0136\n",
      "Epoch 2/3\n",
      "92/92 [==============================] - 2s 22ms/step - loss: 0.0045\n",
      "Epoch 3/3\n",
      "92/92 [==============================] - 2s 22ms/step - loss: 0.0026\n",
      "Cols : Pressing_Duration (s)\n",
      "Training for columns : Pressing_Duration (s)\n",
      "Epoch 1/3\n",
      "92/92 [==============================] - 5s 22ms/step - loss: 0.0126\n",
      "Epoch 2/3\n",
      "92/92 [==============================] - 2s 22ms/step - loss: 0.0041\n",
      "Epoch 3/3\n",
      "92/92 [==============================] - 2s 21ms/step - loss: 0.0019\n",
      "Cols : GBD_MM Duration (s)\n",
      "Training for columns : GBD_MM Duration (s)\n",
      "Epoch 1/3\n",
      "92/92 [==============================] - 4s 21ms/step - loss: 0.0115\n",
      "Epoch 2/3\n",
      "92/92 [==============================] - 2s 21ms/step - loss: 0.0030\n",
      "Epoch 3/3\n",
      "92/92 [==============================] - 2s 21ms/step - loss: 0.0016\n",
      "Cols : OperationTime (s)\n",
      "Training for columns : OperationTime (s)\n",
      "Epoch 1/3\n",
      "92/92 [==============================] - 4s 21ms/step - loss: 0.0081\n",
      "Epoch 2/3\n",
      "92/92 [==============================] - 2s 21ms/step - loss: 0.0041\n",
      "Epoch 3/3\n",
      "92/92 [==============================] - 2s 21ms/step - loss: 0.0057\n",
      "Cols : Downtime (s)\n",
      "Training for columns : Downtime (s)\n",
      "Epoch 1/3\n",
      "92/92 [==============================] - 5s 21ms/step - loss: 0.0103\n",
      "Epoch 2/3\n",
      "92/92 [==============================] - 2s 22ms/step - loss: 0.0049\n",
      "Epoch 3/3\n",
      "92/92 [==============================] - 2s 22ms/step - loss: 0.0017\n",
      "Cols : ShutDown (s)\n",
      "Training for columns : ShutDown (s)\n",
      "Epoch 1/3\n",
      "92/92 [==============================] - 4s 21ms/step - loss: 0.0135\n",
      "Epoch 2/3\n",
      "92/92 [==============================] - 2s 23ms/step - loss: 0.0029\n",
      "Epoch 3/3\n",
      "92/92 [==============================] - 2s 21ms/step - loss: 0.0059\n",
      "Cols : Shift\n",
      "Training for columns : Shift\n",
      "Epoch 1/3\n",
      "92/92 [==============================] - 4s 21ms/step - loss: 0.0230\n",
      "Epoch 2/3\n",
      "92/92 [==============================] - 2s 21ms/step - loss: 0.0090\n",
      "Epoch 3/3\n",
      "92/92 [==============================] - 2s 22ms/step - loss: 0.0059\n",
      "Cols : Shift Status\n",
      "Training for columns : Shift Status\n",
      "Epoch 1/3\n",
      "92/92 [==============================] - 5s 21ms/step - loss: 0.0974\n",
      "Epoch 2/3\n",
      "92/92 [==============================] - 2s 22ms/step - loss: 0.0322\n",
      "Epoch 3/3\n",
      "92/92 [==============================] - 2s 21ms/step - loss: 0.0301\n"
     ]
    }
   ],
   "source": [
    "temp_df = pd.DataFrame()\n",
    "from sklearn.preprocessing import MinMaxScaler\n",
    "from keras.preprocessing.sequence import TimeseriesGenerator\n",
    "\n",
    "for cols in df_id7_train.drop(['CycleTime (s)', 'DateTimeCreated'], axis = 1).columns:\n",
    "\n",
    "  timeseries_data = df_id7_train[cols]\n",
    "\n",
    "  scaler = MinMaxScaler()\n",
    "  print(f'Cols : {cols}')\n",
    "  scaler.fit(np.array(timeseries_data).reshape(-1, 1))\n",
    "  scaled_train = scaler.transform(np.array(timeseries_data).reshape(-1, 1))\n",
    "\n",
    "  n_input = 14\n",
    "  n_features = 1\n",
    "\n",
    "  generator = TimeseriesGenerator(scaled_train, scaled_train, length=n_input, batch_size = 64)\n",
    "\n",
    "  X, y = generator[0]\n",
    "\n",
    "  model = Sequential()\n",
    "  model.add(LSTM(64, activation='relu', input_shape = (X.shape[1], X.shape[2]),return_sequences= True))\n",
    "  model.add(LSTM(32, activation='relu'))\n",
    "  model.add(Dense(1))\n",
    "  model.compile(optimizer = 'adam', loss = 'mse')\n",
    "\n",
    "  print(f'Training for columns : {cols}')\n",
    "  model.fit(generator, epochs = 3, verbose = 1)\n",
    "\n",
    "  test_predictions = []\n",
    "\n",
    "  first_eval_batch = scaled_train[-n_input:]\n",
    "  current_batch = first_eval_batch.reshape((1, n_input, n_features))\n",
    "\n",
    "  future = 7\n",
    "\n",
    "  for i in range(future):\n",
    "    current_pred = model.predict(current_batch)[0]\n",
    "    test_predictions.append(current_pred)\n",
    "\n",
    "    current_batch = np.append(current_batch[:,1:,:],[[current_pred]],axis=1)\n",
    "  \n",
    "  true_predictions = scaler.inverse_transform(test_predictions)\n",
    "  #flatten the list so that you can save it in the datafarme\n",
    "  temp_df[cols] = true_predictions.flatten()"
   ]
  },
  {
   "cell_type": "code",
   "execution_count": 26,
   "metadata": {
    "colab": {
     "base_uri": "https://localhost:8080/",
     "height": 250
    },
    "id": "PbvLA2pee2tb",
    "outputId": "eaf1a367-106c-4380-d4e9-9a71f7460f66"
   },
   "outputs": [
    {
     "data": {
      "text/html": [
       "\n",
       "  <div id=\"df-994492b1-2d4d-4ce0-9e09-df1c63375ddc\">\n",
       "    <div class=\"colab-df-container\">\n",
       "      <div>\n",
       "<style scoped>\n",
       "    .dataframe tbody tr th:only-of-type {\n",
       "        vertical-align: middle;\n",
       "    }\n",
       "\n",
       "    .dataframe tbody tr th {\n",
       "        vertical-align: top;\n",
       "    }\n",
       "\n",
       "    .dataframe thead th {\n",
       "        text-align: right;\n",
       "    }\n",
       "</style>\n",
       "<table border=\"1\" class=\"dataframe\">\n",
       "  <thead>\n",
       "    <tr style=\"text-align: right;\">\n",
       "      <th></th>\n",
       "      <th>Variant_Change</th>\n",
       "      <th>Mono_Identity</th>\n",
       "      <th>Mono_MM_Duration (s)</th>\n",
       "      <th>Wrapping_Duration (s)</th>\n",
       "      <th>Pressing_Duration (s)</th>\n",
       "      <th>GBD_MM Duration (s)</th>\n",
       "      <th>OperationTime (s)</th>\n",
       "      <th>Downtime (s)</th>\n",
       "      <th>ShutDown (s)</th>\n",
       "      <th>Shift</th>\n",
       "      <th>Shift Status</th>\n",
       "    </tr>\n",
       "  </thead>\n",
       "  <tbody>\n",
       "    <tr>\n",
       "      <th>2</th>\n",
       "      <td>1.109281</td>\n",
       "      <td>2.0</td>\n",
       "      <td>8339.723015</td>\n",
       "      <td>7305.539705</td>\n",
       "      <td>6515.718178</td>\n",
       "      <td>3643.491308</td>\n",
       "      <td>353.969355</td>\n",
       "      <td>1768.670096</td>\n",
       "      <td>1372.439452</td>\n",
       "      <td>1.952898</td>\n",
       "      <td>0.032590</td>\n",
       "    </tr>\n",
       "    <tr>\n",
       "      <th>3</th>\n",
       "      <td>1.125112</td>\n",
       "      <td>2.0</td>\n",
       "      <td>8648.232350</td>\n",
       "      <td>7304.528721</td>\n",
       "      <td>6828.509291</td>\n",
       "      <td>3946.111606</td>\n",
       "      <td>359.834965</td>\n",
       "      <td>1791.459451</td>\n",
       "      <td>1427.262955</td>\n",
       "      <td>1.946373</td>\n",
       "      <td>0.035733</td>\n",
       "    </tr>\n",
       "    <tr>\n",
       "      <th>4</th>\n",
       "      <td>1.140474</td>\n",
       "      <td>2.0</td>\n",
       "      <td>8993.790028</td>\n",
       "      <td>7305.155101</td>\n",
       "      <td>7201.336748</td>\n",
       "      <td>4298.578785</td>\n",
       "      <td>364.226915</td>\n",
       "      <td>1819.946413</td>\n",
       "      <td>1497.827255</td>\n",
       "      <td>1.938832</td>\n",
       "      <td>0.038850</td>\n",
       "    </tr>\n",
       "    <tr>\n",
       "      <th>5</th>\n",
       "      <td>1.155433</td>\n",
       "      <td>2.0</td>\n",
       "      <td>9370.643622</td>\n",
       "      <td>7305.591330</td>\n",
       "      <td>7635.025688</td>\n",
       "      <td>4665.466166</td>\n",
       "      <td>370.722108</td>\n",
       "      <td>1856.877837</td>\n",
       "      <td>1580.736586</td>\n",
       "      <td>1.930497</td>\n",
       "      <td>0.041801</td>\n",
       "    </tr>\n",
       "    <tr>\n",
       "      <th>6</th>\n",
       "      <td>1.170859</td>\n",
       "      <td>2.0</td>\n",
       "      <td>9773.394318</td>\n",
       "      <td>7305.833966</td>\n",
       "      <td>8110.241717</td>\n",
       "      <td>5036.311594</td>\n",
       "      <td>376.295464</td>\n",
       "      <td>1906.869450</td>\n",
       "      <td>1673.013739</td>\n",
       "      <td>1.921562</td>\n",
       "      <td>0.044516</td>\n",
       "    </tr>\n",
       "  </tbody>\n",
       "</table>\n",
       "</div>\n",
       "      <button class=\"colab-df-convert\" onclick=\"convertToInteractive('df-994492b1-2d4d-4ce0-9e09-df1c63375ddc')\"\n",
       "              title=\"Convert this dataframe to an interactive table.\"\n",
       "              style=\"display:none;\">\n",
       "        \n",
       "  <svg xmlns=\"http://www.w3.org/2000/svg\" height=\"24px\"viewBox=\"0 0 24 24\"\n",
       "       width=\"24px\">\n",
       "    <path d=\"M0 0h24v24H0V0z\" fill=\"none\"/>\n",
       "    <path d=\"M18.56 5.44l.94 2.06.94-2.06 2.06-.94-2.06-.94-.94-2.06-.94 2.06-2.06.94zm-11 1L8.5 8.5l.94-2.06 2.06-.94-2.06-.94L8.5 2.5l-.94 2.06-2.06.94zm10 10l.94 2.06.94-2.06 2.06-.94-2.06-.94-.94-2.06-.94 2.06-2.06.94z\"/><path d=\"M17.41 7.96l-1.37-1.37c-.4-.4-.92-.59-1.43-.59-.52 0-1.04.2-1.43.59L10.3 9.45l-7.72 7.72c-.78.78-.78 2.05 0 2.83L4 21.41c.39.39.9.59 1.41.59.51 0 1.02-.2 1.41-.59l7.78-7.78 2.81-2.81c.8-.78.8-2.07 0-2.86zM5.41 20L4 18.59l7.72-7.72 1.47 1.35L5.41 20z\"/>\n",
       "  </svg>\n",
       "      </button>\n",
       "      \n",
       "  <style>\n",
       "    .colab-df-container {\n",
       "      display:flex;\n",
       "      flex-wrap:wrap;\n",
       "      gap: 12px;\n",
       "    }\n",
       "\n",
       "    .colab-df-convert {\n",
       "      background-color: #E8F0FE;\n",
       "      border: none;\n",
       "      border-radius: 50%;\n",
       "      cursor: pointer;\n",
       "      display: none;\n",
       "      fill: #1967D2;\n",
       "      height: 32px;\n",
       "      padding: 0 0 0 0;\n",
       "      width: 32px;\n",
       "    }\n",
       "\n",
       "    .colab-df-convert:hover {\n",
       "      background-color: #E2EBFA;\n",
       "      box-shadow: 0px 1px 2px rgba(60, 64, 67, 0.3), 0px 1px 3px 1px rgba(60, 64, 67, 0.15);\n",
       "      fill: #174EA6;\n",
       "    }\n",
       "\n",
       "    [theme=dark] .colab-df-convert {\n",
       "      background-color: #3B4455;\n",
       "      fill: #D2E3FC;\n",
       "    }\n",
       "\n",
       "    [theme=dark] .colab-df-convert:hover {\n",
       "      background-color: #434B5C;\n",
       "      box-shadow: 0px 1px 3px 1px rgba(0, 0, 0, 0.15);\n",
       "      filter: drop-shadow(0px 1px 2px rgba(0, 0, 0, 0.3));\n",
       "      fill: #FFFFFF;\n",
       "    }\n",
       "  </style>\n",
       "\n",
       "      <script>\n",
       "        const buttonEl =\n",
       "          document.querySelector('#df-994492b1-2d4d-4ce0-9e09-df1c63375ddc button.colab-df-convert');\n",
       "        buttonEl.style.display =\n",
       "          google.colab.kernel.accessAllowed ? 'block' : 'none';\n",
       "\n",
       "        async function convertToInteractive(key) {\n",
       "          const element = document.querySelector('#df-994492b1-2d4d-4ce0-9e09-df1c63375ddc');\n",
       "          const dataTable =\n",
       "            await google.colab.kernel.invokeFunction('convertToInteractive',\n",
       "                                                     [key], {});\n",
       "          if (!dataTable) return;\n",
       "\n",
       "          const docLinkHtml = 'Like what you see? Visit the ' +\n",
       "            '<a target=\"_blank\" href=https://colab.research.google.com/notebooks/data_table.ipynb>data table notebook</a>'\n",
       "            + ' to learn more about interactive tables.';\n",
       "          element.innerHTML = '';\n",
       "          dataTable['output_type'] = 'display_data';\n",
       "          await google.colab.output.renderOutput(dataTable, element);\n",
       "          const docLink = document.createElement('div');\n",
       "          docLink.innerHTML = docLinkHtml;\n",
       "          element.appendChild(docLink);\n",
       "        }\n",
       "      </script>\n",
       "    </div>\n",
       "  </div>\n",
       "  "
      ],
      "text/plain": [
       "   Variant_Change  Mono_Identity  ...     Shift  Shift Status\n",
       "2        1.109281            2.0  ...  1.952898      0.032590\n",
       "3        1.125112            2.0  ...  1.946373      0.035733\n",
       "4        1.140474            2.0  ...  1.938832      0.038850\n",
       "5        1.155433            2.0  ...  1.930497      0.041801\n",
       "6        1.170859            2.0  ...  1.921562      0.044516\n",
       "\n",
       "[5 rows x 11 columns]"
      ]
     },
     "execution_count": 26,
     "metadata": {},
     "output_type": "execute_result"
    }
   ],
   "source": [
    "temp_df.tail()"
   ]
  },
  {
   "cell_type": "code",
   "execution_count": 27,
   "metadata": {
    "id": "4gu36SeGR33i"
   },
   "outputs": [],
   "source": [
    "temp_df = temp_df.round()\n",
    "temp_df = abs(temp_df)\n",
    "df_id7_forecasted = temp_df.astype(int)"
   ]
  },
  {
   "cell_type": "code",
   "execution_count": 28,
   "metadata": {
    "id": "-XAidrSdd0ok"
   },
   "outputs": [],
   "source": [
    "df_id7_forecasted['CycleTime (s)'] = np.zeros(7)"
   ]
  },
  {
   "cell_type": "code",
   "execution_count": 29,
   "metadata": {
    "colab": {
     "base_uri": "https://localhost:8080/",
     "height": 676
    },
    "id": "DvmKhavagL70",
    "outputId": "1e22d408-2621-41dd-ab72-00afed2926c2"
   },
   "outputs": [
    {
     "data": {
      "text/html": [
       "\n",
       "  <div id=\"df-d02226e2-022e-4aa3-a40a-e72293a67d90\">\n",
       "    <div class=\"colab-df-container\">\n",
       "      <div>\n",
       "<style scoped>\n",
       "    .dataframe tbody tr th:only-of-type {\n",
       "        vertical-align: middle;\n",
       "    }\n",
       "\n",
       "    .dataframe tbody tr th {\n",
       "        vertical-align: top;\n",
       "    }\n",
       "\n",
       "    .dataframe thead th {\n",
       "        text-align: right;\n",
       "    }\n",
       "</style>\n",
       "<table border=\"1\" class=\"dataframe\">\n",
       "  <thead>\n",
       "    <tr style=\"text-align: right;\">\n",
       "      <th></th>\n",
       "      <th>Variant_Change</th>\n",
       "      <th>Mono_Identity</th>\n",
       "      <th>Mono_MM_Duration (s)</th>\n",
       "      <th>Wrapping_Duration (s)</th>\n",
       "      <th>Pressing_Duration (s)</th>\n",
       "      <th>GBD_MM Duration (s)</th>\n",
       "      <th>OperationTime (s)</th>\n",
       "      <th>Downtime (s)</th>\n",
       "      <th>ShutDown (s)</th>\n",
       "      <th>Shift</th>\n",
       "      <th>Shift Status</th>\n",
       "      <th>DateTimeCreated</th>\n",
       "      <th>CycleTime (s)</th>\n",
       "    </tr>\n",
       "  </thead>\n",
       "  <tbody>\n",
       "    <tr>\n",
       "      <th>0</th>\n",
       "      <td>2</td>\n",
       "      <td>2</td>\n",
       "      <td>9007</td>\n",
       "      <td>8967</td>\n",
       "      <td>9050</td>\n",
       "      <td>4512</td>\n",
       "      <td>114</td>\n",
       "      <td>440</td>\n",
       "      <td>0</td>\n",
       "      <td>1</td>\n",
       "      <td>0</td>\n",
       "      <td>2021-08-05 12:30:00</td>\n",
       "      <td>502.113312</td>\n",
       "    </tr>\n",
       "    <tr>\n",
       "      <th>1</th>\n",
       "      <td>2</td>\n",
       "      <td>2</td>\n",
       "      <td>8348</td>\n",
       "      <td>8298</td>\n",
       "      <td>8413</td>\n",
       "      <td>4197</td>\n",
       "      <td>114</td>\n",
       "      <td>1246</td>\n",
       "      <td>0</td>\n",
       "      <td>1</td>\n",
       "      <td>0</td>\n",
       "      <td>2021-08-05 12:45:00</td>\n",
       "      <td>1307.774000</td>\n",
       "    </tr>\n",
       "    <tr>\n",
       "      <th>2</th>\n",
       "      <td>1</td>\n",
       "      <td>2</td>\n",
       "      <td>7689</td>\n",
       "      <td>7629</td>\n",
       "      <td>7776</td>\n",
       "      <td>3882</td>\n",
       "      <td>113</td>\n",
       "      <td>2051</td>\n",
       "      <td>0</td>\n",
       "      <td>1</td>\n",
       "      <td>0</td>\n",
       "      <td>2021-08-05 13:00:00</td>\n",
       "      <td>2113.434688</td>\n",
       "    </tr>\n",
       "    <tr>\n",
       "      <th>3</th>\n",
       "      <td>1</td>\n",
       "      <td>2</td>\n",
       "      <td>7030</td>\n",
       "      <td>6960</td>\n",
       "      <td>7139</td>\n",
       "      <td>3567</td>\n",
       "      <td>113</td>\n",
       "      <td>2857</td>\n",
       "      <td>0</td>\n",
       "      <td>1</td>\n",
       "      <td>0</td>\n",
       "      <td>2021-08-05 13:15:00</td>\n",
       "      <td>2919.095376</td>\n",
       "    </tr>\n",
       "    <tr>\n",
       "      <th>4</th>\n",
       "      <td>1</td>\n",
       "      <td>2</td>\n",
       "      <td>2190</td>\n",
       "      <td>2179</td>\n",
       "      <td>3620</td>\n",
       "      <td>1865</td>\n",
       "      <td>168</td>\n",
       "      <td>1803</td>\n",
       "      <td>0</td>\n",
       "      <td>1</td>\n",
       "      <td>0</td>\n",
       "      <td>2021-08-05 13:30:00</td>\n",
       "      <td>1864.589761</td>\n",
       "    </tr>\n",
       "    <tr>\n",
       "      <th>...</th>\n",
       "      <td>...</td>\n",
       "      <td>...</td>\n",
       "      <td>...</td>\n",
       "      <td>...</td>\n",
       "      <td>...</td>\n",
       "      <td>...</td>\n",
       "      <td>...</td>\n",
       "      <td>...</td>\n",
       "      <td>...</td>\n",
       "      <td>...</td>\n",
       "      <td>...</td>\n",
       "      <td>...</td>\n",
       "      <td>...</td>\n",
       "    </tr>\n",
       "    <tr>\n",
       "      <th>5886</th>\n",
       "      <td>1</td>\n",
       "      <td>2</td>\n",
       "      <td>79</td>\n",
       "      <td>166</td>\n",
       "      <td>406</td>\n",
       "      <td>36</td>\n",
       "      <td>131</td>\n",
       "      <td>0</td>\n",
       "      <td>0</td>\n",
       "      <td>2</td>\n",
       "      <td>0</td>\n",
       "      <td>2021-10-05 20:00:00</td>\n",
       "      <td>36.922970</td>\n",
       "    </tr>\n",
       "    <tr>\n",
       "      <th>5887</th>\n",
       "      <td>1</td>\n",
       "      <td>2</td>\n",
       "      <td>191</td>\n",
       "      <td>80</td>\n",
       "      <td>85</td>\n",
       "      <td>49</td>\n",
       "      <td>144</td>\n",
       "      <td>0</td>\n",
       "      <td>0</td>\n",
       "      <td>2</td>\n",
       "      <td>0</td>\n",
       "      <td>2021-10-05 20:15:00</td>\n",
       "      <td>49.933628</td>\n",
       "    </tr>\n",
       "    <tr>\n",
       "      <th>5888</th>\n",
       "      <td>1</td>\n",
       "      <td>2</td>\n",
       "      <td>148</td>\n",
       "      <td>108</td>\n",
       "      <td>72</td>\n",
       "      <td>38</td>\n",
       "      <td>129</td>\n",
       "      <td>0</td>\n",
       "      <td>0</td>\n",
       "      <td>2</td>\n",
       "      <td>0</td>\n",
       "      <td>2021-10-05 20:30:00</td>\n",
       "      <td>37.275124</td>\n",
       "    </tr>\n",
       "    <tr>\n",
       "      <th>5889</th>\n",
       "      <td>1</td>\n",
       "      <td>2</td>\n",
       "      <td>75</td>\n",
       "      <td>87</td>\n",
       "      <td>66</td>\n",
       "      <td>48</td>\n",
       "      <td>144</td>\n",
       "      <td>0</td>\n",
       "      <td>0</td>\n",
       "      <td>2</td>\n",
       "      <td>0</td>\n",
       "      <td>2021-10-05 20:45:00</td>\n",
       "      <td>47.594801</td>\n",
       "    </tr>\n",
       "    <tr>\n",
       "      <th>5890</th>\n",
       "      <td>1</td>\n",
       "      <td>2</td>\n",
       "      <td>149</td>\n",
       "      <td>169</td>\n",
       "      <td>199</td>\n",
       "      <td>77</td>\n",
       "      <td>170</td>\n",
       "      <td>0</td>\n",
       "      <td>0</td>\n",
       "      <td>2</td>\n",
       "      <td>0</td>\n",
       "      <td>2021-10-05 21:00:00</td>\n",
       "      <td>76.912360</td>\n",
       "    </tr>\n",
       "  </tbody>\n",
       "</table>\n",
       "<p>5891 rows × 13 columns</p>\n",
       "</div>\n",
       "      <button class=\"colab-df-convert\" onclick=\"convertToInteractive('df-d02226e2-022e-4aa3-a40a-e72293a67d90')\"\n",
       "              title=\"Convert this dataframe to an interactive table.\"\n",
       "              style=\"display:none;\">\n",
       "        \n",
       "  <svg xmlns=\"http://www.w3.org/2000/svg\" height=\"24px\"viewBox=\"0 0 24 24\"\n",
       "       width=\"24px\">\n",
       "    <path d=\"M0 0h24v24H0V0z\" fill=\"none\"/>\n",
       "    <path d=\"M18.56 5.44l.94 2.06.94-2.06 2.06-.94-2.06-.94-.94-2.06-.94 2.06-2.06.94zm-11 1L8.5 8.5l.94-2.06 2.06-.94-2.06-.94L8.5 2.5l-.94 2.06-2.06.94zm10 10l.94 2.06.94-2.06 2.06-.94-2.06-.94-.94-2.06-.94 2.06-2.06.94z\"/><path d=\"M17.41 7.96l-1.37-1.37c-.4-.4-.92-.59-1.43-.59-.52 0-1.04.2-1.43.59L10.3 9.45l-7.72 7.72c-.78.78-.78 2.05 0 2.83L4 21.41c.39.39.9.59 1.41.59.51 0 1.02-.2 1.41-.59l7.78-7.78 2.81-2.81c.8-.78.8-2.07 0-2.86zM5.41 20L4 18.59l7.72-7.72 1.47 1.35L5.41 20z\"/>\n",
       "  </svg>\n",
       "      </button>\n",
       "      \n",
       "  <style>\n",
       "    .colab-df-container {\n",
       "      display:flex;\n",
       "      flex-wrap:wrap;\n",
       "      gap: 12px;\n",
       "    }\n",
       "\n",
       "    .colab-df-convert {\n",
       "      background-color: #E8F0FE;\n",
       "      border: none;\n",
       "      border-radius: 50%;\n",
       "      cursor: pointer;\n",
       "      display: none;\n",
       "      fill: #1967D2;\n",
       "      height: 32px;\n",
       "      padding: 0 0 0 0;\n",
       "      width: 32px;\n",
       "    }\n",
       "\n",
       "    .colab-df-convert:hover {\n",
       "      background-color: #E2EBFA;\n",
       "      box-shadow: 0px 1px 2px rgba(60, 64, 67, 0.3), 0px 1px 3px 1px rgba(60, 64, 67, 0.15);\n",
       "      fill: #174EA6;\n",
       "    }\n",
       "\n",
       "    [theme=dark] .colab-df-convert {\n",
       "      background-color: #3B4455;\n",
       "      fill: #D2E3FC;\n",
       "    }\n",
       "\n",
       "    [theme=dark] .colab-df-convert:hover {\n",
       "      background-color: #434B5C;\n",
       "      box-shadow: 0px 1px 3px 1px rgba(0, 0, 0, 0.15);\n",
       "      filter: drop-shadow(0px 1px 2px rgba(0, 0, 0, 0.3));\n",
       "      fill: #FFFFFF;\n",
       "    }\n",
       "  </style>\n",
       "\n",
       "      <script>\n",
       "        const buttonEl =\n",
       "          document.querySelector('#df-d02226e2-022e-4aa3-a40a-e72293a67d90 button.colab-df-convert');\n",
       "        buttonEl.style.display =\n",
       "          google.colab.kernel.accessAllowed ? 'block' : 'none';\n",
       "\n",
       "        async function convertToInteractive(key) {\n",
       "          const element = document.querySelector('#df-d02226e2-022e-4aa3-a40a-e72293a67d90');\n",
       "          const dataTable =\n",
       "            await google.colab.kernel.invokeFunction('convertToInteractive',\n",
       "                                                     [key], {});\n",
       "          if (!dataTable) return;\n",
       "\n",
       "          const docLinkHtml = 'Like what you see? Visit the ' +\n",
       "            '<a target=\"_blank\" href=https://colab.research.google.com/notebooks/data_table.ipynb>data table notebook</a>'\n",
       "            + ' to learn more about interactive tables.';\n",
       "          element.innerHTML = '';\n",
       "          dataTable['output_type'] = 'display_data';\n",
       "          await google.colab.output.renderOutput(dataTable, element);\n",
       "          const docLink = document.createElement('div');\n",
       "          docLink.innerHTML = docLinkHtml;\n",
       "          element.appendChild(docLink);\n",
       "        }\n",
       "      </script>\n",
       "    </div>\n",
       "  </div>\n",
       "  "
      ],
      "text/plain": [
       "      Variant_Change  Mono_Identity  ...      DateTimeCreated  CycleTime (s)\n",
       "0                  2              2  ...  2021-08-05 12:30:00     502.113312\n",
       "1                  2              2  ...  2021-08-05 12:45:00    1307.774000\n",
       "2                  1              2  ...  2021-08-05 13:00:00    2113.434688\n",
       "3                  1              2  ...  2021-08-05 13:15:00    2919.095376\n",
       "4                  1              2  ...  2021-08-05 13:30:00    1864.589761\n",
       "...              ...            ...  ...                  ...            ...\n",
       "5886               1              2  ...  2021-10-05 20:00:00      36.922970\n",
       "5887               1              2  ...  2021-10-05 20:15:00      49.933628\n",
       "5888               1              2  ...  2021-10-05 20:30:00      37.275124\n",
       "5889               1              2  ...  2021-10-05 20:45:00      47.594801\n",
       "5890               1              2  ...  2021-10-05 21:00:00      76.912360\n",
       "\n",
       "[5891 rows x 13 columns]"
      ]
     },
     "execution_count": 29,
     "metadata": {},
     "output_type": "execute_result"
    }
   ],
   "source": [
    "df_id7_train"
   ]
  },
  {
   "cell_type": "code",
   "execution_count": 30,
   "metadata": {
    "id": "nGl4uVwjc3G-"
   },
   "outputs": [],
   "source": [
    "cycle_time_id7 = df_id7_train['CycleTime (s)']\n",
    "df_id7_train.drop(['CycleTime (s)'], axis = 1, inplace = True)\n",
    "\n",
    "df_id7_train['CycleTime (s)'] = cycle_time_id7"
   ]
  },
  {
   "cell_type": "code",
   "execution_count": 31,
   "metadata": {
    "id": "6Yi61ZgHdgvN"
   },
   "outputs": [],
   "source": [
    "df_id7_forecasted = pd.concat([df_id7_train, df_id7_forecasted])"
   ]
  },
  {
   "cell_type": "code",
   "execution_count": 32,
   "metadata": {
    "colab": {
     "base_uri": "https://localhost:8080/"
    },
    "id": "nBJCqJINpx0J",
    "outputId": "f0b0e5dd-0a77-4031-937c-db3bb577b081"
   },
   "outputs": [
    {
     "data": {
      "text/plain": [
       "0        502.113312\n",
       "1       1307.774000\n",
       "2       2113.434688\n",
       "3       2919.095376\n",
       "4       1864.589761\n",
       "           ...     \n",
       "5886      36.922970\n",
       "5887      49.933628\n",
       "5888      37.275124\n",
       "5889      47.594801\n",
       "5890      76.912360\n",
       "Name: CycleTime (s), Length: 5891, dtype: float64"
      ]
     },
     "execution_count": 32,
     "metadata": {},
     "output_type": "execute_result"
    }
   ],
   "source": [
    "df_id7['CycleTime (s)'][:5891]"
   ]
  },
  {
   "cell_type": "code",
   "execution_count": 33,
   "metadata": {
    "id": "RHMpNMo4qSuE"
   },
   "outputs": [],
   "source": [
    "df_temp = df_id7_forecasted.copy()"
   ]
  },
  {
   "cell_type": "code",
   "execution_count": 34,
   "metadata": {
    "id": "82KNj_X7RLXl"
   },
   "outputs": [],
   "source": [
    "df_id7_forecasted.drop(['DateTimeCreated'], axis = 1, inplace = True)"
   ]
  },
  {
   "cell_type": "markdown",
   "metadata": {
    "id": "LD0R2BPbfu5z"
   },
   "source": [
    "We forecasted data for each column and we have stored it.."
   ]
  },
  {
   "cell_type": "code",
   "execution_count": 35,
   "metadata": {
    "id": "Qhe4HKoo9fk-"
   },
   "outputs": [],
   "source": [
    "final = df_id7_forecasted.copy()\n",
    "final['VariantID'] = 7"
   ]
  },
  {
   "cell_type": "code",
   "execution_count": 36,
   "metadata": {
    "colab": {
     "base_uri": "https://localhost:8080/"
    },
    "id": "J9ePomMn4HCm",
    "outputId": "d143aadf-57f7-4355-c2c6-447949833494"
   },
   "outputs": [
    {
     "data": {
      "text/plain": [
       "(5898, 13)"
      ]
     },
     "execution_count": 36,
     "metadata": {},
     "output_type": "execute_result"
    }
   ],
   "source": [
    "final.shape"
   ]
  },
  {
   "cell_type": "markdown",
   "metadata": {
    "id": "dANbRT3NJp-a"
   },
   "source": [
    "**Forecasting CycleTime**"
   ]
  },
  {
   "cell_type": "code",
   "execution_count": 37,
   "metadata": {
    "id": "RztIiR0W4jsx"
   },
   "outputs": [],
   "source": [
    "from sklearn.preprocessing import StandardScaler\n",
    "scaler_std = StandardScaler()\n",
    "scaler_std = scaler_std.fit(df_id7_forecasted)\n",
    "df_id7_trainscaled = scaler_std.transform(df_id7_forecasted)"
   ]
  },
  {
   "cell_type": "code",
   "execution_count": 38,
   "metadata": {
    "id": "9QVihcBY5rPA"
   },
   "outputs": [],
   "source": [
    "Train_X = []\n",
    "Train_y = []\n",
    "\n",
    "n_Future = 1\n",
    "n_Past = 14"
   ]
  },
  {
   "cell_type": "code",
   "execution_count": 39,
   "metadata": {
    "colab": {
     "base_uri": "https://localhost:8080/"
    },
    "id": "1b8QdnZv8xG6",
    "outputId": "1fc080ae-489b-4a02-83c3-52530c6f797d"
   },
   "outputs": [
    {
     "data": {
      "text/plain": [
       "13"
      ]
     },
     "execution_count": 39,
     "metadata": {},
     "output_type": "execute_result"
    }
   ],
   "source": [
    "df_id7_train.shape[1]"
   ]
  },
  {
   "cell_type": "markdown",
   "metadata": {
    "id": "tAtv21hlJvFU"
   },
   "source": [
    "Generates data acoordingly into inputs and output"
   ]
  },
  {
   "cell_type": "code",
   "execution_count": 40,
   "metadata": {
    "id": "V4sDkfH76r8w"
   },
   "outputs": [],
   "source": [
    "#iterate between the past observations limit and the length of the df and subtract the future(days to predict into the future) and add 1 \n",
    "for i in range(n_Past, len(df_id7_trainscaled) - n_Future + 1):\n",
    "    #append each value to Train_X\n",
    "    Train_X.append(df_id7_trainscaled[i - n_Past:i, 0:df_id7_train.shape[1]])\n",
    "    #append CycleTime to the Train_y list [-1] is the col index of Cycletime\n",
    "    Train_y.append(df_id7_trainscaled[i + n_Future - 1:i + n_Future, -1])"
   ]
  },
  {
   "cell_type": "code",
   "execution_count": 41,
   "metadata": {
    "id": "pp2NYVxo76G5"
   },
   "outputs": [],
   "source": [
    "Train_X, Train_y = np.array(Train_X), np.array(Train_y)"
   ]
  },
  {
   "cell_type": "markdown",
   "metadata": {
    "id": "M7O8TZtqJ7wS"
   },
   "source": [
    "Train_X has shape (5864, 21, 13) where 5864 is the number of observations, 21 is the data which goes into the NN for prediction of 1 datapoint"
   ]
  },
  {
   "cell_type": "code",
   "execution_count": 42,
   "metadata": {
    "colab": {
     "base_uri": "https://localhost:8080/"
    },
    "id": "QIbMLdIE8Gqp",
    "outputId": "b61d9c64-6693-4d65-ea55-31c80b1c03d6"
   },
   "outputs": [
    {
     "name": "stdout",
     "output_type": "stream",
     "text": [
      "Train X shape : (5884, 14, 12)\n",
      "Train y shape : (5884, 1)\n"
     ]
    }
   ],
   "source": [
    "print(f'Train X shape : {Train_X.shape}')\n",
    "print(f'Train y shape : {Train_y.shape}')"
   ]
  },
  {
   "cell_type": "code",
   "execution_count": 43,
   "metadata": {
    "id": "57FiHNaT_5QB"
   },
   "outputs": [],
   "source": [
    "import tensorflow as tf\n",
    "import keras\n",
    "from keras.models import Sequential\n",
    "from keras.layers import Dense, LSTM, Dropout"
   ]
  },
  {
   "cell_type": "code",
   "execution_count": 44,
   "metadata": {
    "colab": {
     "base_uri": "https://localhost:8080/"
    },
    "id": "ksG__3_vAOqv",
    "outputId": "e8518b70-7dae-45df-bc2f-b827afb2a5d7"
   },
   "outputs": [
    {
     "name": "stdout",
     "output_type": "stream",
     "text": [
      "Model: \"sequential_12\"\n",
      "_________________________________________________________________\n",
      " Layer (type)                Output Shape              Param #   \n",
      "=================================================================\n",
      " lstm_24 (LSTM)              (None, 14, 64)            19712     \n",
      "                                                                 \n",
      " lstm_25 (LSTM)              (None, 32)                12416     \n",
      "                                                                 \n",
      " dropout (Dropout)           (None, 32)                0         \n",
      "                                                                 \n",
      " dense_12 (Dense)            (None, 1)                 33        \n",
      "                                                                 \n",
      "=================================================================\n",
      "Total params: 32,161\n",
      "Trainable params: 32,161\n",
      "Non-trainable params: 0\n",
      "_________________________________________________________________\n"
     ]
    }
   ],
   "source": [
    "#create the DL model\n",
    "model_id7 = Sequential()\n",
    "#using relu as the activation\n",
    "model_id7.add(LSTM(64, activation='relu', input_shape = (Train_X.shape[1], Train_X.shape[2]), return_sequences=True))\n",
    "model_id7.add(LSTM(32, activation='relu', return_sequences=False))\n",
    "model_id7.add(Dropout(0.2))\n",
    "model_id7.add(Dense(Train_y.shape[1]))\n",
    "\n",
    "#using adam as the activation\n",
    "model_id7.compile(optimizer = 'adam', loss = 'mse')\n",
    "model_id7.summary()"
   ]
  },
  {
   "cell_type": "code",
   "execution_count": 45,
   "metadata": {
    "colab": {
     "base_uri": "https://localhost:8080/"
    },
    "id": "70f9u0g3A4jP",
    "outputId": "f6954e6b-8fd7-4819-d394-71eea88a93db"
   },
   "outputs": [
    {
     "name": "stdout",
     "output_type": "stream",
     "text": [
      "Epoch 1/10\n",
      "368/368 [==============================] - 8s 16ms/step - loss: 0.1260\n",
      "Epoch 2/10\n",
      "368/368 [==============================] - 9s 23ms/step - loss: 0.0669\n",
      "Epoch 3/10\n",
      "368/368 [==============================] - 11s 31ms/step - loss: 0.0738\n",
      "Epoch 4/10\n",
      "368/368 [==============================] - 10s 28ms/step - loss: 0.0557\n",
      "Epoch 5/10\n",
      "368/368 [==============================] - 10s 26ms/step - loss: 0.0447\n",
      "Epoch 6/10\n",
      "368/368 [==============================] - 7s 18ms/step - loss: 0.0491\n",
      "Epoch 7/10\n",
      "368/368 [==============================] - 6s 15ms/step - loss: 0.0445\n",
      "Epoch 8/10\n",
      "368/368 [==============================] - 6s 15ms/step - loss: 0.0426\n",
      "Epoch 9/10\n",
      "368/368 [==============================] - 5s 15ms/step - loss: 0.0444\n",
      "Epoch 10/10\n",
      "368/368 [==============================] - 6s 15ms/step - loss: 0.0340\n"
     ]
    }
   ],
   "source": [
    "history_id7 = model_id7.fit(Train_X, Train_y, \n",
    "                    epochs = 10, batch_size = 16,\n",
    "                    verbose = 1)"
   ]
  },
  {
   "cell_type": "code",
   "execution_count": 46,
   "metadata": {
    "colab": {
     "base_uri": "https://localhost:8080/",
     "height": 282
    },
    "id": "3h6toNy3EzXY",
    "outputId": "c9e53d53-6707-46a1-b2f7-e0ad90fe7636"
   },
   "outputs": [
    {
     "data": {
      "text/plain": [
       "[<matplotlib.lines.Line2D at 0x7fbf82416850>]"
      ]
     },
     "execution_count": 46,
     "metadata": {},
     "output_type": "execute_result"
    },
    {
     "data": {
      "image/png": "[encoded data removed]",
      "text/plain": [
       "<Figure size 432x288 with 1 Axes>"
      ]
     },
     "metadata": {
      "needs_background": "light"
     },
     "output_type": "display_data"
    }
   ],
   "source": [
    "import matplotlib.pyplot as plt\n",
    "plt.plot(history_id7.history['loss'])"
   ]
  },
  {
   "cell_type": "markdown",
   "metadata": {
    "id": "T4v71tW7KkRy"
   },
   "source": [
    "we will create a series of dates to forecast and then append our predictions to it"
   ]
  },
  {
   "cell_type": "code",
   "execution_count": 47,
   "metadata": {
    "id": "BLHjWDS7Hxfm"
   },
   "outputs": [],
   "source": [
    "# we use past data as inputs in order to forecast into the future\n",
    "N_past = 8\n",
    "N_future = 7"
   ]
  },
  {
   "cell_type": "code",
   "execution_count": 48,
   "metadata": {
    "colab": {
     "base_uri": "https://localhost:8080/"
    },
    "id": "vCrhAlpHE8PZ",
    "outputId": "3917f6c3-c97a-4202-b5d9-276fb0b1b58c"
   },
   "outputs": [
    {
     "name": "stdout",
     "output_type": "stream",
     "text": [
      "[Timestamp('2021-10-05 19:15:00', freq='D'), Timestamp('2021-10-06 19:15:00', freq='D'), Timestamp('2021-10-07 19:15:00', freq='D'), Timestamp('2021-10-08 19:15:00', freq='D'), Timestamp('2021-10-09 19:15:00', freq='D'), Timestamp('2021-10-10 19:15:00', freq='D'), Timestamp('2021-10-11 19:15:00', freq='D')]\n"
     ]
    }
   ],
   "source": [
    "#create daterage for 7 days into the future\n",
    "forecast_period_dates = pd.date_range(list(df_id7.DateTimeCreated)[-N_past], periods = N_future, freq = '1d').tolist()\n",
    "print(forecast_period_dates)"
   ]
  },
  {
   "cell_type": "code",
   "execution_count": 49,
   "metadata": {
    "id": "_aNgi74KIHHa"
   },
   "outputs": [],
   "source": [
    "#predict using the observations from the previous data\n",
    "prediction_id7 = model_id7.predict(Train_X[-N_future:])"
   ]
  },
  {
   "cell_type": "code",
   "execution_count": 50,
   "metadata": {
    "id": "lXQCn7dsIbzD"
   },
   "outputs": [],
   "source": [
    "#repeat the predictions for the fututre days(given as input)\n",
    "predictions_id7 = np.repeat(prediction_id7, df_id7_forecasted.shape[1], axis=-1)\n",
    "#inverse_transform\n",
    "y_pred_future = scaler_std.inverse_transform(predictions_id7)[:,0]"
   ]
  },
  {
   "cell_type": "code",
   "execution_count": 51,
   "metadata": {
    "id": "Jy3CKaYQIr1e"
   },
   "outputs": [],
   "source": [
    "# Append the predictions to the list\n",
    "forecast_dates_ID7 = []\n",
    "\n",
    "for time_i in forecast_period_dates:\n",
    "    forecast_dates_ID7.append(time_i.date())\n",
    "    \n",
    "df_fr_final_ID7 = pd.DataFrame({'Date':np.array(forecast_dates_ID7), 'CycleTime':y_pred_future})\n",
    "df_fr_final_ID7['Date'] = pd.to_datetime(df_fr_final_ID7['Date'])"
   ]
  },
  {
   "cell_type": "code",
   "execution_count": 52,
   "metadata": {
    "colab": {
     "base_uri": "https://localhost:8080/",
     "height": 334
    },
    "id": "wzLZy8PVKRyT",
    "outputId": "1d88d598-da87-430a-a144-0d193f502b25"
   },
   "outputs": [
    {
     "name": "stderr",
     "output_type": "stream",
     "text": [
      "/usr/local/lib/python3.7/dist-packages/seaborn/_decorators.py:43: FutureWarning: Pass the following variables as keyword args: x, y. From version 0.12, the only valid positional argument will be `data`, and passing other arguments without an explicit keyword will result in an error or misinterpretation.\n",
      "  FutureWarning\n"
     ]
    },
    {
     "data": {
      "image/png": "[encoded data removed]",
      "text/plain": [
       "<Figure size 1080x288 with 1 Axes>"
      ]
     },
     "metadata": {
      "needs_background": "light"
     },
     "output_type": "display_data"
    }
   ],
   "source": [
    "import seaborn as sns\n",
    "\n",
    "plt.figure(figsize = (15,4))\n",
    "ax = sns.lineplot(df_fr_final_ID7['Date'], df_fr_final_ID7['CycleTime'])"
   ]
  },
  {
   "cell_type": "code",
   "execution_count": 53,
   "metadata": {
    "colab": {
     "base_uri": "https://localhost:8080/"
    },
    "id": "_2nLukFzKZEb",
    "outputId": "574d3f70-a379-4ada-8f3b-669107b02428"
   },
   "outputs": [
    {
     "name": "stderr",
     "output_type": "stream",
     "text": [
      "/usr/local/lib/python3.7/dist-packages/ipykernel_launcher.py:2: SettingWithCopyWarning: \n",
      "A value is trying to be set on a copy of a slice from a DataFrame\n",
      "\n",
      "See the caveats in the documentation: https://pandas.pydata.org/pandas-docs/stable/user_guide/indexing.html#returning-a-view-versus-a-copy\n",
      "  \n"
     ]
    }
   ],
   "source": [
    "#plug the cycletime values into the dataframe\n",
    "df_id7_forecasted['CycleTime (s)'][-7:] = df_fr_final_ID7['CycleTime']"
   ]
  },
  {
   "cell_type": "code",
   "execution_count": 54,
   "metadata": {
    "id": "Ol_pQN_JvWOW"
   },
   "outputs": [],
   "source": [
    "df_id7_forecasted = df_id7"
   ]
  },
  {
   "cell_type": "code",
   "execution_count": 55,
   "metadata": {
    "colab": {
     "base_uri": "https://localhost:8080/"
    },
    "id": "hcy1l4-4RLXx",
    "outputId": "baa89290-0734-48ff-9477-de490eb9f184"
   },
   "outputs": [
    {
     "name": "stderr",
     "output_type": "stream",
     "text": [
      "/usr/local/lib/python3.7/dist-packages/ipykernel_launcher.py:2: SettingWithCopyWarning: \n",
      "A value is trying to be set on a copy of a slice from a DataFrame.\n",
      "Try using .loc[row_indexer,col_indexer] = value instead\n",
      "\n",
      "See the caveats in the documentation: https://pandas.pydata.org/pandas-docs/stable/user_guide/indexing.html#returning-a-view-versus-a-copy\n",
      "  \n",
      "/usr/local/lib/python3.7/dist-packages/ipykernel_launcher.py:3: SettingWithCopyWarning: \n",
      "A value is trying to be set on a copy of a slice from a DataFrame.\n",
      "Try using .loc[row_indexer,col_indexer] = value instead\n",
      "\n",
      "See the caveats in the documentation: https://pandas.pydata.org/pandas-docs/stable/user_guide/indexing.html#returning-a-view-versus-a-copy\n",
      "  This is separate from the ipykernel package so we can avoid doing imports until\n",
      "/usr/local/lib/python3.7/dist-packages/ipykernel_launcher.py:4: SettingWithCopyWarning: \n",
      "A value is trying to be set on a copy of a slice from a DataFrame.\n",
      "Try using .loc[row_indexer,col_indexer] = value instead\n",
      "\n",
      "See the caveats in the documentation: https://pandas.pydata.org/pandas-docs/stable/user_guide/indexing.html#returning-a-view-versus-a-copy\n",
      "  after removing the cwd from sys.path.\n",
      "/usr/local/lib/python3.7/dist-packages/ipykernel_launcher.py:5: SettingWithCopyWarning: \n",
      "A value is trying to be set on a copy of a slice from a DataFrame.\n",
      "Try using .loc[row_indexer,col_indexer] = value instead\n",
      "\n",
      "See the caveats in the documentation: https://pandas.pydata.org/pandas-docs/stable/user_guide/indexing.html#returning-a-view-versus-a-copy\n",
      "  \"\"\"\n"
     ]
    }
   ],
   "source": [
    "#converted Values to string\n",
    "df_id7_forecasted['Variant_Change'] = df_id7_forecasted['Variant_Change'].apply(str)\n",
    "df_id7_forecasted['Mono_Identity'] = df_id7_forecasted['Mono_Identity'].apply(str)\n",
    "df_id7_forecasted['Shift'] = df_id7_forecasted['Shift'].apply(str)\n",
    "df_id7_forecasted['Shift Status'] = df_id7_forecasted['Shift Status'].apply(str)"
   ]
  },
  {
   "cell_type": "markdown",
   "metadata": {
    "id": "32ODDaBgg1Hd"
   },
   "source": [
    "## Now We will do the same for other VarientIDs too"
   ]
  },
  {
   "cell_type": "markdown",
   "metadata": {
    "id": "D2ETT-7D4vGx"
   },
   "source": [
    "we will forecast for top 5 variantIDs with more data"
   ]
  },
  {
   "cell_type": "code",
   "execution_count": 56,
   "metadata": {
    "colab": {
     "base_uri": "https://localhost:8080/"
    },
    "id": "MilBTdyN5HfA",
    "outputId": "5d5d8c5e-c105-4dce-a81d-bd8627a226ab"
   },
   "outputs": [
    {
     "data": {
      "text/plain": [
       "[28.0, 27.0, 18.0, 17.0, 16.0]"
      ]
     },
     "execution_count": 56,
     "metadata": {},
     "output_type": "execute_result"
    }
   ],
   "source": [
    "idx = df.VariantID.value_counts().index\n",
    "top_five_vid = idx[:5].tolist()\n",
    "top_five_vid"
   ]
  },
  {
   "cell_type": "code",
   "execution_count": 57,
   "metadata": {
    "id": "rO3Bo0a7-Umf"
   },
   "outputs": [],
   "source": [
    "import tensorflow as tf\n",
    "import keras\n",
    "from keras.models import Sequential\n",
    "from keras.layers import Dense, LSTM, Dropout, GRU\n",
    "from sklearn.preprocessing import MinMaxScaler, StandardScaler\n",
    "from keras.preprocessing.sequence import TimeseriesGenerator\n",
    "from warnings import filterwarnings as filt \n",
    "\n",
    "filt('ignore')"
   ]
  },
  {
   "cell_type": "markdown",
   "metadata": {
    "id": "D902DZtKhQt1"
   },
   "source": [
    "Function to generate the dataframe with predicted values"
   ]
  },
  {
   "cell_type": "code",
   "execution_count": 58,
   "metadata": {
    "id": "NXP7bgue50Vq"
   },
   "outputs": [],
   "source": [
    "# main function which takes dataframe as arguement and the vid which you want to forecast\n",
    "def get_forecasted_df(df, vid):\n",
    "  sdf = df[df.VariantID == vid]\n",
    "  print(sdf.shape)\n",
    "\n",
    "  if len(sdf) == 0:\n",
    "    return None\n",
    "\n",
    "  df_with_datetime = sdf.copy()\n",
    "  sdf = sdf.drop(['DateTimeCreated', 'VariantID'], axis = 1)\n",
    "  cols = sdf.drop(['CycleTime (s)'], axis = 1).columns\n",
    "  sdf[cols] = np.round(sdf[cols])\n",
    "\n",
    "  \"Removing cycleTime and appending it at the last\"\n",
    "\n",
    "  cycle_time = sdf['CycleTime (s)']\n",
    "  sdf.drop(['CycleTime (s)'], axis = 1, inplace = True)\n",
    "  sdf['CycleTime (s)'] = cycle_time\n",
    "  #calls the return_var_forecast functions which returns the forecasted variables df\n",
    "  sdf_var_forecasted = return_var_forecast(sdf)\n",
    "  sdf_var_forecasted['CycleTime (s)'] = np.zeros(7)\n",
    "\n",
    "  #concats the df into one\n",
    "  df_forecasted = pd.concat([sdf, sdf_var_forecasted])\n",
    "  df_forecasted[cols] = abs(df_forecasted[cols])\n",
    "  #calls the function which returns the finals cycletime forecast\n",
    "  final_forecasted_df = final_Cycle_time_forecasting(df_forecasted, df_with_datetime)\n",
    "\n",
    "  idx = min(len(final_forecasted_df), 7)\n",
    "\n",
    "  df_forecasted['CycleTime (s)'][-idx:] = final_forecasted_df.CycleTime \n",
    "  df_final = df_forecasted\n",
    "  df_final['Variant_Change'] = df_final['Variant_Change'].apply(str)\n",
    "  df_final['Mono_Identity'] = df_final['Mono_Identity'].apply(str)\n",
    "  df_final['Shift'] = df_final['Shift'].apply(str)\n",
    "  df_final['Shift Status'] = df_final['Shift Status'].apply(str)\n",
    "\n",
    "  return df_final"
   ]
  },
  {
   "cell_type": "code",
   "execution_count": 59,
   "metadata": {
    "id": "3Ib374xUGGHX"
   },
   "outputs": [],
   "source": [
    "#returns the forecasted variables\n",
    "\n",
    "def return_var_forecast(df):\n",
    "  temp_df = pd.DataFrame()\n",
    "  \n",
    "  for cols in df.columns:\n",
    "    print(f'Forecasting for variable : {cols}')\n",
    "    if cols != 'CycleTime (s)':\n",
    "      \n",
    "      timeseries_data = df[cols]\n",
    "\n",
    "      #scaler\n",
    "      scaler = MinMaxScaler()\n",
    "      scaler.fit(np.array(timeseries_data).reshape(-1, 1))\n",
    "      scaled_train = scaler.transform(np.array(timeseries_data).reshape(-1, 1))\n",
    "\n",
    "      \n",
    "      n_input = 14 #past days to consider for predicting\n",
    "      n_features = 1 #value you are going to predict\n",
    "\n",
    "      if len(df) < n_input:\n",
    "        n_input = len(df) - 1\n",
    "\n",
    "      generator = TimeseriesGenerator(scaled_train, scaled_train, length=n_input, batch_size = 64)\n",
    "\n",
    "      X, y = generator[0]\n",
    "\n",
    "      model = Sequential()\n",
    "      model.add(LSTM(64, activation='relu', input_shape = (X.shape[1], X.shape[2]),return_sequences= True))\n",
    "      model.add(LSTM(32, activation='relu'))\n",
    "      model.add(Dense(1))\n",
    "      model.compile(optimizer = 'adam', loss = 'mse')\n",
    "\n",
    "      print(f'Training for columns : {cols}')\n",
    "      model.fit(generator, epochs = 3, verbose = 1)\n",
    "\n",
    "      #saves predictions into this list\n",
    "      test_predictions = []\n",
    "\n",
    "      first_eval_batch = scaled_train[-n_input:]\n",
    "      current_batch = first_eval_batch.reshape((1, n_input, n_features))\n",
    "\n",
    "      future = 7\n",
    "\n",
    "      for i in range(future):\n",
    "        current_pred = model.predict(current_batch)[0]\n",
    "        test_predictions.append(current_pred)\n",
    "\n",
    "        current_batch = np.append(current_batch[:,1:,:],[[current_pred]],axis=1)\n",
    "      \n",
    "      #apply inverse transform as we have used Minmax scaler\n",
    "      true_predictions = scaler.inverse_transform(test_predictions)\n",
    "      \n",
    "      temp_df[cols] = true_predictions.flatten()\n",
    "  \n",
    "  temp_df = temp_df.round()\n",
    "  temp_df = abs(temp_df)\n",
    "  temp_df = temp_df.astype(int)\n",
    "  print(temp_df.shape)\n",
    "  \n",
    "  return temp_df"
   ]
  },
  {
   "cell_type": "code",
   "execution_count": 60,
   "metadata": {
    "id": "GxKWAWxUB7it"
   },
   "outputs": [],
   "source": [
    "#returns the final forecasted Cycletime\n",
    "\n",
    "def final_Cycle_time_forecasting(df, datetime_df):\n",
    "\n",
    "  #scaler\n",
    "  scaler_std = StandardScaler()\n",
    "  scaler_std = scaler_std.fit(df)\n",
    "  df_forecasted_final = scaler_std.transform(df)\n",
    "\n",
    "  Train_X = []\n",
    "  Train_y = []\n",
    "\n",
    "  n_Future = 1\n",
    "  n_Past = 14\n",
    "\n",
    "  #generating data\n",
    "  for i in range(n_Past, len(df_forecasted_final) - n_Future + 1):\n",
    "    Train_X.append(df_forecasted_final[i - n_Past:i, 0:df_forecasted_final.shape[1]])\n",
    "    Train_y.append(df_forecasted_final[i + n_Future - 1:i + n_Future, -1])\n",
    "\n",
    "  \n",
    "  Train_X, Train_y = np.array(Train_X), np.array(Train_y)\n",
    "\n",
    "  model = Sequential()\n",
    "  model.add(LSTM(64, activation='relu', input_shape = (Train_X.shape[1], Train_X.shape[2]), return_sequences=True))\n",
    "  model.add(LSTM(32, activation='relu', return_sequences=False))\n",
    "  model.add(Dropout(0.2))\n",
    "  model.add(Dense(Train_y.shape[1]))\n",
    "\n",
    "  model.compile(optimizer = 'adam', loss = 'mse')\n",
    "  model.summary()\n",
    "\n",
    "  history = model.fit(Train_X, Train_y, \n",
    "                    epochs = 5, batch_size = 32,\n",
    "                    verbose = 1)\n",
    "\n",
    "  N_past = 8\n",
    "  N_future = 7\n",
    "  \n",
    "  forecast_period_dates = pd.date_range(list(datetime_df.DateTimeCreated)[-N_past], periods = N_future, freq = '1d').tolist()\n",
    "  prediction = model.predict(Train_X[-N_future:])\n",
    "\n",
    "  predictions = np.repeat(prediction, df_forecasted_final.shape[1], axis=-1)\n",
    "  y_pred_future = scaler_std.inverse_transform(predictions)[:,0]\n",
    "\n",
    "  forecast_dates = []\n",
    "\n",
    "  for time_i in forecast_period_dates:\n",
    "      forecast_dates.append(time_i.date())\n",
    "  \n",
    "\n",
    "  mini = min(len(forecast_dates), len(y_pred_future))\n",
    "  final_forecasted_df = pd.DataFrame({'Date':forecast_dates[-mini:], 'CycleTime':y_pred_future[-mini:]})\n",
    "\n",
    "  final_forecasted_df['Date'] = pd.to_datetime(final_forecasted_df['Date'])\n",
    "  \n",
    "  return final_forecasted_df"
   ]
  },
  {
   "cell_type": "code",
   "execution_count": 61,
   "metadata": {
    "colab": {
     "base_uri": "https://localhost:8080/"
    },
    "id": "IqKMEFqq-RnD",
    "outputId": "20be2f94-b9c0-40ae-afa4-cb475c4c84cd"
   },
   "outputs": [
    {
     "data": {
      "text/plain": [
       "[28, 27, 18, 17, 16]"
      ]
     },
     "execution_count": 61,
     "metadata": {},
     "output_type": "execute_result"
    }
   ],
   "source": [
    "idx = df.VariantID.value_counts().index\n",
    "top_five_vid = idx[:5].astype(int).tolist()\n",
    "top_five_vid"
   ]
  },
  {
   "cell_type": "code",
   "execution_count": 62,
   "metadata": {
    "id": "MO4W_CB8RLX4"
   },
   "outputs": [],
   "source": [
    "#import df again"
   ]
  },
  {
   "cell_type": "code",
   "execution_count": 63,
   "metadata": {
    "id": "NNk3nKwsRLX4"
   },
   "outputs": [],
   "source": [
    "df = pd.read_csv('Dataframe_final_preprocessed.csv', index_col = False)"
   ]
  },
  {
   "cell_type": "code",
   "execution_count": null,
   "metadata": {
    "colab": {
     "base_uri": "https://localhost:8080/"
    },
    "id": "NM1hz0W-G9cl",
    "outputId": "7608e94b-9368-4b3e-8a52-224b9c68c617"
   },
   "outputs": [
    {
     "name": "stdout",
     "output_type": "stream",
     "text": [
      "              Forecasting for varient id : 28               \n",
      "(7990, 14)\n",
      "Forecasting for variable : Variant_Change\n",
      "Training for columns : Variant_Change\n",
      "Epoch 1/3\n",
      "125/125 [==============================] - 5s 21ms/step - loss: 0.0850\n",
      "Epoch 2/3\n",
      "125/125 [==============================] - 3s 21ms/step - loss: 0.0165\n",
      "Epoch 3/3\n",
      "125/125 [==============================] - 3s 21ms/step - loss: 0.0116\n",
      "Forecasting for variable : Mono_Identity\n",
      "Training for columns : Mono_Identity\n",
      "Epoch 1/3\n",
      "125/125 [==============================] - 5s 21ms/step - loss: 0.0000e+00\n",
      "Epoch 2/3\n",
      "125/125 [==============================] - 3s 21ms/step - loss: 0.0000e+00\n",
      "Epoch 3/3\n",
      "125/125 [==============================] - 3s 20ms/step - loss: 0.0000e+00\n",
      "Forecasting for variable : Mono_MM_Duration (s)\n",
      "Training for columns : Mono_MM_Duration (s)\n",
      "Epoch 1/3\n",
      "125/125 [==============================] - 5s 20ms/step - loss: 0.0048\n",
      "Epoch 2/3\n",
      "125/125 [==============================] - 3s 20ms/step - loss: 0.0023\n",
      "Epoch 3/3\n",
      "125/125 [==============================] - 3s 20ms/step - loss: 0.0034\n",
      "Forecasting for variable : Wrapping_Duration (s)\n",
      "Training for columns : Wrapping_Duration (s)\n",
      "Epoch 1/3\n",
      "125/125 [==============================] - 5s 20ms/step - loss: 0.0062\n",
      "Epoch 2/3\n",
      "125/125 [==============================] - 3s 27ms/step - loss: 0.0019\n",
      "Epoch 3/3\n",
      "125/125 [==============================] - 3s 20ms/step - loss: 0.0032\n",
      "Forecasting for variable : Pressing_Duration (s)\n",
      "Training for columns : Pressing_Duration (s)\n",
      "Epoch 1/3\n",
      "125/125 [==============================] - 5s 20ms/step - loss: 0.0113\n",
      "Epoch 2/3\n",
      "125/125 [==============================] - 3s 21ms/step - loss: 0.0019\n",
      "Epoch 3/3\n",
      "125/125 [==============================] - 3s 21ms/step - loss: 0.0062\n",
      "Forecasting for variable : GBD_MM Duration (s)\n",
      "Training for columns : GBD_MM Duration (s)\n",
      "Epoch 1/3\n",
      "108/125 [========================>.....] - ETA: 0s - loss: 0.0117"
     ]
    }
   ],
   "source": [
    "print(f'Forecasting for varient id : 28'.center(60, ' '))\n",
    "# to forecast for any varient enter the varientID as the 2nd parameter in the get_forecasted_df() fucntion which takes the resmapled data as the arguement\n",
    "# returns the forecasted variables(fc_var) and forecasted Cycletime, df_28 in this case\n",
    "df_28 = get_forecasted_df(df, 28)                        "
   ]
  },
  {
   "cell_type": "code",
   "execution_count": null,
   "metadata": {
    "id": "CEJ1kynn_iIE"
   },
   "outputs": [],
   "source": [
    "temp = df_28.copy()\n",
    "temp['VariantID'] = 28\n",
    "\n",
    "final = pd.concat([final, temp])\n",
    "final.shape"
   ]
  },
  {
   "cell_type": "markdown",
   "metadata": {
    "id": "2pkAapIqTuzC"
   },
   "source": [
    "VariantID 27"
   ]
  },
  {
   "cell_type": "code",
   "execution_count": 66,
   "metadata": {
    "colab": {
     "base_uri": "https://localhost:8080/"
    },
    "id": "o7J77HRsSqwK",
    "outputId": "89389787-3d2f-41eb-eae4-f65044a8fbb9"
   },
   "outputs": [
    {
     "name": "stdout",
     "output_type": "stream",
     "text": [
      "              Forecasting for varient id : 27               \n",
      "(7891, 14)\n",
      "Forecasting for variable : Variant_Change\n",
      "Training for columns : Variant_Change\n",
      "Epoch 1/3\n",
      "124/124 [==============================] - 5s 20ms/step - loss: 0.1032\n",
      "Epoch 2/3\n",
      "124/124 [==============================] - 3s 20ms/step - loss: 0.0073\n",
      "Epoch 3/3\n",
      "124/124 [==============================] - 3s 21ms/step - loss: 0.0065\n",
      "Forecasting for variable : Mono_Identity\n",
      "Training for columns : Mono_Identity\n",
      "Epoch 1/3\n",
      "124/124 [==============================] - 5s 20ms/step - loss: 0.0000e+00\n",
      "Epoch 2/3\n",
      "124/124 [==============================] - 3s 21ms/step - loss: 0.0000e+00\n",
      "Epoch 3/3\n",
      "124/124 [==============================] - 3s 20ms/step - loss: 0.0000e+00\n",
      "Forecasting for variable : Mono_MM_Duration (s)\n",
      "Training for columns : Mono_MM_Duration (s)\n",
      "Epoch 1/3\n",
      "124/124 [==============================] - 5s 20ms/step - loss: 0.0058\n",
      "Epoch 2/3\n",
      "124/124 [==============================] - 3s 20ms/step - loss: 0.0014\n",
      "Epoch 3/3\n",
      "124/124 [==============================] - 3s 20ms/step - loss: 0.0040\n",
      "Forecasting for variable : Wrapping_Duration (s)\n",
      "Training for columns : Wrapping_Duration (s)\n",
      "Epoch 1/3\n",
      "124/124 [==============================] - 5s 20ms/step - loss: 0.0064\n",
      "Epoch 2/3\n",
      "124/124 [==============================] - 3s 20ms/step - loss: 0.0029\n",
      "Epoch 3/3\n",
      "124/124 [==============================] - 3s 20ms/step - loss: 0.0055\n",
      "Forecasting for variable : Pressing_Duration (s)\n",
      "Training for columns : Pressing_Duration (s)\n",
      "Epoch 1/3\n",
      "124/124 [==============================] - 5s 20ms/step - loss: 0.0079\n",
      "Epoch 2/3\n",
      "124/124 [==============================] - 2s 20ms/step - loss: 0.0026\n",
      "Epoch 3/3\n",
      "124/124 [==============================] - 3s 20ms/step - loss: 0.0015\n",
      "Forecasting for variable : GBD_MM Duration (s)\n",
      "Training for columns : GBD_MM Duration (s)\n",
      "Epoch 1/3\n",
      "124/124 [==============================] - 5s 20ms/step - loss: 0.0034\n",
      "Epoch 2/3\n",
      "124/124 [==============================] - 3s 20ms/step - loss: 0.0292\n",
      "Epoch 3/3\n",
      "124/124 [==============================] - 3s 20ms/step - loss: 0.0044\n",
      "Forecasting for variable : OperationTime (s)\n",
      "Training for columns : OperationTime (s)\n",
      "Epoch 1/3\n",
      "124/124 [==============================] - 6s 21ms/step - loss: 6.4724e-04\n",
      "Epoch 2/3\n",
      "124/124 [==============================] - 3s 21ms/step - loss: 5.6164e-04\n",
      "Epoch 3/3\n",
      "124/124 [==============================] - 3s 21ms/step - loss: 5.2800e-04\n",
      "Forecasting for variable : Downtime (s)\n",
      "Training for columns : Downtime (s)\n",
      "Epoch 1/3\n",
      "124/124 [==============================] - 5s 22ms/step - loss: 0.0051\n",
      "Epoch 2/3\n",
      "124/124 [==============================] - 3s 22ms/step - loss: 0.0027\n",
      "Epoch 3/3\n",
      "124/124 [==============================] - 3s 22ms/step - loss: 0.0013\n",
      "Forecasting for variable : ShutDown (s)\n",
      "Training for columns : ShutDown (s)\n",
      "Epoch 1/3\n",
      "124/124 [==============================] - 5s 21ms/step - loss: 0.0039\n",
      "Epoch 2/3\n",
      "124/124 [==============================] - 3s 21ms/step - loss: 0.0016\n",
      "Epoch 3/3\n",
      "124/124 [==============================] - 3s 21ms/step - loss: 0.0046\n",
      "Forecasting for variable : Shift\n",
      "Training for columns : Shift\n",
      "Epoch 1/3\n",
      "124/124 [==============================] - 5s 22ms/step - loss: 0.0243\n",
      "Epoch 2/3\n",
      "124/124 [==============================] - 3s 21ms/step - loss: 0.0030\n",
      "Epoch 3/3\n",
      "124/124 [==============================] - 3s 21ms/step - loss: 0.0023\n",
      "Forecasting for variable : Shift Status\n",
      "Training for columns : Shift Status\n",
      "Epoch 1/3\n",
      "124/124 [==============================] - 5s 21ms/step - loss: 0.0299\n",
      "Epoch 2/3\n",
      "124/124 [==============================] - 3s 21ms/step - loss: 0.0218\n",
      "Epoch 3/3\n",
      "124/124 [==============================] - 3s 21ms/step - loss: 0.0103\n",
      "Forecasting for variable : CycleTime (s)\n",
      "(7, 11)\n",
      "Model: \"sequential_36\"\n",
      "_________________________________________________________________\n",
      " Layer (type)                Output Shape              Param #   \n",
      "=================================================================\n",
      " lstm_72 (LSTM)              (None, 14, 64)            19712     \n",
      "                                                                 \n",
      " lstm_73 (LSTM)              (None, 32)                12416     \n",
      "                                                                 \n",
      " dropout_2 (Dropout)         (None, 32)                0         \n",
      "                                                                 \n",
      " dense_36 (Dense)            (None, 1)                 33        \n",
      "                                                                 \n",
      "=================================================================\n",
      "Total params: 32,161\n",
      "Trainable params: 32,161\n",
      "Non-trainable params: 0\n",
      "_________________________________________________________________\n",
      "Epoch 1/5\n",
      "247/247 [==============================] - 7s 18ms/step - loss: 0.2070\n",
      "Epoch 2/5\n",
      "247/247 [==============================] - 4s 18ms/step - loss: 0.2056\n",
      "Epoch 3/5\n",
      "247/247 [==============================] - 4s 18ms/step - loss: 0.1010\n",
      "Epoch 4/5\n",
      "247/247 [==============================] - 4s 18ms/step - loss: 0.0723\n",
      "Epoch 5/5\n",
      "247/247 [==============================] - 4s 18ms/step - loss: 0.0968\n"
     ]
    }
   ],
   "source": [
    "print(f'Forecasting for varient id : 27'.center(60, ' '))\n",
    "df_27 = get_forecasted_df(df, 27)"
   ]
  },
  {
   "cell_type": "code",
   "execution_count": 67,
   "metadata": {
    "colab": {
     "base_uri": "https://localhost:8080/"
    },
    "id": "JgCtD_844tL6",
    "outputId": "60423090-30d4-49d8-eab6-7b5187517e85"
   },
   "outputs": [
    {
     "data": {
      "text/plain": [
       "(21793, 13)"
      ]
     },
     "execution_count": 67,
     "metadata": {},
     "output_type": "execute_result"
    }
   ],
   "source": [
    "temp = df_27.copy()\n",
    "temp['VariantID'] = 27\n",
    "\n",
    "final = pd.concat([final, temp])\n",
    "final.shape"
   ]
  },
  {
   "cell_type": "code",
   "execution_count": 68,
   "metadata": {
    "colab": {
     "base_uri": "https://localhost:8080/"
    },
    "id": "vGNWrCMVT5pg",
    "outputId": "5bd32f2c-e4d0-4ada-934e-2c7c83fa1da2"
   },
   "outputs": [
    {
     "name": "stdout",
     "output_type": "stream",
     "text": [
      "              Forecasting for varient id : 16               \n",
      "(5926, 14)\n",
      "Forecasting for variable : Variant_Change\n",
      "Training for columns : Variant_Change\n",
      "Epoch 1/3\n",
      "93/93 [==============================] - 4s 21ms/step - loss: 0.0815\n",
      "Epoch 2/3\n",
      "93/93 [==============================] - 2s 21ms/step - loss: 0.0083\n",
      "Epoch 3/3\n",
      "93/93 [==============================] - 2s 21ms/step - loss: 0.0077\n",
      "Forecasting for variable : Mono_Identity\n",
      "Training for columns : Mono_Identity\n",
      "Epoch 1/3\n",
      "93/93 [==============================] - 5s 21ms/step - loss: 0.0000e+00\n",
      "Epoch 2/3\n",
      "93/93 [==============================] - 2s 21ms/step - loss: 0.0000e+00\n",
      "Epoch 3/3\n",
      "93/93 [==============================] - 2s 22ms/step - loss: 0.0000e+00\n",
      "Forecasting for variable : Mono_MM_Duration (s)\n",
      "Training for columns : Mono_MM_Duration (s)\n",
      "Epoch 1/3\n",
      "93/93 [==============================] - 4s 21ms/step - loss: 0.0055\n",
      "Epoch 2/3\n",
      "93/93 [==============================] - 2s 22ms/step - loss: 0.0021\n",
      "Epoch 3/3\n",
      "93/93 [==============================] - 2s 22ms/step - loss: 0.0019\n",
      "Forecasting for variable : Wrapping_Duration (s)\n",
      "Training for columns : Wrapping_Duration (s)\n",
      "Epoch 1/3\n",
      "93/93 [==============================] - 4s 22ms/step - loss: 0.0028\n",
      "Epoch 2/3\n",
      "93/93 [==============================] - 2s 22ms/step - loss: 0.0019\n",
      "Epoch 3/3\n",
      "93/93 [==============================] - 2s 22ms/step - loss: 0.0011\n",
      "Forecasting for variable : Pressing_Duration (s)\n",
      "Training for columns : Pressing_Duration (s)\n",
      "Epoch 1/3\n",
      "93/93 [==============================] - 4s 21ms/step - loss: 0.0029\n",
      "Epoch 2/3\n",
      "93/93 [==============================] - 2s 21ms/step - loss: 0.0023\n",
      "Epoch 3/3\n",
      "93/93 [==============================] - 2s 21ms/step - loss: 0.0013\n",
      "Forecasting for variable : GBD_MM Duration (s)\n",
      "Training for columns : GBD_MM Duration (s)\n",
      "Epoch 1/3\n",
      "93/93 [==============================] - 5s 21ms/step - loss: 0.0047\n",
      "Epoch 2/3\n",
      "93/93 [==============================] - 2s 21ms/step - loss: 0.0017\n",
      "Epoch 3/3\n",
      "93/93 [==============================] - 2s 21ms/step - loss: 9.9012e-04\n",
      "Forecasting for variable : OperationTime (s)\n",
      "Training for columns : OperationTime (s)\n",
      "Epoch 1/3\n",
      "93/93 [==============================] - 4s 22ms/step - loss: 9.9568e-04\n",
      "Epoch 2/3\n",
      "93/93 [==============================] - 2s 21ms/step - loss: 8.8535e-04\n",
      "Epoch 3/3\n",
      "93/93 [==============================] - 2s 21ms/step - loss: 7.6909e-04\n",
      "Forecasting for variable : Downtime (s)\n",
      "Training for columns : Downtime (s)\n",
      "Epoch 1/3\n",
      "93/93 [==============================] - 4s 21ms/step - loss: 0.0020\n",
      "Epoch 2/3\n",
      "93/93 [==============================] - 2s 21ms/step - loss: 0.0013\n",
      "Epoch 3/3\n",
      "93/93 [==============================] - 2s 21ms/step - loss: 9.7274e-04\n",
      "Forecasting for variable : ShutDown (s)\n",
      "Training for columns : ShutDown (s)\n",
      "Epoch 1/3\n",
      "93/93 [==============================] - 4s 21ms/step - loss: 0.0017\n",
      "Epoch 2/3\n",
      "93/93 [==============================] - 2s 21ms/step - loss: 0.0013\n",
      "Epoch 3/3\n",
      "93/93 [==============================] - 2s 21ms/step - loss: 9.1352e-04\n",
      "Forecasting for variable : Shift\n",
      "Training for columns : Shift\n",
      "Epoch 1/3\n",
      "93/93 [==============================] - 4s 21ms/step - loss: 0.0300\n",
      "Epoch 2/3\n",
      "93/93 [==============================] - 2s 21ms/step - loss: 0.0019\n",
      "Epoch 3/3\n",
      "93/93 [==============================] - 2s 21ms/step - loss: 0.0018\n",
      "Forecasting for variable : Shift Status\n",
      "Training for columns : Shift Status\n",
      "Epoch 1/3\n",
      "93/93 [==============================] - 4s 21ms/step - loss: 0.1417\n",
      "Epoch 2/3\n",
      "93/93 [==============================] - 2s 21ms/step - loss: 0.0076\n",
      "Epoch 3/3\n",
      "93/93 [==============================] - 2s 21ms/step - loss: 0.0078\n",
      "Forecasting for variable : CycleTime (s)\n",
      "(7, 11)\n",
      "Model: \"sequential_48\"\n",
      "_________________________________________________________________\n",
      " Layer (type)                Output Shape              Param #   \n",
      "=================================================================\n",
      " lstm_96 (LSTM)              (None, 14, 64)            19712     \n",
      "                                                                 \n",
      " lstm_97 (LSTM)              (None, 32)                12416     \n",
      "                                                                 \n",
      " dropout_3 (Dropout)         (None, 32)                0         \n",
      "                                                                 \n",
      " dense_48 (Dense)            (None, 1)                 33        \n",
      "                                                                 \n",
      "=================================================================\n",
      "Total params: 32,161\n",
      "Trainable params: 32,161\n",
      "Non-trainable params: 0\n",
      "_________________________________________________________________\n",
      "Epoch 1/5\n",
      "185/185 [==============================] - 6s 18ms/step - loss: 0.4158\n",
      "Epoch 2/5\n",
      "185/185 [==============================] - 3s 18ms/step - loss: 0.2240\n",
      "Epoch 3/5\n",
      "185/185 [==============================] - 3s 18ms/step - loss: 0.0836\n",
      "Epoch 4/5\n",
      "185/185 [==============================] - 3s 18ms/step - loss: 0.0764\n",
      "Epoch 5/5\n",
      "185/185 [==============================] - 3s 18ms/step - loss: 0.0865\n"
     ]
    }
   ],
   "source": [
    "print(f'Forecasting for varient id : 16'.center(60, ' '))\n",
    "df_16 = get_forecasted_df(df, 16)"
   ]
  },
  {
   "cell_type": "code",
   "execution_count": null,
   "metadata": {
    "id": "JLSFePYi4ycF"
   },
   "outputs": [],
   "source": [
    "temp = df_16.copy()\n",
    "temp['VariantID'] = 16\n",
    "\n",
    "final = pd.concat([final, temp])\n",
    "final.shape"
   ]
  },
  {
   "cell_type": "code",
   "execution_count": 70,
   "metadata": {
    "colab": {
     "base_uri": "https://localhost:8080/"
    },
    "id": "XiClAJ51UvUx",
    "outputId": "c280c523-54c5-4241-b833-37cefc01f431"
   },
   "outputs": [
    {
     "name": "stdout",
     "output_type": "stream",
     "text": [
      "              Forecasting for varient id : 17               \n",
      "(6407, 14)\n",
      "Forecasting for variable : Variant_Change\n",
      "Training for columns : Variant_Change\n",
      "Epoch 1/3\n",
      "100/100 [==============================] - 5s 21ms/step - loss: 0.1206\n",
      "Epoch 2/3\n",
      "100/100 [==============================] - 2s 22ms/step - loss: 0.0058\n",
      "Epoch 3/3\n",
      "100/100 [==============================] - 2s 21ms/step - loss: 0.0052\n",
      "Forecasting for variable : Mono_Identity\n",
      "Training for columns : Mono_Identity\n",
      "Epoch 1/3\n",
      "100/100 [==============================] - 5s 21ms/step - loss: 0.0000e+00\n",
      "Epoch 2/3\n",
      "100/100 [==============================] - 2s 21ms/step - loss: 0.0000e+00\n",
      "Epoch 3/3\n",
      "100/100 [==============================] - 2s 21ms/step - loss: 0.0000e+00\n",
      "Forecasting for variable : Mono_MM_Duration (s)\n",
      "Training for columns : Mono_MM_Duration (s)\n",
      "Epoch 1/3\n",
      "100/100 [==============================] - 4s 21ms/step - loss: 0.0180\n",
      "Epoch 2/3\n",
      "100/100 [==============================] - 2s 21ms/step - loss: 0.0055\n",
      "Epoch 3/3\n",
      "100/100 [==============================] - 2s 21ms/step - loss: 0.0015\n",
      "Forecasting for variable : Wrapping_Duration (s)\n",
      "Training for columns : Wrapping_Duration (s)\n",
      "Epoch 1/3\n",
      "100/100 [==============================] - 4s 21ms/step - loss: 0.0256\n",
      "Epoch 2/3\n",
      "100/100 [==============================] - 2s 21ms/step - loss: 0.0044\n",
      "Epoch 3/3\n",
      "100/100 [==============================] - 2s 21ms/step - loss: 0.0013\n",
      "Forecasting for variable : Pressing_Duration (s)\n",
      "Training for columns : Pressing_Duration (s)\n",
      "Epoch 1/3\n",
      "100/100 [==============================] - 5s 22ms/step - loss: 0.0175\n",
      "Epoch 2/3\n",
      "100/100 [==============================] - 2s 21ms/step - loss: 0.0047\n",
      "Epoch 3/3\n",
      "100/100 [==============================] - 2s 21ms/step - loss: 0.0010\n",
      "Forecasting for variable : GBD_MM Duration (s)\n",
      "Training for columns : GBD_MM Duration (s)\n",
      "Epoch 1/3\n",
      "100/100 [==============================] - 4s 21ms/step - loss: 0.0347\n",
      "Epoch 2/3\n",
      "100/100 [==============================] - 2s 21ms/step - loss: 0.0011\n",
      "Epoch 3/3\n",
      "100/100 [==============================] - 2s 22ms/step - loss: 9.3128e-04\n",
      "Forecasting for variable : OperationTime (s)\n",
      "Training for columns : OperationTime (s)\n",
      "Epoch 1/3\n",
      "100/100 [==============================] - 4s 21ms/step - loss: 8.7737e-04\n",
      "Epoch 2/3\n",
      "100/100 [==============================] - 2s 21ms/step - loss: 4.8618e-04\n",
      "Epoch 3/3\n",
      "100/100 [==============================] - 2s 21ms/step - loss: 4.9206e-04\n",
      "Forecasting for variable : Downtime (s)\n",
      "Training for columns : Downtime (s)\n",
      "Epoch 1/3\n",
      "100/100 [==============================] - 5s 21ms/step - loss: 0.0115\n",
      "Epoch 2/3\n",
      "100/100 [==============================] - 2s 21ms/step - loss: 0.0011\n",
      "Epoch 3/3\n",
      "100/100 [==============================] - 2s 21ms/step - loss: 8.7990e-04\n",
      "Forecasting for variable : ShutDown (s)\n",
      "Training for columns : ShutDown (s)\n",
      "Epoch 1/3\n",
      "100/100 [==============================] - 4s 21ms/step - loss: 0.0017\n",
      "Epoch 2/3\n",
      "100/100 [==============================] - 2s 21ms/step - loss: 0.0015\n",
      "Epoch 3/3\n",
      "100/100 [==============================] - 2s 21ms/step - loss: 0.0013\n",
      "Forecasting for variable : Shift\n",
      "Training for columns : Shift\n",
      "Epoch 1/3\n",
      "100/100 [==============================] - 4s 21ms/step - loss: 0.1008\n",
      "Epoch 2/3\n",
      "100/100 [==============================] - 2s 21ms/step - loss: 0.0060\n",
      "Epoch 3/3\n",
      "100/100 [==============================] - 2s 21ms/step - loss: 0.0128\n",
      "Forecasting for variable : Shift Status\n",
      "Training for columns : Shift Status\n",
      "Epoch 1/3\n",
      "100/100 [==============================] - 4s 21ms/step - loss: 0.0828\n",
      "Epoch 2/3\n",
      "100/100 [==============================] - 2s 21ms/step - loss: 0.0041\n",
      "Epoch 3/3\n",
      "100/100 [==============================] - 2s 21ms/step - loss: 0.0036\n",
      "Forecasting for variable : CycleTime (s)\n",
      "(7, 11)\n",
      "Model: \"sequential_60\"\n",
      "_________________________________________________________________\n",
      " Layer (type)                Output Shape              Param #   \n",
      "=================================================================\n",
      " lstm_120 (LSTM)             (None, 14, 64)            19712     \n",
      "                                                                 \n",
      " lstm_121 (LSTM)             (None, 32)                12416     \n",
      "                                                                 \n",
      " dropout_4 (Dropout)         (None, 32)                0         \n",
      "                                                                 \n",
      " dense_60 (Dense)            (None, 1)                 33        \n",
      "                                                                 \n",
      "=================================================================\n",
      "Total params: 32,161\n",
      "Trainable params: 32,161\n",
      "Non-trainable params: 0\n",
      "_________________________________________________________________\n",
      "Epoch 1/5\n",
      "200/200 [==============================] - 5s 13ms/step - loss: 0.1438\n",
      "Epoch 2/5\n",
      "200/200 [==============================] - 3s 13ms/step - loss: 0.0425\n",
      "Epoch 3/5\n",
      "200/200 [==============================] - 3s 13ms/step - loss: 0.0323\n",
      "Epoch 4/5\n",
      "200/200 [==============================] - 3s 13ms/step - loss: 0.0309\n",
      "Epoch 5/5\n",
      "200/200 [==============================] - 3s 13ms/step - loss: 0.0286\n"
     ]
    }
   ],
   "source": [
    "print(f'Forecasting for varient id : 17'.center(60, ' '))\n",
    "df_17 = get_forecasted_df(df, 17)"
   ]
  },
  {
   "cell_type": "code",
   "execution_count": 71,
   "metadata": {
    "colab": {
     "base_uri": "https://localhost:8080/"
    },
    "id": "xFVJ-sqv42tf",
    "outputId": "ad622cc2-0a70-4dcc-fa2d-6cec55f8e745"
   },
   "outputs": [
    {
     "data": {
      "text/plain": [
       "(34140, 13)"
      ]
     },
     "execution_count": 71,
     "metadata": {},
     "output_type": "execute_result"
    }
   ],
   "source": [
    "temp = df_17.copy()\n",
    "temp['VariantID'] = 17\n",
    "\n",
    "final = pd.concat([final, temp])\n",
    "final.shape"
   ]
  },
  {
   "cell_type": "code",
   "execution_count": 72,
   "metadata": {
    "colab": {
     "base_uri": "https://localhost:8080/"
    },
    "id": "XcQ3sB1PU10p",
    "outputId": "120fb8e0-781a-400e-e205-556ba7271f6f"
   },
   "outputs": [
    {
     "name": "stdout",
     "output_type": "stream",
     "text": [
      "              Forecasting for varient id : 18               \n",
      "(6422, 14)\n",
      "Forecasting for variable : Variant_Change\n",
      "Training for columns : Variant_Change\n",
      "Epoch 1/3\n",
      "101/101 [==============================] - 4s 21ms/step - loss: 0.2113\n",
      "Epoch 2/3\n",
      "101/101 [==============================] - 2s 21ms/step - loss: 0.0201\n",
      "Epoch 3/3\n",
      "101/101 [==============================] - 2s 21ms/step - loss: 0.0182\n",
      "Forecasting for variable : Mono_Identity\n",
      "Training for columns : Mono_Identity\n",
      "Epoch 1/3\n",
      "101/101 [==============================] - 4s 21ms/step - loss: 0.0000e+00\n",
      "Epoch 2/3\n",
      "101/101 [==============================] - 2s 21ms/step - loss: 0.0000e+00\n",
      "Epoch 3/3\n",
      "101/101 [==============================] - 2s 21ms/step - loss: 0.0000e+00\n",
      "Forecasting for variable : Mono_MM_Duration (s)\n",
      "Training for columns : Mono_MM_Duration (s)\n",
      "Epoch 1/3\n",
      "101/101 [==============================] - 4s 21ms/step - loss: 0.0518\n",
      "Epoch 2/3\n",
      "101/101 [==============================] - 2s 21ms/step - loss: 0.0021\n",
      "Epoch 3/3\n",
      "101/101 [==============================] - 2s 21ms/step - loss: 0.0011\n",
      "Forecasting for variable : Wrapping_Duration (s)\n",
      "Training for columns : Wrapping_Duration (s)\n",
      "Epoch 1/3\n",
      "101/101 [==============================] - 5s 21ms/step - loss: 0.0459\n",
      "Epoch 2/3\n",
      "101/101 [==============================] - 2s 21ms/step - loss: 0.0023\n",
      "Epoch 3/3\n",
      "101/101 [==============================] - 2s 21ms/step - loss: 0.0011\n",
      "Forecasting for variable : Pressing_Duration (s)\n",
      "Training for columns : Pressing_Duration (s)\n",
      "Epoch 1/3\n",
      "101/101 [==============================] - 5s 22ms/step - loss: 0.0189\n",
      "Epoch 2/3\n",
      "101/101 [==============================] - 2s 21ms/step - loss: 0.0025\n",
      "Epoch 3/3\n",
      "101/101 [==============================] - 2s 21ms/step - loss: 0.0013\n",
      "Forecasting for variable : GBD_MM Duration (s)\n",
      "Training for columns : GBD_MM Duration (s)\n",
      "Epoch 1/3\n",
      "101/101 [==============================] - 4s 21ms/step - loss: 0.0164\n",
      "Epoch 2/3\n",
      "101/101 [==============================] - 2s 22ms/step - loss: 0.0015\n",
      "Epoch 3/3\n",
      "101/101 [==============================] - 2s 21ms/step - loss: 0.0020\n",
      "Forecasting for variable : OperationTime (s)\n",
      "Training for columns : OperationTime (s)\n",
      "Epoch 1/3\n",
      "101/101 [==============================] - 5s 22ms/step - loss: 5.4137e-04\n",
      "Epoch 2/3\n",
      "101/101 [==============================] - 2s 21ms/step - loss: 5.2376e-04\n",
      "Epoch 3/3\n",
      "101/101 [==============================] - 2s 21ms/step - loss: 5.1606e-04\n",
      "Forecasting for variable : Downtime (s)\n",
      "Training for columns : Downtime (s)\n",
      "Epoch 1/3\n",
      "101/101 [==============================] - 5s 21ms/step - loss: 0.0406\n",
      "Epoch 2/3\n",
      "101/101 [==============================] - 2s 21ms/step - loss: 0.0012\n",
      "Epoch 3/3\n",
      "101/101 [==============================] - 2s 22ms/step - loss: 0.0013\n",
      "Forecasting for variable : ShutDown (s)\n",
      "Training for columns : ShutDown (s)\n",
      "Epoch 1/3\n",
      "101/101 [==============================] - 5s 21ms/step - loss: 0.0394\n",
      "Epoch 2/3\n",
      "101/101 [==============================] - 2s 21ms/step - loss: 0.0011\n",
      "Epoch 3/3\n",
      "101/101 [==============================] - 2s 22ms/step - loss: 0.0011\n",
      "Forecasting for variable : Shift\n",
      "Training for columns : Shift\n",
      "Epoch 1/3\n",
      "101/101 [==============================] - 5s 22ms/step - loss: 0.0330\n",
      "Epoch 2/3\n",
      "101/101 [==============================] - 2s 21ms/step - loss: 0.0028\n",
      "Epoch 3/3\n",
      "101/101 [==============================] - 2s 22ms/step - loss: 0.0026\n",
      "Forecasting for variable : Shift Status\n",
      "Training for columns : Shift Status\n",
      "Epoch 1/3\n",
      "101/101 [==============================] - 5s 21ms/step - loss: 0.0718\n",
      "Epoch 2/3\n",
      "101/101 [==============================] - 2s 22ms/step - loss: 0.0165\n",
      "Epoch 3/3\n",
      "101/101 [==============================] - 2s 21ms/step - loss: 0.0154\n",
      "Forecasting for variable : CycleTime (s)\n",
      "(7, 11)\n",
      "Model: \"sequential_72\"\n",
      "_________________________________________________________________\n",
      " Layer (type)                Output Shape              Param #   \n",
      "=================================================================\n",
      " lstm_144 (LSTM)             (None, 14, 64)            19712     \n",
      "                                                                 \n",
      " lstm_145 (LSTM)             (None, 32)                12416     \n",
      "                                                                 \n",
      " dropout_5 (Dropout)         (None, 32)                0         \n",
      "                                                                 \n",
      " dense_72 (Dense)            (None, 1)                 33        \n",
      "                                                                 \n",
      "=================================================================\n",
      "Total params: 32,161\n",
      "Trainable params: 32,161\n",
      "Non-trainable params: 0\n",
      "_________________________________________________________________\n",
      "Epoch 1/5\n",
      "201/201 [==============================] - 6s 18ms/step - loss: 0.0569\n",
      "Epoch 2/5\n",
      "201/201 [==============================] - 4s 18ms/step - loss: 0.0286\n",
      "Epoch 3/5\n",
      "201/201 [==============================] - 4s 18ms/step - loss: 0.0264\n",
      "Epoch 4/5\n",
      "201/201 [==============================] - 4s 18ms/step - loss: 0.0257\n",
      "Epoch 5/5\n",
      "201/201 [==============================] - 4s 18ms/step - loss: 0.0224\n"
     ]
    }
   ],
   "source": [
    "print(f'Forecasting for varient id : 18'.center(60, ' '))\n",
    "df_18 = get_forecasted_df(df, 18)"
   ]
  },
  {
   "cell_type": "code",
   "execution_count": null,
   "metadata": {
    "id": "YgL29mK-4-QA"
   },
   "outputs": [],
   "source": [
    "temp = df_18.copy()\n",
    "temp['VariantID'] = 18\n",
    "\n",
    "final = pd.concat([final, temp])\n",
    "final.shape"
   ]
  },
  {
   "cell_type": "code",
   "execution_count": null,
   "metadata": {
    "id": "zJ1hSbs0RLX_"
   },
   "outputs": [],
   "source": [
    "print(f'Forecasting for varient id : 10'.center(60, ' '))\n",
    "df_10 = get_forecasted_df(df, 10)"
   ]
  },
  {
   "cell_type": "code",
   "execution_count": 75,
   "metadata": {
    "colab": {
     "base_uri": "https://localhost:8080/"
    },
    "id": "Fh8eZdL35F16",
    "outputId": "29c6d3a9-02f9-4b0f-f8d7-5838002a0e30"
   },
   "outputs": [
    {
     "data": {
      "text/plain": [
       "(45939, 13)"
      ]
     },
     "execution_count": 75,
     "metadata": {},
     "output_type": "execute_result"
    }
   ],
   "source": [
    "temp = df_10.copy()\n",
    "temp['VariantID'] = 10\n",
    "\n",
    "final = pd.concat([final, temp])\n",
    "final.shape"
   ]
  },
  {
   "cell_type": "code",
   "execution_count": null,
   "metadata": {
    "id": "7ZlmBnzrRLYA"
   },
   "outputs": [],
   "source": [
    "print(f'Forecasting for varient id : 12'.center(60, ' '))\n",
    "df_12 = get_forecasted_df(df, 12)"
   ]
  },
  {
   "cell_type": "code",
   "execution_count": null,
   "metadata": {
    "id": "9cM6Eoop5KEN"
   },
   "outputs": [],
   "source": [
    "temp = df_12.copy()\n",
    "temp['VariantID'] = 12\n",
    "\n",
    "final = pd.concat([final, temp])\n",
    "final.shape"
   ]
  },
  {
   "cell_type": "code",
   "execution_count": 78,
   "metadata": {
    "colab": {
     "base_uri": "https://localhost:8080/"
    },
    "id": "leLto19wRLYA",
    "outputId": "47443550-b85a-4fe6-f689-7051d0981239"
   },
   "outputs": [
    {
     "name": "stdout",
     "output_type": "stream",
     "text": [
      "              Forecasting for varient id : 14               \n",
      "(403, 14)\n",
      "Forecasting for variable : Variant_Change\n",
      "Training for columns : Variant_Change\n",
      "Epoch 1/3\n",
      "7/7 [==============================] - 2s 19ms/step - loss: 0.4038\n",
      "Epoch 2/3\n",
      "7/7 [==============================] - 0s 20ms/step - loss: 0.3379\n",
      "Epoch 3/3\n",
      "7/7 [==============================] - 0s 20ms/step - loss: 0.2792\n",
      "Forecasting for variable : Mono_Identity\n",
      "Training for columns : Mono_Identity\n",
      "Epoch 1/3\n",
      "7/7 [==============================] - 3s 21ms/step - loss: 0.0000e+00\n",
      "Epoch 2/3\n",
      "7/7 [==============================] - 0s 20ms/step - loss: 0.0000e+00\n",
      "Epoch 3/3\n",
      "7/7 [==============================] - 0s 21ms/step - loss: 0.0000e+00\n",
      "Forecasting for variable : Mono_MM_Duration (s)\n",
      "Training for columns : Mono_MM_Duration (s)\n",
      "Epoch 1/3\n",
      "7/7 [==============================] - 2s 20ms/step - loss: 0.2371\n",
      "Epoch 2/3\n",
      "7/7 [==============================] - 0s 20ms/step - loss: 0.1657\n",
      "Epoch 3/3\n",
      "7/7 [==============================] - 0s 21ms/step - loss: 0.1071\n",
      "Forecasting for variable : Wrapping_Duration (s)\n",
      "Training for columns : Wrapping_Duration (s)\n",
      "Epoch 1/3\n",
      "7/7 [==============================] - 2s 20ms/step - loss: 0.2164\n",
      "Epoch 2/3\n",
      "7/7 [==============================] - 0s 21ms/step - loss: 0.1379\n",
      "Epoch 3/3\n",
      "7/7 [==============================] - 0s 20ms/step - loss: 0.0612\n",
      "Forecasting for variable : Pressing_Duration (s)\n",
      "Training for columns : Pressing_Duration (s)\n",
      "Epoch 1/3\n",
      "7/7 [==============================] - 2s 20ms/step - loss: 0.2266\n",
      "Epoch 2/3\n",
      "7/7 [==============================] - 0s 22ms/step - loss: 0.1637\n",
      "Epoch 3/3\n",
      "7/7 [==============================] - 0s 20ms/step - loss: 0.1095\n",
      "Forecasting for variable : GBD_MM Duration (s)\n",
      "Training for columns : GBD_MM Duration (s)\n",
      "Epoch 1/3\n",
      "7/7 [==============================] - 2s 22ms/step - loss: 0.2897\n",
      "Epoch 2/3\n",
      "7/7 [==============================] - 0s 20ms/step - loss: 0.2451\n",
      "Epoch 3/3\n",
      "7/7 [==============================] - 0s 21ms/step - loss: 0.2012\n",
      "Forecasting for variable : OperationTime (s)\n",
      "Training for columns : OperationTime (s)\n",
      "Epoch 1/3\n",
      "7/7 [==============================] - 2s 20ms/step - loss: 0.0013\n",
      "Epoch 2/3\n",
      "7/7 [==============================] - 0s 20ms/step - loss: 0.0014\n",
      "Epoch 3/3\n",
      "7/7 [==============================] - 0s 21ms/step - loss: 0.0014\n",
      "Forecasting for variable : Downtime (s)\n",
      "Training for columns : Downtime (s)\n",
      "Epoch 1/3\n",
      "7/7 [==============================] - 2s 20ms/step - loss: 0.2726\n",
      "Epoch 2/3\n",
      "7/7 [==============================] - 0s 19ms/step - loss: 0.2097\n",
      "Epoch 3/3\n",
      "7/7 [==============================] - 0s 22ms/step - loss: 0.1544\n",
      "Forecasting for variable : ShutDown (s)\n",
      "Training for columns : ShutDown (s)\n",
      "Epoch 1/3\n",
      "7/7 [==============================] - 3s 23ms/step - loss: 0.0000e+00\n",
      "Epoch 2/3\n",
      "7/7 [==============================] - 0s 22ms/step - loss: 0.0000e+00\n",
      "Epoch 3/3\n",
      "7/7 [==============================] - 0s 21ms/step - loss: 0.0000e+00\n",
      "Forecasting for variable : Shift\n",
      "Training for columns : Shift\n",
      "Epoch 1/3\n",
      "7/7 [==============================] - 2s 21ms/step - loss: 0.1926\n",
      "Epoch 2/3\n",
      "7/7 [==============================] - 0s 20ms/step - loss: 0.1485\n",
      "Epoch 3/3\n",
      "7/7 [==============================] - 0s 21ms/step - loss: 0.1201\n",
      "Forecasting for variable : Shift Status\n",
      "Training for columns : Shift Status\n",
      "Epoch 1/3\n",
      "7/7 [==============================] - 3s 22ms/step - loss: 0.0077\n",
      "Epoch 2/3\n",
      "7/7 [==============================] - 0s 20ms/step - loss: 0.0077\n",
      "Epoch 3/3\n",
      "7/7 [==============================] - 0s 21ms/step - loss: 0.0076\n",
      "Forecasting for variable : CycleTime (s)\n",
      "(7, 11)\n",
      "Model: \"sequential_108\"\n",
      "_________________________________________________________________\n",
      " Layer (type)                Output Shape              Param #   \n",
      "=================================================================\n",
      " lstm_216 (LSTM)             (None, 14, 64)            19712     \n",
      "                                                                 \n",
      " lstm_217 (LSTM)             (None, 32)                12416     \n",
      "                                                                 \n",
      " dropout_8 (Dropout)         (None, 32)                0         \n",
      "                                                                 \n",
      " dense_108 (Dense)           (None, 1)                 33        \n",
      "                                                                 \n",
      "=================================================================\n",
      "Total params: 32,161\n",
      "Trainable params: 32,161\n",
      "Non-trainable params: 0\n",
      "_________________________________________________________________\n",
      "Epoch 1/5\n",
      "13/13 [==============================] - 3s 19ms/step - loss: 0.4182\n",
      "Epoch 2/5\n",
      "13/13 [==============================] - 0s 18ms/step - loss: 0.1730\n",
      "Epoch 3/5\n",
      "13/13 [==============================] - 0s 19ms/step - loss: 0.1473\n",
      "Epoch 4/5\n",
      "13/13 [==============================] - 0s 18ms/step - loss: 0.1131\n",
      "Epoch 5/5\n",
      "13/13 [==============================] - 0s 18ms/step - loss: 0.0930\n"
     ]
    }
   ],
   "source": [
    "print(f'Forecasting for varient id : 14'.center(60, ' '))\n",
    "df_14 = get_forecasted_df(df, 14)"
   ]
  },
  {
   "cell_type": "code",
   "execution_count": null,
   "metadata": {
    "id": "k8dPMW155OpN"
   },
   "outputs": [],
   "source": [
    "temp = df_14.copy()\n",
    "temp['VariantID'] = 14\n",
    "\n",
    "final = pd.concat([final, temp])\n",
    "final.shape"
   ]
  },
  {
   "cell_type": "code",
   "execution_count": null,
   "metadata": {
    "id": "4Eioc_yxRLYB"
   },
   "outputs": [],
   "source": [
    "print(f'Forecasting for varient id : 20'.center(60, ' '))\n",
    "df_20 = get_forecasted_df(df, 20)"
   ]
  },
  {
   "cell_type": "code",
   "execution_count": null,
   "metadata": {
    "id": "BEUHOlIY5S3p"
   },
   "outputs": [],
   "source": [
    "temp = df_20.copy()\n",
    "temp['VariantID'] = 20\n",
    "\n",
    "final = pd.concat([final, temp])\n",
    "final.shape"
   ]
  },
  {
   "cell_type": "code",
   "execution_count": null,
   "metadata": {
    "id": "IFV1u2yzRLYB"
   },
   "outputs": [],
   "source": [
    "print(f'Forecasting for varient id : 26'.center(60, ' '))\n",
    "df_26 = get_forecasted_df(df, 26)"
   ]
  },
  {
   "cell_type": "code",
   "execution_count": 83,
   "metadata": {
    "colab": {
     "base_uri": "https://localhost:8080/"
    },
    "id": "oeV5vCcE5ZJ3",
    "outputId": "ca94fbe9-d950-4223-9b80-4763164c6997"
   },
   "outputs": [
    {
     "data": {
      "text/plain": [
       "(51620, 13)"
      ]
     },
     "execution_count": 83,
     "metadata": {},
     "output_type": "execute_result"
    }
   ],
   "source": [
    "temp = df_26.copy()\n",
    "temp['VariantID'] = 26\n",
    "\n",
    "final = pd.concat([final, temp])\n",
    "final.shape"
   ]
  },
  {
   "cell_type": "code",
   "execution_count": null,
   "metadata": {
    "id": "X0uLVHvdRLYC"
   },
   "outputs": [],
   "source": [
    "print(f'Forecasting for varient id : 29'.center(60, ' '))\n",
    "df_29 = get_forecasted_df(df, 29)"
   ]
  },
  {
   "cell_type": "code",
   "execution_count": null,
   "metadata": {
    "id": "xLbnkacV5ff1"
   },
   "outputs": [],
   "source": [
    "temp = df_29.copy()\n",
    "temp['VariantID'] = 29\n",
    "\n",
    "final = pd.concat([final, temp])\n",
    "final.shape"
   ]
  },
  {
   "cell_type": "code",
   "execution_count": null,
   "metadata": {
    "id": "FwSRPI05RLYC"
   },
   "outputs": [],
   "source": [
    "print(f'Forecasting for varient id : 32'.center(60, ' '))\n",
    "df_32 = get_forecasted_df(df, 32)"
   ]
  },
  {
   "cell_type": "code",
   "execution_count": null,
   "metadata": {
    "id": "ckoKPi8R5jZg"
   },
   "outputs": [],
   "source": [
    "temp = df_32.copy()\n",
    "temp['VariantID'] = 32\n",
    "\n",
    "final = pd.concat([final, temp])\n",
    "final.shape"
   ]
  },
  {
   "cell_type": "code",
   "execution_count": 88,
   "metadata": {
    "colab": {
     "base_uri": "https://localhost:8080/"
    },
    "id": "RZMVgxGlRLYC",
    "outputId": "095eb67c-3ce6-44eb-ec16-28ec181e04d2"
   },
   "outputs": [
    {
     "name": "stdout",
     "output_type": "stream",
     "text": [
      "              Forecasting for varient id : 33               \n",
      "(2787, 14)\n",
      "Forecasting for variable : Variant_Change\n",
      "Training for columns : Variant_Change\n",
      "Epoch 1/3\n",
      "44/44 [==============================] - 3s 21ms/step - loss: 0.3191\n",
      "Epoch 2/3\n",
      "44/44 [==============================] - 1s 21ms/step - loss: 0.0112\n",
      "Epoch 3/3\n",
      "44/44 [==============================] - 1s 21ms/step - loss: 0.0062\n",
      "Forecasting for variable : Mono_Identity\n",
      "Training for columns : Mono_Identity\n",
      "Epoch 1/3\n",
      "44/44 [==============================] - 3s 21ms/step - loss: 0.0000e+00\n",
      "Epoch 2/3\n",
      "44/44 [==============================] - 1s 21ms/step - loss: 0.0000e+00\n",
      "Epoch 3/3\n",
      "44/44 [==============================] - 1s 22ms/step - loss: 0.0000e+00\n",
      "Forecasting for variable : Mono_MM_Duration (s)\n",
      "Training for columns : Mono_MM_Duration (s)\n",
      "Epoch 1/3\n",
      "44/44 [==============================] - 3s 21ms/step - loss: 0.0236\n",
      "Epoch 2/3\n",
      "44/44 [==============================] - 1s 22ms/step - loss: 0.0026\n",
      "Epoch 3/3\n",
      "44/44 [==============================] - 1s 22ms/step - loss: 8.7700e-04\n",
      "Forecasting for variable : Wrapping_Duration (s)\n",
      "Training for columns : Wrapping_Duration (s)\n",
      "Epoch 1/3\n",
      "44/44 [==============================] - 3s 21ms/step - loss: 0.0287\n",
      "Epoch 2/3\n",
      "44/44 [==============================] - 1s 21ms/step - loss: 0.0020\n",
      "Epoch 3/3\n",
      "44/44 [==============================] - 1s 21ms/step - loss: 9.4738e-04\n",
      "Forecasting for variable : Pressing_Duration (s)\n",
      "Training for columns : Pressing_Duration (s)\n",
      "Epoch 1/3\n",
      "44/44 [==============================] - 3s 22ms/step - loss: 0.0506\n",
      "Epoch 2/3\n",
      "44/44 [==============================] - 1s 21ms/step - loss: 0.0025\n",
      "Epoch 3/3\n",
      "44/44 [==============================] - 1s 22ms/step - loss: 9.4939e-04\n",
      "Forecasting for variable : GBD_MM Duration (s)\n",
      "Training for columns : GBD_MM Duration (s)\n",
      "Epoch 1/3\n",
      "44/44 [==============================] - 3s 21ms/step - loss: 0.1576\n",
      "Epoch 2/3\n",
      "44/44 [==============================] - 1s 21ms/step - loss: 0.0066\n",
      "Epoch 3/3\n",
      "44/44 [==============================] - 1s 21ms/step - loss: 0.0015\n",
      "Forecasting for variable : OperationTime (s)\n",
      "Training for columns : OperationTime (s)\n",
      "Epoch 1/3\n",
      "44/44 [==============================] - 3s 21ms/step - loss: 0.0156\n",
      "Epoch 2/3\n",
      "44/44 [==============================] - 1s 21ms/step - loss: 0.0021\n",
      "Epoch 3/3\n",
      "44/44 [==============================] - 1s 21ms/step - loss: 7.6184e-04\n",
      "Forecasting for variable : Downtime (s)\n",
      "Training for columns : Downtime (s)\n",
      "Epoch 1/3\n",
      "44/44 [==============================] - 3s 21ms/step - loss: 0.0804\n",
      "Epoch 2/3\n",
      "44/44 [==============================] - 1s 21ms/step - loss: 0.0028\n",
      "Epoch 3/3\n",
      "44/44 [==============================] - 1s 21ms/step - loss: 0.0016\n",
      "Forecasting for variable : ShutDown (s)\n",
      "Training for columns : ShutDown (s)\n",
      "Epoch 1/3\n",
      "44/44 [==============================] - 4s 21ms/step - loss: 0.0000e+00\n",
      "Epoch 2/3\n",
      "44/44 [==============================] - 1s 21ms/step - loss: 0.0000e+00\n",
      "Epoch 3/3\n",
      "44/44 [==============================] - 1s 21ms/step - loss: 0.0000e+00\n",
      "Forecasting for variable : Shift\n",
      "Training for columns : Shift\n",
      "Epoch 1/3\n",
      "44/44 [==============================] - 3s 21ms/step - loss: 0.2441\n",
      "Epoch 2/3\n",
      "44/44 [==============================] - 1s 22ms/step - loss: 0.0083\n",
      "Epoch 3/3\n",
      "44/44 [==============================] - 1s 21ms/step - loss: 0.0054\n",
      "Forecasting for variable : Shift Status\n",
      "Training for columns : Shift Status\n",
      "Epoch 1/3\n",
      "44/44 [==============================] - 3s 21ms/step - loss: 3.6095e-04\n",
      "Epoch 2/3\n",
      "44/44 [==============================] - 1s 21ms/step - loss: 3.6090e-04\n",
      "Epoch 3/3\n",
      "44/44 [==============================] - 1s 21ms/step - loss: 3.6619e-04\n",
      "Forecasting for variable : CycleTime (s)\n",
      "(7, 11)\n",
      "Model: \"sequential_168\"\n",
      "_________________________________________________________________\n",
      " Layer (type)                Output Shape              Param #   \n",
      "=================================================================\n",
      " lstm_336 (LSTM)             (None, 14, 64)            19712     \n",
      "                                                                 \n",
      " lstm_337 (LSTM)             (None, 32)                12416     \n",
      "                                                                 \n",
      " dropout_13 (Dropout)        (None, 32)                0         \n",
      "                                                                 \n",
      " dense_168 (Dense)           (None, 1)                 33        \n",
      "                                                                 \n",
      "=================================================================\n",
      "Total params: 32,161\n",
      "Trainable params: 32,161\n",
      "Non-trainable params: 0\n",
      "_________________________________________________________________\n",
      "Epoch 1/5\n",
      "87/87 [==============================] - 4s 17ms/step - loss: 0.1666\n",
      "Epoch 2/5\n",
      "87/87 [==============================] - 2s 17ms/step - loss: 0.0811\n",
      "Epoch 3/5\n",
      "87/87 [==============================] - 2s 18ms/step - loss: 0.0658\n",
      "Epoch 4/5\n",
      "87/87 [==============================] - 2s 18ms/step - loss: 0.0580\n",
      "Epoch 5/5\n",
      "87/87 [==============================] - 2s 18ms/step - loss: 0.0594\n"
     ]
    }
   ],
   "source": [
    "print(f'Forecasting for varient id : 33'.center(60, ' '))\n",
    "df_33 = get_forecasted_df(df, 33)          "
   ]
  },
  {
   "cell_type": "code",
   "execution_count": null,
   "metadata": {
    "id": "Onxd48n35nt4"
   },
   "outputs": [],
   "source": [
    "temp = df_33.copy()\n",
    "temp['VariantID'] = 33\n",
    "\n",
    "final = pd.concat([final, temp])\n",
    "final.shape"
   ]
  },
  {
   "cell_type": "code",
   "execution_count": null,
   "metadata": {
    "id": "4tujXssHRLYD"
   },
   "outputs": [],
   "source": [
    "print(f'Forecasting for varient id : 35'.center(60, ' '))\n",
    "df_35 = get_forecasted_df(df, 35)\n",
    "\n",
    "if df_35 != None:\n",
    "  temp = df_35.copy()\n",
    "  temp['VariantID'] = 35\n",
    "\n",
    "  final = pd.concat([final, temp])\n",
    "  final.shape"
   ]
  },
  {
   "cell_type": "code",
   "execution_count": null,
   "metadata": {
    "id": "_NTtvU5_RLYD"
   },
   "outputs": [],
   "source": [
    "print(f'Forecasting for varient id : 37'.center(60, ' '))\n",
    "df_37 = get_forecasted_df(df, 37)\n",
    "\n",
    "if df_37 != None:\n",
    "  temp = df_37.copy()\n",
    "  temp['VariantID'] = 37\n",
    "\n",
    "  final = pd.concat([final, temp])\n",
    "  final.shape"
   ]
  },
  {
   "cell_type": "markdown",
   "metadata": {
    "id": "gaE73KKWRLYE"
   },
   "source": [
    "## Loss comparison between truth and predicted"
   ]
  },
  {
   "cell_type": "code",
   "execution_count": null,
   "metadata": {
    "id": "P_mf3ULHRLYE"
   },
   "outputs": [],
   "source": [
    "df = pd.read_csv('/content/drive/MyDrive/Dataframe_final_preprocessed.csv', index_col = False)\n",
    "df.head()"
   ]
  },
  {
   "cell_type": "code",
   "execution_count": null,
   "metadata": {
    "id": "IXhnvBUMRLYF"
   },
   "outputs": [],
   "source": [
    "df.info()"
   ]
  },
  {
   "cell_type": "code",
   "execution_count": null,
   "metadata": {
    "id": "XyjgTf27RLYF"
   },
   "outputs": [],
   "source": [
    "df['VariantID'].value_counts()"
   ]
  },
  {
   "cell_type": "markdown",
   "metadata": {
    "id": "IxfaK9Y6RLYG"
   },
   "source": [
    "**Performing this for variantID 8**"
   ]
  },
  {
   "cell_type": "code",
   "execution_count": 95,
   "metadata": {
    "id": "ufAY9KZHRLYH"
   },
   "outputs": [],
   "source": [
    "df_8 = df[df.VariantID == 8]"
   ]
  },
  {
   "cell_type": "code",
   "execution_count": 96,
   "metadata": {
    "colab": {
     "base_uri": "https://localhost:8080/",
     "height": 392
    },
    "id": "GKxp5BNdRLYH",
    "outputId": "43e44cc3-2724-4fbb-82e2-4a68150c28ac"
   },
   "outputs": [
    {
     "data": {
      "text/html": [
       "\n",
       "  <div id=\"df-241ddf24-864a-4f18-855e-8f3f3e75fabf\">\n",
       "    <div class=\"colab-df-container\">\n",
       "      <div>\n",
       "<style scoped>\n",
       "    .dataframe tbody tr th:only-of-type {\n",
       "        vertical-align: middle;\n",
       "    }\n",
       "\n",
       "    .dataframe tbody tr th {\n",
       "        vertical-align: top;\n",
       "    }\n",
       "\n",
       "    .dataframe thead th {\n",
       "        text-align: right;\n",
       "    }\n",
       "</style>\n",
       "<table border=\"1\" class=\"dataframe\">\n",
       "  <thead>\n",
       "    <tr style=\"text-align: right;\">\n",
       "      <th></th>\n",
       "      <th>DateTimeCreated</th>\n",
       "      <th>VariantID</th>\n",
       "      <th>Variant_Change</th>\n",
       "      <th>Mono_Identity</th>\n",
       "      <th>Mono_MM_Duration (s)</th>\n",
       "      <th>Wrapping_Duration (s)</th>\n",
       "      <th>Pressing_Duration (s)</th>\n",
       "      <th>GBD_MM Duration (s)</th>\n",
       "      <th>OperationTime (s)</th>\n",
       "      <th>CycleTime (s)</th>\n",
       "      <th>Downtime (s)</th>\n",
       "      <th>ShutDown (s)</th>\n",
       "      <th>Shift</th>\n",
       "      <th>Shift Status</th>\n",
       "    </tr>\n",
       "  </thead>\n",
       "  <tbody>\n",
       "    <tr>\n",
       "      <th>5892</th>\n",
       "      <td>2021-08-13 09:45:00</td>\n",
       "      <td>8.0</td>\n",
       "      <td>1.43555</td>\n",
       "      <td>2.0</td>\n",
       "      <td>69589.176956</td>\n",
       "      <td>69588.114548</td>\n",
       "      <td>69624.061615</td>\n",
       "      <td>28965.364301</td>\n",
       "      <td>115.306649</td>\n",
       "      <td>28963.670950</td>\n",
       "      <td>28901.670950</td>\n",
       "      <td>28213.606094</td>\n",
       "      <td>1.0</td>\n",
       "      <td>0.43555</td>\n",
       "    </tr>\n",
       "    <tr>\n",
       "      <th>5893</th>\n",
       "      <td>2021-08-13 10:00:00</td>\n",
       "      <td>8.0</td>\n",
       "      <td>1.00000</td>\n",
       "      <td>2.0</td>\n",
       "      <td>702.415014</td>\n",
       "      <td>724.910587</td>\n",
       "      <td>669.971318</td>\n",
       "      <td>334.933782</td>\n",
       "      <td>114.000000</td>\n",
       "      <td>334.985659</td>\n",
       "      <td>272.985659</td>\n",
       "      <td>0.000000</td>\n",
       "      <td>1.0</td>\n",
       "      <td>0.00000</td>\n",
       "    </tr>\n",
       "    <tr>\n",
       "      <th>5894</th>\n",
       "      <td>2021-08-13 10:15:00</td>\n",
       "      <td>8.0</td>\n",
       "      <td>1.00000</td>\n",
       "      <td>2.0</td>\n",
       "      <td>594.465736</td>\n",
       "      <td>601.318696</td>\n",
       "      <td>607.113773</td>\n",
       "      <td>318.775117</td>\n",
       "      <td>127.006653</td>\n",
       "      <td>317.300732</td>\n",
       "      <td>255.300732</td>\n",
       "      <td>0.000000</td>\n",
       "      <td>1.0</td>\n",
       "      <td>0.00000</td>\n",
       "    </tr>\n",
       "    <tr>\n",
       "      <th>5895</th>\n",
       "      <td>2021-08-13 10:30:00</td>\n",
       "      <td>8.0</td>\n",
       "      <td>1.00000</td>\n",
       "      <td>2.0</td>\n",
       "      <td>43.824603</td>\n",
       "      <td>260.758490</td>\n",
       "      <td>340.517883</td>\n",
       "      <td>94.732840</td>\n",
       "      <td>199.905889</td>\n",
       "      <td>95.303107</td>\n",
       "      <td>48.130058</td>\n",
       "      <td>0.000000</td>\n",
       "      <td>1.0</td>\n",
       "      <td>0.00000</td>\n",
       "    </tr>\n",
       "    <tr>\n",
       "      <th>5896</th>\n",
       "      <td>2021-08-13 10:45:00</td>\n",
       "      <td>8.0</td>\n",
       "      <td>1.00000</td>\n",
       "      <td>2.0</td>\n",
       "      <td>663.750635</td>\n",
       "      <td>846.610856</td>\n",
       "      <td>71.000000</td>\n",
       "      <td>140.692779</td>\n",
       "      <td>756.492150</td>\n",
       "      <td>142.357303</td>\n",
       "      <td>83.488414</td>\n",
       "      <td>0.000000</td>\n",
       "      <td>1.0</td>\n",
       "      <td>0.00000</td>\n",
       "    </tr>\n",
       "  </tbody>\n",
       "</table>\n",
       "</div>\n",
       "      <button class=\"colab-df-convert\" onclick=\"convertToInteractive('df-241ddf24-864a-4f18-855e-8f3f3e75fabf')\"\n",
       "              title=\"Convert this dataframe to an interactive table.\"\n",
       "              style=\"display:none;\">\n",
       "        \n",
       "  <svg xmlns=\"http://www.w3.org/2000/svg\" height=\"24px\"viewBox=\"0 0 24 24\"\n",
       "       width=\"24px\">\n",
       "    <path d=\"M0 0h24v24H0V0z\" fill=\"none\"/>\n",
       "    <path d=\"M18.56 5.44l.94 2.06.94-2.06 2.06-.94-2.06-.94-.94-2.06-.94 2.06-2.06.94zm-11 1L8.5 8.5l.94-2.06 2.06-.94-2.06-.94L8.5 2.5l-.94 2.06-2.06.94zm10 10l.94 2.06.94-2.06 2.06-.94-2.06-.94-.94-2.06-.94 2.06-2.06.94z\"/><path d=\"M17.41 7.96l-1.37-1.37c-.4-.4-.92-.59-1.43-.59-.52 0-1.04.2-1.43.59L10.3 9.45l-7.72 7.72c-.78.78-.78 2.05 0 2.83L4 21.41c.39.39.9.59 1.41.59.51 0 1.02-.2 1.41-.59l7.78-7.78 2.81-2.81c.8-.78.8-2.07 0-2.86zM5.41 20L4 18.59l7.72-7.72 1.47 1.35L5.41 20z\"/>\n",
       "  </svg>\n",
       "      </button>\n",
       "      \n",
       "  <style>\n",
       "    .colab-df-container {\n",
       "      display:flex;\n",
       "      flex-wrap:wrap;\n",
       "      gap: 12px;\n",
       "    }\n",
       "\n",
       "    .colab-df-convert {\n",
       "      background-color: #E8F0FE;\n",
       "      border: none;\n",
       "      border-radius: 50%;\n",
       "      cursor: pointer;\n",
       "      display: none;\n",
       "      fill: #1967D2;\n",
       "      height: 32px;\n",
       "      padding: 0 0 0 0;\n",
       "      width: 32px;\n",
       "    }\n",
       "\n",
       "    .colab-df-convert:hover {\n",
       "      background-color: #E2EBFA;\n",
       "      box-shadow: 0px 1px 2px rgba(60, 64, 67, 0.3), 0px 1px 3px 1px rgba(60, 64, 67, 0.15);\n",
       "      fill: #174EA6;\n",
       "    }\n",
       "\n",
       "    [theme=dark] .colab-df-convert {\n",
       "      background-color: #3B4455;\n",
       "      fill: #D2E3FC;\n",
       "    }\n",
       "\n",
       "    [theme=dark] .colab-df-convert:hover {\n",
       "      background-color: #434B5C;\n",
       "      box-shadow: 0px 1px 3px 1px rgba(0, 0, 0, 0.15);\n",
       "      filter: drop-shadow(0px 1px 2px rgba(0, 0, 0, 0.3));\n",
       "      fill: #FFFFFF;\n",
       "    }\n",
       "  </style>\n",
       "\n",
       "      <script>\n",
       "        const buttonEl =\n",
       "          document.querySelector('#df-241ddf24-864a-4f18-855e-8f3f3e75fabf button.colab-df-convert');\n",
       "        buttonEl.style.display =\n",
       "          google.colab.kernel.accessAllowed ? 'block' : 'none';\n",
       "\n",
       "        async function convertToInteractive(key) {\n",
       "          const element = document.querySelector('#df-241ddf24-864a-4f18-855e-8f3f3e75fabf');\n",
       "          const dataTable =\n",
       "            await google.colab.kernel.invokeFunction('convertToInteractive',\n",
       "                                                     [key], {});\n",
       "          if (!dataTable) return;\n",
       "\n",
       "          const docLinkHtml = 'Like what you see? Visit the ' +\n",
       "            '<a target=\"_blank\" href=https://colab.research.google.com/notebooks/data_table.ipynb>data table notebook</a>'\n",
       "            + ' to learn more about interactive tables.';\n",
       "          element.innerHTML = '';\n",
       "          dataTable['output_type'] = 'display_data';\n",
       "          await google.colab.output.renderOutput(dataTable, element);\n",
       "          const docLink = document.createElement('div');\n",
       "          docLink.innerHTML = docLinkHtml;\n",
       "          element.appendChild(docLink);\n",
       "        }\n",
       "      </script>\n",
       "    </div>\n",
       "  </div>\n",
       "  "
      ],
      "text/plain": [
       "          DateTimeCreated  VariantID  ...  Shift  Shift Status\n",
       "5892  2021-08-13 09:45:00        8.0  ...    1.0       0.43555\n",
       "5893  2021-08-13 10:00:00        8.0  ...    1.0       0.00000\n",
       "5894  2021-08-13 10:15:00        8.0  ...    1.0       0.00000\n",
       "5895  2021-08-13 10:30:00        8.0  ...    1.0       0.00000\n",
       "5896  2021-08-13 10:45:00        8.0  ...    1.0       0.00000\n",
       "\n",
       "[5 rows x 14 columns]"
      ]
     },
     "execution_count": 96,
     "metadata": {},
     "output_type": "execute_result"
    }
   ],
   "source": [
    "df_8.head()"
   ]
  },
  {
   "cell_type": "code",
   "execution_count": 97,
   "metadata": {
    "id": "5Rv7ez7ARLYI"
   },
   "outputs": [],
   "source": [
    "df_8_top = df_8.copy()"
   ]
  },
  {
   "cell_type": "code",
   "execution_count": 98,
   "metadata": {
    "id": "JJ2pBHGhRLYJ"
   },
   "outputs": [],
   "source": [
    "Cycle_time_8 =  df_8['CycleTime (s)']\n",
    "df_8.drop(['CycleTime (s)', 'DateTimeCreated'], axis = 1, inplace = True)\n",
    "df_8.Variant_Change = np.round(df_8.Variant_Change)\n",
    "df_8 = df_8.astype(int)\n",
    "df_8['Cycle_Time'] = Cycle_time_8"
   ]
  },
  {
   "cell_type": "code",
   "execution_count": 99,
   "metadata": {
    "colab": {
     "base_uri": "https://localhost:8080/",
     "height": 268
    },
    "id": "tWhRIhvtRLYJ",
    "outputId": "56c2e407-f910-4b1f-c59d-4e9032591352"
   },
   "outputs": [
    {
     "data": {
      "text/html": [
       "\n",
       "  <div id=\"df-070581a7-6538-436c-93ce-f5fadd365bd8\">\n",
       "    <div class=\"colab-df-container\">\n",
       "      <div>\n",
       "<style scoped>\n",
       "    .dataframe tbody tr th:only-of-type {\n",
       "        vertical-align: middle;\n",
       "    }\n",
       "\n",
       "    .dataframe tbody tr th {\n",
       "        vertical-align: top;\n",
       "    }\n",
       "\n",
       "    .dataframe thead th {\n",
       "        text-align: right;\n",
       "    }\n",
       "</style>\n",
       "<table border=\"1\" class=\"dataframe\">\n",
       "  <thead>\n",
       "    <tr style=\"text-align: right;\">\n",
       "      <th></th>\n",
       "      <th>VariantID</th>\n",
       "      <th>Variant_Change</th>\n",
       "      <th>Mono_Identity</th>\n",
       "      <th>Mono_MM_Duration (s)</th>\n",
       "      <th>Wrapping_Duration (s)</th>\n",
       "      <th>Pressing_Duration (s)</th>\n",
       "      <th>GBD_MM Duration (s)</th>\n",
       "      <th>OperationTime (s)</th>\n",
       "      <th>Downtime (s)</th>\n",
       "      <th>ShutDown (s)</th>\n",
       "      <th>Shift</th>\n",
       "      <th>Shift Status</th>\n",
       "      <th>Cycle_Time</th>\n",
       "    </tr>\n",
       "  </thead>\n",
       "  <tbody>\n",
       "    <tr>\n",
       "      <th>5892</th>\n",
       "      <td>8</td>\n",
       "      <td>1</td>\n",
       "      <td>2</td>\n",
       "      <td>69589</td>\n",
       "      <td>69588</td>\n",
       "      <td>69624</td>\n",
       "      <td>28965</td>\n",
       "      <td>115</td>\n",
       "      <td>28901</td>\n",
       "      <td>28213</td>\n",
       "      <td>1</td>\n",
       "      <td>0</td>\n",
       "      <td>28963.670950</td>\n",
       "    </tr>\n",
       "    <tr>\n",
       "      <th>5893</th>\n",
       "      <td>8</td>\n",
       "      <td>1</td>\n",
       "      <td>2</td>\n",
       "      <td>702</td>\n",
       "      <td>724</td>\n",
       "      <td>669</td>\n",
       "      <td>334</td>\n",
       "      <td>114</td>\n",
       "      <td>272</td>\n",
       "      <td>0</td>\n",
       "      <td>1</td>\n",
       "      <td>0</td>\n",
       "      <td>334.985659</td>\n",
       "    </tr>\n",
       "    <tr>\n",
       "      <th>5894</th>\n",
       "      <td>8</td>\n",
       "      <td>1</td>\n",
       "      <td>2</td>\n",
       "      <td>594</td>\n",
       "      <td>601</td>\n",
       "      <td>607</td>\n",
       "      <td>318</td>\n",
       "      <td>127</td>\n",
       "      <td>255</td>\n",
       "      <td>0</td>\n",
       "      <td>1</td>\n",
       "      <td>0</td>\n",
       "      <td>317.300732</td>\n",
       "    </tr>\n",
       "    <tr>\n",
       "      <th>5895</th>\n",
       "      <td>8</td>\n",
       "      <td>1</td>\n",
       "      <td>2</td>\n",
       "      <td>43</td>\n",
       "      <td>260</td>\n",
       "      <td>340</td>\n",
       "      <td>94</td>\n",
       "      <td>199</td>\n",
       "      <td>48</td>\n",
       "      <td>0</td>\n",
       "      <td>1</td>\n",
       "      <td>0</td>\n",
       "      <td>95.303107</td>\n",
       "    </tr>\n",
       "    <tr>\n",
       "      <th>5896</th>\n",
       "      <td>8</td>\n",
       "      <td>1</td>\n",
       "      <td>2</td>\n",
       "      <td>663</td>\n",
       "      <td>846</td>\n",
       "      <td>71</td>\n",
       "      <td>140</td>\n",
       "      <td>756</td>\n",
       "      <td>83</td>\n",
       "      <td>0</td>\n",
       "      <td>1</td>\n",
       "      <td>0</td>\n",
       "      <td>142.357303</td>\n",
       "    </tr>\n",
       "  </tbody>\n",
       "</table>\n",
       "</div>\n",
       "      <button class=\"colab-df-convert\" onclick=\"convertToInteractive('df-070581a7-6538-436c-93ce-f5fadd365bd8')\"\n",
       "              title=\"Convert this dataframe to an interactive table.\"\n",
       "              style=\"display:none;\">\n",
       "        \n",
       "  <svg xmlns=\"http://www.w3.org/2000/svg\" height=\"24px\"viewBox=\"0 0 24 24\"\n",
       "       width=\"24px\">\n",
       "    <path d=\"M0 0h24v24H0V0z\" fill=\"none\"/>\n",
       "    <path d=\"M18.56 5.44l.94 2.06.94-2.06 2.06-.94-2.06-.94-.94-2.06-.94 2.06-2.06.94zm-11 1L8.5 8.5l.94-2.06 2.06-.94-2.06-.94L8.5 2.5l-.94 2.06-2.06.94zm10 10l.94 2.06.94-2.06 2.06-.94-2.06-.94-.94-2.06-.94 2.06-2.06.94z\"/><path d=\"M17.41 7.96l-1.37-1.37c-.4-.4-.92-.59-1.43-.59-.52 0-1.04.2-1.43.59L10.3 9.45l-7.72 7.72c-.78.78-.78 2.05 0 2.83L4 21.41c.39.39.9.59 1.41.59.51 0 1.02-.2 1.41-.59l7.78-7.78 2.81-2.81c.8-.78.8-2.07 0-2.86zM5.41 20L4 18.59l7.72-7.72 1.47 1.35L5.41 20z\"/>\n",
       "  </svg>\n",
       "      </button>\n",
       "      \n",
       "  <style>\n",
       "    .colab-df-container {\n",
       "      display:flex;\n",
       "      flex-wrap:wrap;\n",
       "      gap: 12px;\n",
       "    }\n",
       "\n",
       "    .colab-df-convert {\n",
       "      background-color: #E8F0FE;\n",
       "      border: none;\n",
       "      border-radius: 50%;\n",
       "      cursor: pointer;\n",
       "      display: none;\n",
       "      fill: #1967D2;\n",
       "      height: 32px;\n",
       "      padding: 0 0 0 0;\n",
       "      width: 32px;\n",
       "    }\n",
       "\n",
       "    .colab-df-convert:hover {\n",
       "      background-color: #E2EBFA;\n",
       "      box-shadow: 0px 1px 2px rgba(60, 64, 67, 0.3), 0px 1px 3px 1px rgba(60, 64, 67, 0.15);\n",
       "      fill: #174EA6;\n",
       "    }\n",
       "\n",
       "    [theme=dark] .colab-df-convert {\n",
       "      background-color: #3B4455;\n",
       "      fill: #D2E3FC;\n",
       "    }\n",
       "\n",
       "    [theme=dark] .colab-df-convert:hover {\n",
       "      background-color: #434B5C;\n",
       "      box-shadow: 0px 1px 3px 1px rgba(0, 0, 0, 0.15);\n",
       "      filter: drop-shadow(0px 1px 2px rgba(0, 0, 0, 0.3));\n",
       "      fill: #FFFFFF;\n",
       "    }\n",
       "  </style>\n",
       "\n",
       "      <script>\n",
       "        const buttonEl =\n",
       "          document.querySelector('#df-070581a7-6538-436c-93ce-f5fadd365bd8 button.colab-df-convert');\n",
       "        buttonEl.style.display =\n",
       "          google.colab.kernel.accessAllowed ? 'block' : 'none';\n",
       "\n",
       "        async function convertToInteractive(key) {\n",
       "          const element = document.querySelector('#df-070581a7-6538-436c-93ce-f5fadd365bd8');\n",
       "          const dataTable =\n",
       "            await google.colab.kernel.invokeFunction('convertToInteractive',\n",
       "                                                     [key], {});\n",
       "          if (!dataTable) return;\n",
       "\n",
       "          const docLinkHtml = 'Like what you see? Visit the ' +\n",
       "            '<a target=\"_blank\" href=https://colab.research.google.com/notebooks/data_table.ipynb>data table notebook</a>'\n",
       "            + ' to learn more about interactive tables.';\n",
       "          element.innerHTML = '';\n",
       "          dataTable['output_type'] = 'display_data';\n",
       "          await google.colab.output.renderOutput(dataTable, element);\n",
       "          const docLink = document.createElement('div');\n",
       "          docLink.innerHTML = docLinkHtml;\n",
       "          element.appendChild(docLink);\n",
       "        }\n",
       "      </script>\n",
       "    </div>\n",
       "  </div>\n",
       "  "
      ],
      "text/plain": [
       "      VariantID  Variant_Change  ...  Shift Status    Cycle_Time\n",
       "5892          8               1  ...             0  28963.670950\n",
       "5893          8               1  ...             0    334.985659\n",
       "5894          8               1  ...             0    317.300732\n",
       "5895          8               1  ...             0     95.303107\n",
       "5896          8               1  ...             0    142.357303\n",
       "\n",
       "[5 rows x 13 columns]"
      ]
     },
     "execution_count": 99,
     "metadata": {},
     "output_type": "execute_result"
    }
   ],
   "source": [
    "df_8.head()"
   ]
  },
  {
   "cell_type": "code",
   "execution_count": 100,
   "metadata": {
    "id": "ogCXuvrARLYK"
   },
   "outputs": [],
   "source": [
    "#dropping variantID because its the same value\n",
    "df_8.drop(['VariantID'], axis = 1, inplace = True)"
   ]
  },
  {
   "cell_type": "markdown",
   "metadata": {
    "id": "MbS50wnERLYL"
   },
   "source": [
    "The following is the number of time-steps that we will shift the target-data. Our data-set is resampled to have an observation for every 15 mins, so there are 96 observations for 24 hours.\n",
    "\n",
    "If we want to predict the weather 24 hours into the future, we shift the data 96 time-steps. If we want to predict the weather 7 days into the future, we shift the data 7 * 96 time-steps."
   ]
  },
  {
   "cell_type": "code",
   "execution_count": 101,
   "metadata": {
    "id": "_w85qI9gRLYL"
   },
   "outputs": [],
   "source": [
    "def Shift(shift_days):\n",
    "    shift_days = shift_days\n",
    "    shift_steps = shift_days * 96\n",
    "    \n",
    "    return shift_days, shift_steps "
   ]
  },
  {
   "cell_type": "code",
   "execution_count": 102,
   "metadata": {
    "id": "eih_Ll1vRLYM"
   },
   "outputs": [],
   "source": [
    "shift_days, shift_steps = Shift(7)"
   ]
  },
  {
   "cell_type": "code",
   "execution_count": 103,
   "metadata": {
    "colab": {
     "base_uri": "https://localhost:8080/"
    },
    "id": "kLvo-R2BRLYN",
    "outputId": "83c3e00a-f548-42af-fba9-6f6c36abd84b"
   },
   "outputs": [
    {
     "data": {
      "text/plain": [
       "(7, 672)"
      ]
     },
     "execution_count": 103,
     "metadata": {},
     "output_type": "execute_result"
    }
   ],
   "source": [
    "shift_days, shift_steps"
   ]
  },
  {
   "cell_type": "code",
   "execution_count": 104,
   "metadata": {
    "id": "Vr9VaU-_RLYN"
   },
   "outputs": [],
   "source": [
    "df_8_top.index = df_8_top.DateTimeCreated\n",
    "df_target_8 = df_8_top[['CycleTime (s)']].shift(-shift_steps)"
   ]
  },
  {
   "cell_type": "code",
   "execution_count": 105,
   "metadata": {
    "colab": {
     "base_uri": "https://localhost:8080/"
    },
    "id": "NUc3p2d8RLYO",
    "outputId": "a5ae99d6-3e47-49c5-add8-8bc201313944"
   },
   "outputs": [
    {
     "data": {
      "text/plain": [
       "(5090, 1)"
      ]
     },
     "execution_count": 105,
     "metadata": {},
     "output_type": "execute_result"
    }
   ],
   "source": [
    "df_target_8.shape"
   ]
  },
  {
   "cell_type": "code",
   "execution_count": 106,
   "metadata": {
    "colab": {
     "base_uri": "https://localhost:8080/",
     "height": 238
    },
    "id": "9hSA9nyeRLYO",
    "outputId": "101a2f26-ff74-4e25-e602-03e06b71887e"
   },
   "outputs": [
    {
     "data": {
      "text/html": [
       "\n",
       "  <div id=\"df-f9a4ddd1-af67-4ef8-9dc8-abcdee13ecf2\">\n",
       "    <div class=\"colab-df-container\">\n",
       "      <div>\n",
       "<style scoped>\n",
       "    .dataframe tbody tr th:only-of-type {\n",
       "        vertical-align: middle;\n",
       "    }\n",
       "\n",
       "    .dataframe tbody tr th {\n",
       "        vertical-align: top;\n",
       "    }\n",
       "\n",
       "    .dataframe thead th {\n",
       "        text-align: right;\n",
       "    }\n",
       "</style>\n",
       "<table border=\"1\" class=\"dataframe\">\n",
       "  <thead>\n",
       "    <tr style=\"text-align: right;\">\n",
       "      <th></th>\n",
       "      <th>CycleTime (s)</th>\n",
       "    </tr>\n",
       "    <tr>\n",
       "      <th>DateTimeCreated</th>\n",
       "      <th></th>\n",
       "    </tr>\n",
       "  </thead>\n",
       "  <tbody>\n",
       "    <tr>\n",
       "      <th>2021-08-13 09:45:00</th>\n",
       "      <td>787.688284</td>\n",
       "    </tr>\n",
       "    <tr>\n",
       "      <th>2021-08-13 10:00:00</th>\n",
       "      <td>791.905419</td>\n",
       "    </tr>\n",
       "    <tr>\n",
       "      <th>2021-08-13 10:15:00</th>\n",
       "      <td>796.122555</td>\n",
       "    </tr>\n",
       "    <tr>\n",
       "      <th>2021-08-13 10:30:00</th>\n",
       "      <td>800.339690</td>\n",
       "    </tr>\n",
       "    <tr>\n",
       "      <th>2021-08-13 10:45:00</th>\n",
       "      <td>804.556826</td>\n",
       "    </tr>\n",
       "  </tbody>\n",
       "</table>\n",
       "</div>\n",
       "      <button class=\"colab-df-convert\" onclick=\"convertToInteractive('df-f9a4ddd1-af67-4ef8-9dc8-abcdee13ecf2')\"\n",
       "              title=\"Convert this dataframe to an interactive table.\"\n",
       "              style=\"display:none;\">\n",
       "        \n",
       "  <svg xmlns=\"http://www.w3.org/2000/svg\" height=\"24px\"viewBox=\"0 0 24 24\"\n",
       "       width=\"24px\">\n",
       "    <path d=\"M0 0h24v24H0V0z\" fill=\"none\"/>\n",
       "    <path d=\"M18.56 5.44l.94 2.06.94-2.06 2.06-.94-2.06-.94-.94-2.06-.94 2.06-2.06.94zm-11 1L8.5 8.5l.94-2.06 2.06-.94-2.06-.94L8.5 2.5l-.94 2.06-2.06.94zm10 10l.94 2.06.94-2.06 2.06-.94-2.06-.94-.94-2.06-.94 2.06-2.06.94z\"/><path d=\"M17.41 7.96l-1.37-1.37c-.4-.4-.92-.59-1.43-.59-.52 0-1.04.2-1.43.59L10.3 9.45l-7.72 7.72c-.78.78-.78 2.05 0 2.83L4 21.41c.39.39.9.59 1.41.59.51 0 1.02-.2 1.41-.59l7.78-7.78 2.81-2.81c.8-.78.8-2.07 0-2.86zM5.41 20L4 18.59l7.72-7.72 1.47 1.35L5.41 20z\"/>\n",
       "  </svg>\n",
       "      </button>\n",
       "      \n",
       "  <style>\n",
       "    .colab-df-container {\n",
       "      display:flex;\n",
       "      flex-wrap:wrap;\n",
       "      gap: 12px;\n",
       "    }\n",
       "\n",
       "    .colab-df-convert {\n",
       "      background-color: #E8F0FE;\n",
       "      border: none;\n",
       "      border-radius: 50%;\n",
       "      cursor: pointer;\n",
       "      display: none;\n",
       "      fill: #1967D2;\n",
       "      height: 32px;\n",
       "      padding: 0 0 0 0;\n",
       "      width: 32px;\n",
       "    }\n",
       "\n",
       "    .colab-df-convert:hover {\n",
       "      background-color: #E2EBFA;\n",
       "      box-shadow: 0px 1px 2px rgba(60, 64, 67, 0.3), 0px 1px 3px 1px rgba(60, 64, 67, 0.15);\n",
       "      fill: #174EA6;\n",
       "    }\n",
       "\n",
       "    [theme=dark] .colab-df-convert {\n",
       "      background-color: #3B4455;\n",
       "      fill: #D2E3FC;\n",
       "    }\n",
       "\n",
       "    [theme=dark] .colab-df-convert:hover {\n",
       "      background-color: #434B5C;\n",
       "      box-shadow: 0px 1px 3px 1px rgba(0, 0, 0, 0.15);\n",
       "      filter: drop-shadow(0px 1px 2px rgba(0, 0, 0, 0.3));\n",
       "      fill: #FFFFFF;\n",
       "    }\n",
       "  </style>\n",
       "\n",
       "      <script>\n",
       "        const buttonEl =\n",
       "          document.querySelector('#df-f9a4ddd1-af67-4ef8-9dc8-abcdee13ecf2 button.colab-df-convert');\n",
       "        buttonEl.style.display =\n",
       "          google.colab.kernel.accessAllowed ? 'block' : 'none';\n",
       "\n",
       "        async function convertToInteractive(key) {\n",
       "          const element = document.querySelector('#df-f9a4ddd1-af67-4ef8-9dc8-abcdee13ecf2');\n",
       "          const dataTable =\n",
       "            await google.colab.kernel.invokeFunction('convertToInteractive',\n",
       "                                                     [key], {});\n",
       "          if (!dataTable) return;\n",
       "\n",
       "          const docLinkHtml = 'Like what you see? Visit the ' +\n",
       "            '<a target=\"_blank\" href=https://colab.research.google.com/notebooks/data_table.ipynb>data table notebook</a>'\n",
       "            + ' to learn more about interactive tables.';\n",
       "          element.innerHTML = '';\n",
       "          dataTable['output_type'] = 'display_data';\n",
       "          await google.colab.output.renderOutput(dataTable, element);\n",
       "          const docLink = document.createElement('div');\n",
       "          docLink.innerHTML = docLinkHtml;\n",
       "          element.appendChild(docLink);\n",
       "        }\n",
       "      </script>\n",
       "    </div>\n",
       "  </div>\n",
       "  "
      ],
      "text/plain": [
       "                     CycleTime (s)\n",
       "DateTimeCreated                   \n",
       "2021-08-13 09:45:00     787.688284\n",
       "2021-08-13 10:00:00     791.905419\n",
       "2021-08-13 10:15:00     796.122555\n",
       "2021-08-13 10:30:00     800.339690\n",
       "2021-08-13 10:45:00     804.556826"
      ]
     },
     "execution_count": 106,
     "metadata": {},
     "output_type": "execute_result"
    }
   ],
   "source": [
    "df_target_8.head()"
   ]
  },
  {
   "cell_type": "code",
   "execution_count": 107,
   "metadata": {
    "colab": {
     "base_uri": "https://localhost:8080/",
     "height": 238
    },
    "id": "UMJW5RsaRLYP",
    "outputId": "3e9597f5-da39-4141-9656-aac028fffe82"
   },
   "outputs": [
    {
     "data": {
      "text/html": [
       "\n",
       "  <div id=\"df-3e5b2542-dcf4-4db9-b885-14166814ef3a\">\n",
       "    <div class=\"colab-df-container\">\n",
       "      <div>\n",
       "<style scoped>\n",
       "    .dataframe tbody tr th:only-of-type {\n",
       "        vertical-align: middle;\n",
       "    }\n",
       "\n",
       "    .dataframe tbody tr th {\n",
       "        vertical-align: top;\n",
       "    }\n",
       "\n",
       "    .dataframe thead th {\n",
       "        text-align: right;\n",
       "    }\n",
       "</style>\n",
       "<table border=\"1\" class=\"dataframe\">\n",
       "  <thead>\n",
       "    <tr style=\"text-align: right;\">\n",
       "      <th></th>\n",
       "      <th>CycleTime (s)</th>\n",
       "    </tr>\n",
       "    <tr>\n",
       "      <th>DateTimeCreated</th>\n",
       "      <th></th>\n",
       "    </tr>\n",
       "  </thead>\n",
       "  <tbody>\n",
       "    <tr>\n",
       "      <th>2021-10-05 09:00:00</th>\n",
       "      <td>NaN</td>\n",
       "    </tr>\n",
       "    <tr>\n",
       "      <th>2021-10-05 09:15:00</th>\n",
       "      <td>NaN</td>\n",
       "    </tr>\n",
       "    <tr>\n",
       "      <th>2021-10-05 09:30:00</th>\n",
       "      <td>NaN</td>\n",
       "    </tr>\n",
       "    <tr>\n",
       "      <th>2021-10-05 09:45:00</th>\n",
       "      <td>NaN</td>\n",
       "    </tr>\n",
       "    <tr>\n",
       "      <th>2021-10-05 10:00:00</th>\n",
       "      <td>NaN</td>\n",
       "    </tr>\n",
       "  </tbody>\n",
       "</table>\n",
       "</div>\n",
       "      <button class=\"colab-df-convert\" onclick=\"convertToInteractive('df-3e5b2542-dcf4-4db9-b885-14166814ef3a')\"\n",
       "              title=\"Convert this dataframe to an interactive table.\"\n",
       "              style=\"display:none;\">\n",
       "        \n",
       "  <svg xmlns=\"http://www.w3.org/2000/svg\" height=\"24px\"viewBox=\"0 0 24 24\"\n",
       "       width=\"24px\">\n",
       "    <path d=\"M0 0h24v24H0V0z\" fill=\"none\"/>\n",
       "    <path d=\"M18.56 5.44l.94 2.06.94-2.06 2.06-.94-2.06-.94-.94-2.06-.94 2.06-2.06.94zm-11 1L8.5 8.5l.94-2.06 2.06-.94-2.06-.94L8.5 2.5l-.94 2.06-2.06.94zm10 10l.94 2.06.94-2.06 2.06-.94-2.06-.94-.94-2.06-.94 2.06-2.06.94z\"/><path d=\"M17.41 7.96l-1.37-1.37c-.4-.4-.92-.59-1.43-.59-.52 0-1.04.2-1.43.59L10.3 9.45l-7.72 7.72c-.78.78-.78 2.05 0 2.83L4 21.41c.39.39.9.59 1.41.59.51 0 1.02-.2 1.41-.59l7.78-7.78 2.81-2.81c.8-.78.8-2.07 0-2.86zM5.41 20L4 18.59l7.72-7.72 1.47 1.35L5.41 20z\"/>\n",
       "  </svg>\n",
       "      </button>\n",
       "      \n",
       "  <style>\n",
       "    .colab-df-container {\n",
       "      display:flex;\n",
       "      flex-wrap:wrap;\n",
       "      gap: 12px;\n",
       "    }\n",
       "\n",
       "    .colab-df-convert {\n",
       "      background-color: #E8F0FE;\n",
       "      border: none;\n",
       "      border-radius: 50%;\n",
       "      cursor: pointer;\n",
       "      display: none;\n",
       "      fill: #1967D2;\n",
       "      height: 32px;\n",
       "      padding: 0 0 0 0;\n",
       "      width: 32px;\n",
       "    }\n",
       "\n",
       "    .colab-df-convert:hover {\n",
       "      background-color: #E2EBFA;\n",
       "      box-shadow: 0px 1px 2px rgba(60, 64, 67, 0.3), 0px 1px 3px 1px rgba(60, 64, 67, 0.15);\n",
       "      fill: #174EA6;\n",
       "    }\n",
       "\n",
       "    [theme=dark] .colab-df-convert {\n",
       "      background-color: #3B4455;\n",
       "      fill: #D2E3FC;\n",
       "    }\n",
       "\n",
       "    [theme=dark] .colab-df-convert:hover {\n",
       "      background-color: #434B5C;\n",
       "      box-shadow: 0px 1px 3px 1px rgba(0, 0, 0, 0.15);\n",
       "      filter: drop-shadow(0px 1px 2px rgba(0, 0, 0, 0.3));\n",
       "      fill: #FFFFFF;\n",
       "    }\n",
       "  </style>\n",
       "\n",
       "      <script>\n",
       "        const buttonEl =\n",
       "          document.querySelector('#df-3e5b2542-dcf4-4db9-b885-14166814ef3a button.colab-df-convert');\n",
       "        buttonEl.style.display =\n",
       "          google.colab.kernel.accessAllowed ? 'block' : 'none';\n",
       "\n",
       "        async function convertToInteractive(key) {\n",
       "          const element = document.querySelector('#df-3e5b2542-dcf4-4db9-b885-14166814ef3a');\n",
       "          const dataTable =\n",
       "            await google.colab.kernel.invokeFunction('convertToInteractive',\n",
       "                                                     [key], {});\n",
       "          if (!dataTable) return;\n",
       "\n",
       "          const docLinkHtml = 'Like what you see? Visit the ' +\n",
       "            '<a target=\"_blank\" href=https://colab.research.google.com/notebooks/data_table.ipynb>data table notebook</a>'\n",
       "            + ' to learn more about interactive tables.';\n",
       "          element.innerHTML = '';\n",
       "          dataTable['output_type'] = 'display_data';\n",
       "          await google.colab.output.renderOutput(dataTable, element);\n",
       "          const docLink = document.createElement('div');\n",
       "          docLink.innerHTML = docLinkHtml;\n",
       "          element.appendChild(docLink);\n",
       "        }\n",
       "      </script>\n",
       "    </div>\n",
       "  </div>\n",
       "  "
      ],
      "text/plain": [
       "                     CycleTime (s)\n",
       "DateTimeCreated                   \n",
       "2021-10-05 09:00:00            NaN\n",
       "2021-10-05 09:15:00            NaN\n",
       "2021-10-05 09:30:00            NaN\n",
       "2021-10-05 09:45:00            NaN\n",
       "2021-10-05 10:00:00            NaN"
      ]
     },
     "execution_count": 107,
     "metadata": {},
     "output_type": "execute_result"
    }
   ],
   "source": [
    "df_target_8.tail()"
   ]
  },
  {
   "cell_type": "markdown",
   "metadata": {
    "id": "WW0qktj3RLYQ"
   },
   "source": [
    "The time-shifted data-frame has the same length as the original data-frame, but the last observations are NaN (not a number) because the data has been shifted backwards so we are trying to shift data that does not exist in the original data-frame."
   ]
  },
  {
   "cell_type": "markdown",
   "metadata": {
    "id": "iAzlZVDzRLYQ"
   },
   "source": [
    "### input"
   ]
  },
  {
   "cell_type": "code",
   "execution_count": 108,
   "metadata": {
    "colab": {
     "base_uri": "https://localhost:8080/",
     "height": 268
    },
    "id": "c5MPCXE4RLYR",
    "outputId": "712535c3-4597-4b99-ed63-73c3d2e66306"
   },
   "outputs": [
    {
     "data": {
      "text/html": [
       "\n",
       "  <div id=\"df-0d1ffd1f-eee6-4503-9bfb-51312b8bcf2f\">\n",
       "    <div class=\"colab-df-container\">\n",
       "      <div>\n",
       "<style scoped>\n",
       "    .dataframe tbody tr th:only-of-type {\n",
       "        vertical-align: middle;\n",
       "    }\n",
       "\n",
       "    .dataframe tbody tr th {\n",
       "        vertical-align: top;\n",
       "    }\n",
       "\n",
       "    .dataframe thead th {\n",
       "        text-align: right;\n",
       "    }\n",
       "</style>\n",
       "<table border=\"1\" class=\"dataframe\">\n",
       "  <thead>\n",
       "    <tr style=\"text-align: right;\">\n",
       "      <th></th>\n",
       "      <th>Variant_Change</th>\n",
       "      <th>Mono_Identity</th>\n",
       "      <th>Mono_MM_Duration (s)</th>\n",
       "      <th>Wrapping_Duration (s)</th>\n",
       "      <th>Pressing_Duration (s)</th>\n",
       "      <th>GBD_MM Duration (s)</th>\n",
       "      <th>OperationTime (s)</th>\n",
       "      <th>Downtime (s)</th>\n",
       "      <th>ShutDown (s)</th>\n",
       "      <th>Shift</th>\n",
       "      <th>Shift Status</th>\n",
       "      <th>Cycle_Time</th>\n",
       "    </tr>\n",
       "  </thead>\n",
       "  <tbody>\n",
       "    <tr>\n",
       "      <th>5892</th>\n",
       "      <td>1</td>\n",
       "      <td>2</td>\n",
       "      <td>69589</td>\n",
       "      <td>69588</td>\n",
       "      <td>69624</td>\n",
       "      <td>28965</td>\n",
       "      <td>115</td>\n",
       "      <td>28901</td>\n",
       "      <td>28213</td>\n",
       "      <td>1</td>\n",
       "      <td>0</td>\n",
       "      <td>28963.670950</td>\n",
       "    </tr>\n",
       "    <tr>\n",
       "      <th>5893</th>\n",
       "      <td>1</td>\n",
       "      <td>2</td>\n",
       "      <td>702</td>\n",
       "      <td>724</td>\n",
       "      <td>669</td>\n",
       "      <td>334</td>\n",
       "      <td>114</td>\n",
       "      <td>272</td>\n",
       "      <td>0</td>\n",
       "      <td>1</td>\n",
       "      <td>0</td>\n",
       "      <td>334.985659</td>\n",
       "    </tr>\n",
       "    <tr>\n",
       "      <th>5894</th>\n",
       "      <td>1</td>\n",
       "      <td>2</td>\n",
       "      <td>594</td>\n",
       "      <td>601</td>\n",
       "      <td>607</td>\n",
       "      <td>318</td>\n",
       "      <td>127</td>\n",
       "      <td>255</td>\n",
       "      <td>0</td>\n",
       "      <td>1</td>\n",
       "      <td>0</td>\n",
       "      <td>317.300732</td>\n",
       "    </tr>\n",
       "    <tr>\n",
       "      <th>5895</th>\n",
       "      <td>1</td>\n",
       "      <td>2</td>\n",
       "      <td>43</td>\n",
       "      <td>260</td>\n",
       "      <td>340</td>\n",
       "      <td>94</td>\n",
       "      <td>199</td>\n",
       "      <td>48</td>\n",
       "      <td>0</td>\n",
       "      <td>1</td>\n",
       "      <td>0</td>\n",
       "      <td>95.303107</td>\n",
       "    </tr>\n",
       "    <tr>\n",
       "      <th>5896</th>\n",
       "      <td>1</td>\n",
       "      <td>2</td>\n",
       "      <td>663</td>\n",
       "      <td>846</td>\n",
       "      <td>71</td>\n",
       "      <td>140</td>\n",
       "      <td>756</td>\n",
       "      <td>83</td>\n",
       "      <td>0</td>\n",
       "      <td>1</td>\n",
       "      <td>0</td>\n",
       "      <td>142.357303</td>\n",
       "    </tr>\n",
       "  </tbody>\n",
       "</table>\n",
       "</div>\n",
       "      <button class=\"colab-df-convert\" onclick=\"convertToInteractive('df-0d1ffd1f-eee6-4503-9bfb-51312b8bcf2f')\"\n",
       "              title=\"Convert this dataframe to an interactive table.\"\n",
       "              style=\"display:none;\">\n",
       "        \n",
       "  <svg xmlns=\"http://www.w3.org/2000/svg\" height=\"24px\"viewBox=\"0 0 24 24\"\n",
       "       width=\"24px\">\n",
       "    <path d=\"M0 0h24v24H0V0z\" fill=\"none\"/>\n",
       "    <path d=\"M18.56 5.44l.94 2.06.94-2.06 2.06-.94-2.06-.94-.94-2.06-.94 2.06-2.06.94zm-11 1L8.5 8.5l.94-2.06 2.06-.94-2.06-.94L8.5 2.5l-.94 2.06-2.06.94zm10 10l.94 2.06.94-2.06 2.06-.94-2.06-.94-.94-2.06-.94 2.06-2.06.94z\"/><path d=\"M17.41 7.96l-1.37-1.37c-.4-.4-.92-.59-1.43-.59-.52 0-1.04.2-1.43.59L10.3 9.45l-7.72 7.72c-.78.78-.78 2.05 0 2.83L4 21.41c.39.39.9.59 1.41.59.51 0 1.02-.2 1.41-.59l7.78-7.78 2.81-2.81c.8-.78.8-2.07 0-2.86zM5.41 20L4 18.59l7.72-7.72 1.47 1.35L5.41 20z\"/>\n",
       "  </svg>\n",
       "      </button>\n",
       "      \n",
       "  <style>\n",
       "    .colab-df-container {\n",
       "      display:flex;\n",
       "      flex-wrap:wrap;\n",
       "      gap: 12px;\n",
       "    }\n",
       "\n",
       "    .colab-df-convert {\n",
       "      background-color: #E8F0FE;\n",
       "      border: none;\n",
       "      border-radius: 50%;\n",
       "      cursor: pointer;\n",
       "      display: none;\n",
       "      fill: #1967D2;\n",
       "      height: 32px;\n",
       "      padding: 0 0 0 0;\n",
       "      width: 32px;\n",
       "    }\n",
       "\n",
       "    .colab-df-convert:hover {\n",
       "      background-color: #E2EBFA;\n",
       "      box-shadow: 0px 1px 2px rgba(60, 64, 67, 0.3), 0px 1px 3px 1px rgba(60, 64, 67, 0.15);\n",
       "      fill: #174EA6;\n",
       "    }\n",
       "\n",
       "    [theme=dark] .colab-df-convert {\n",
       "      background-color: #3B4455;\n",
       "      fill: #D2E3FC;\n",
       "    }\n",
       "\n",
       "    [theme=dark] .colab-df-convert:hover {\n",
       "      background-color: #434B5C;\n",
       "      box-shadow: 0px 1px 3px 1px rgba(0, 0, 0, 0.15);\n",
       "      filter: drop-shadow(0px 1px 2px rgba(0, 0, 0, 0.3));\n",
       "      fill: #FFFFFF;\n",
       "    }\n",
       "  </style>\n",
       "\n",
       "      <script>\n",
       "        const buttonEl =\n",
       "          document.querySelector('#df-0d1ffd1f-eee6-4503-9bfb-51312b8bcf2f button.colab-df-convert');\n",
       "        buttonEl.style.display =\n",
       "          google.colab.kernel.accessAllowed ? 'block' : 'none';\n",
       "\n",
       "        async function convertToInteractive(key) {\n",
       "          const element = document.querySelector('#df-0d1ffd1f-eee6-4503-9bfb-51312b8bcf2f');\n",
       "          const dataTable =\n",
       "            await google.colab.kernel.invokeFunction('convertToInteractive',\n",
       "                                                     [key], {});\n",
       "          if (!dataTable) return;\n",
       "\n",
       "          const docLinkHtml = 'Like what you see? Visit the ' +\n",
       "            '<a target=\"_blank\" href=https://colab.research.google.com/notebooks/data_table.ipynb>data table notebook</a>'\n",
       "            + ' to learn more about interactive tables.';\n",
       "          element.innerHTML = '';\n",
       "          dataTable['output_type'] = 'display_data';\n",
       "          await google.colab.output.renderOutput(dataTable, element);\n",
       "          const docLink = document.createElement('div');\n",
       "          docLink.innerHTML = docLinkHtml;\n",
       "          element.appendChild(docLink);\n",
       "        }\n",
       "      </script>\n",
       "    </div>\n",
       "  </div>\n",
       "  "
      ],
      "text/plain": [
       "      Variant_Change  Mono_Identity  ...  Shift Status    Cycle_Time\n",
       "5892               1              2  ...             0  28963.670950\n",
       "5893               1              2  ...             0    334.985659\n",
       "5894               1              2  ...             0    317.300732\n",
       "5895               1              2  ...             0     95.303107\n",
       "5896               1              2  ...             0    142.357303\n",
       "\n",
       "[5 rows x 12 columns]"
      ]
     },
     "execution_count": 108,
     "metadata": {},
     "output_type": "execute_result"
    }
   ],
   "source": [
    "df_8.head()"
   ]
  },
  {
   "cell_type": "code",
   "execution_count": 109,
   "metadata": {
    "id": "Bje5upXaRLYR"
   },
   "outputs": [],
   "source": [
    "#change datetimecreated to index\n",
    "df_8.index = df_8_top['DateTimeCreated']"
   ]
  },
  {
   "cell_type": "code",
   "execution_count": 110,
   "metadata": {
    "id": "1YxGasXNRLYS"
   },
   "outputs": [],
   "source": [
    "#get train values till the shift steps specified\n",
    "X_data = df_8.values[0:-shift_steps]"
   ]
  },
  {
   "cell_type": "code",
   "execution_count": 111,
   "metadata": {
    "colab": {
     "base_uri": "https://localhost:8080/"
    },
    "id": "QO8q4wibRLYS",
    "outputId": "0de51aaf-2c63-4cdf-d47d-2806ceae8ec1"
   },
   "outputs": [
    {
     "name": "stdout",
     "output_type": "stream",
     "text": [
      "<class 'numpy.ndarray'>\n",
      "Shape:  (4418, 12)\n"
     ]
    }
   ],
   "source": [
    "print(type(X_data))\n",
    "print('Shape: ', X_data.shape)"
   ]
  },
  {
   "cell_type": "code",
   "execution_count": 112,
   "metadata": {
    "colab": {
     "base_uri": "https://localhost:8080/"
    },
    "id": "74FJTmQARLYT",
    "outputId": "b8af122e-e923-443c-e963-2ada9ed2ea4d"
   },
   "outputs": [
    {
     "name": "stdout",
     "output_type": "stream",
     "text": [
      "<class 'numpy.ndarray'>\n",
      "Shape:  (4418, 1)\n"
     ]
    }
   ],
   "source": [
    "y_data = df_target_8.values[:-shift_steps]\n",
    "print(type(y_data))\n",
    "print('Shape: ', y_data.shape)"
   ]
  },
  {
   "cell_type": "markdown",
   "metadata": {
    "id": "l9WqxVEWRLYT"
   },
   "source": [
    "### split the data"
   ]
  },
  {
   "cell_type": "code",
   "execution_count": 113,
   "metadata": {
    "colab": {
     "base_uri": "https://localhost:8080/"
    },
    "id": "e2whx0NiRLYU",
    "outputId": "71017d86-2e5e-4609-ac6d-dfb19828fde8"
   },
   "outputs": [
    {
     "name": "stdout",
     "output_type": "stream",
     "text": [
      "train samples :  3976\n",
      "test samples :  442\n"
     ]
    }
   ],
   "source": [
    "num_data = len(X_data)\n",
    "train_split = 0.9\n",
    "\n",
    "num_train = int(num_data * train_split)\n",
    "print('train samples : ', num_train)\n",
    "\n",
    "num_test = int(num_data - num_train)\n",
    "print('test samples : ', num_test)"
   ]
  },
  {
   "cell_type": "code",
   "execution_count": 114,
   "metadata": {
    "colab": {
     "base_uri": "https://localhost:8080/"
    },
    "id": "WTxx57v6RLYU",
    "outputId": "e5b2ba0c-c27a-4775-ef24-e5e3c21887d4"
   },
   "outputs": [
    {
     "name": "stdout",
     "output_type": "stream",
     "text": [
      "X_train_shape : (3976, 12), X_test_shape : (442, 12)\n"
     ]
    }
   ],
   "source": [
    "X_train = X_data[:num_train]\n",
    "X_test = X_data[num_train:]\n",
    "\n",
    "print(f'X_train_shape : {X_train.shape}, X_test_shape : {X_test.shape}')"
   ]
  },
  {
   "cell_type": "code",
   "execution_count": 115,
   "metadata": {
    "colab": {
     "base_uri": "https://localhost:8080/"
    },
    "id": "39I0oRrURLYV",
    "outputId": "2605b6ef-8087-4aad-d072-495f5904dece"
   },
   "outputs": [
    {
     "name": "stdout",
     "output_type": "stream",
     "text": [
      "y_train_shape : (3976, 1), y_test_shape : (442, 1)\n"
     ]
    }
   ],
   "source": [
    "y_train = y_data[0: num_train]\n",
    "y_test = y_data[num_train: ]\n",
    "\n",
    "print(f'y_train_shape : {y_train.shape}, y_test_shape : {y_test.shape}')"
   ]
  },
  {
   "cell_type": "markdown",
   "metadata": {
    "id": "vVl-TvDeRLYW"
   },
   "source": [
    "### Lets scale the data"
   ]
  },
  {
   "cell_type": "code",
   "execution_count": 116,
   "metadata": {
    "colab": {
     "base_uri": "https://localhost:8080/"
    },
    "id": "kFXKXnZURLYW",
    "outputId": "1c7bcc1b-34a0-4fb3-9811-82366bfa2dd0"
   },
   "outputs": [
    {
     "name": "stdout",
     "output_type": "stream",
     "text": [
      "Min:  0.0\n",
      "Max:  499934.0\n"
     ]
    }
   ],
   "source": [
    "print(\"Min: \", np.min(X_train))\n",
    "print(\"Max: \", np.max(X_train))"
   ]
  },
  {
   "cell_type": "code",
   "execution_count": 117,
   "metadata": {
    "id": "mS0U423TRLYX"
   },
   "outputs": [],
   "source": [
    "from sklearn.preprocessing import MinMaxScaler\n",
    "scaler = MinMaxScaler(feature_range = (0, 1))\n",
    "X_train_scaled = scaler.fit_transform(X_train)"
   ]
  },
  {
   "cell_type": "code",
   "execution_count": 118,
   "metadata": {
    "colab": {
     "base_uri": "https://localhost:8080/"
    },
    "id": "X6exxIFURLYY",
    "outputId": "7ba25f23-0747-445c-9c1a-78a8e99ee093"
   },
   "outputs": [
    {
     "name": "stdout",
     "output_type": "stream",
     "text": [
      "Min:  0.0\n",
      "Max:  1.0000000000000002\n"
     ]
    }
   ],
   "source": [
    "print(\"Min: \", np.min(X_train_scaled))\n",
    "print(\"Max: \", np.max(X_train_scaled))"
   ]
  },
  {
   "cell_type": "code",
   "execution_count": 119,
   "metadata": {
    "id": "JEME2-qzRLYY"
   },
   "outputs": [],
   "source": [
    "X_test_scaled = scaler.transform(X_test)"
   ]
  },
  {
   "cell_type": "code",
   "execution_count": 120,
   "metadata": {
    "id": "3udC1b9tRLYZ"
   },
   "outputs": [],
   "source": [
    "y_train_scaled = scaler.fit_transform(y_train)\n",
    "y_test_scaled = scaler.transform(y_test)"
   ]
  },
  {
   "cell_type": "code",
   "execution_count": 121,
   "metadata": {
    "colab": {
     "base_uri": "https://localhost:8080/"
    },
    "id": "Z5v2Po_fRLYa",
    "outputId": "cf5cd3c4-84bf-4948-e4a6-14f24d38b02d"
   },
   "outputs": [
    {
     "name": "stdout",
     "output_type": "stream",
     "text": [
      "Min:  0.0\n",
      "Max:  1.0000000000000002\n"
     ]
    }
   ],
   "source": [
    "print(\"Min: \", np.min(y_train_scaled))\n",
    "print(\"Max: \", np.max(y_train_scaled))"
   ]
  },
  {
   "cell_type": "markdown",
   "metadata": {
    "id": "9ztV-TMARLYa"
   },
   "source": [
    "### Data Generator\n",
    "\n",
    "`The data-set has now been prepared as 2-dimensional numpy arrays. The training-data has almost 5k observations, consisting of 13 input-signals and 1 output-signal.`"
   ]
  },
  {
   "cell_type": "code",
   "execution_count": 122,
   "metadata": {
    "colab": {
     "base_uri": "https://localhost:8080/"
    },
    "id": "zUoahurQRLYb",
    "outputId": "a7059ac0-683c-4313-c13a-366173695abc"
   },
   "outputs": [
    {
     "data": {
      "text/plain": [
       "(12, 1)"
      ]
     },
     "execution_count": 122,
     "metadata": {},
     "output_type": "execute_result"
    }
   ],
   "source": [
    "num_x_signals = X_data.shape[1]\n",
    "num_y_signals = y_data.shape[1]\n",
    "\n",
    "#features      prediction     \n",
    "num_x_signals, num_y_signals"
   ]
  },
  {
   "cell_type": "code",
   "execution_count": 123,
   "metadata": {
    "colab": {
     "base_uri": "https://localhost:8080/"
    },
    "id": "hpsiiw8RRLYb",
    "outputId": "c42998a2-7cdb-41de-bf0c-d6fdfa75c7d1"
   },
   "outputs": [
    {
     "name": "stdout",
     "output_type": "stream",
     "text": [
      "(3976, 12)\n",
      "(3976, 1)\n"
     ]
    }
   ],
   "source": [
    "print(X_train_scaled.shape)\n",
    "print(y_train_scaled.shape)"
   ]
  },
  {
   "cell_type": "code",
   "execution_count": 124,
   "metadata": {
    "id": "jmo_fn1fRLYc"
   },
   "outputs": [],
   "source": [
    "def batch_generator(batch_size, sequence_len):\n",
    "    \n",
    "    while True:\n",
    "        \n",
    "        X_shape = (batch_size, sequence_len, num_x_signals)\n",
    "        X_batch = np.zeros(shape = X_shape, dtype = np.float16)\n",
    "        \n",
    "        y_shape = (batch_size, sequence_len, num_y_signals)\n",
    "        y_batch = np.zeros(shape = y_shape, dtype = np.float16)\n",
    "        \n",
    "        for i in range(batch_size):\n",
    "            idx = np.random.randint(num_train - sequence_len)\n",
    "        \n",
    "            X_batch[i] = X_train_scaled[idx: idx+sequence_len]\n",
    "            y_batch[i] = y_train_scaled[idx: idx+sequence_len]\n",
    "            \n",
    "        yield (X_batch, y_batch)"
   ]
  },
  {
   "cell_type": "code",
   "execution_count": 125,
   "metadata": {
    "colab": {
     "base_uri": "https://localhost:8080/"
    },
    "id": "1SYgj0PFRLYc",
    "outputId": "5b2a4645-acea-409a-ff28-ce522d3d8795"
   },
   "outputs": [
    {
     "data": {
      "text/plain": [
       "1344"
      ]
     },
     "execution_count": 125,
     "metadata": {},
     "output_type": "execute_result"
    }
   ],
   "source": [
    "batch_size = 128\n",
    "sequence_len = (96 * 7) * 2\n",
    "sequence_len"
   ]
  },
  {
   "cell_type": "markdown",
   "metadata": {
    "id": "X0VxkhojRLYd"
   },
   "source": [
    "We will use a sequence-length of 1344, which means that each random sequence contains observations for 2 weeks. 4 time-steps corresponds to one hour, so 96 x 7 time-steps corresponds to a week, and 96 x 7 x 8 corresponds to 2 weeks."
   ]
  },
  {
   "cell_type": "code",
   "execution_count": 126,
   "metadata": {
    "id": "TWA7FwLdRLYd"
   },
   "outputs": [],
   "source": [
    "generator = batch_generator(batch_size = batch_size, \n",
    "                            sequence_len = sequence_len)"
   ]
  },
  {
   "cell_type": "code",
   "execution_count": 127,
   "metadata": {
    "id": "GyKzfe7fRLYe"
   },
   "outputs": [],
   "source": [
    "X_batch, y_batch = next(generator)"
   ]
  },
  {
   "cell_type": "code",
   "execution_count": 128,
   "metadata": {
    "colab": {
     "base_uri": "https://localhost:8080/"
    },
    "id": "Z9xqXcjERLYe",
    "outputId": "52d0b5e2-42bf-4cde-87b1-c8a62b2dc513"
   },
   "outputs": [
    {
     "data": {
      "text/plain": [
       "((128, 1344, 12), (128, 1344, 1))"
      ]
     },
     "execution_count": 128,
     "metadata": {},
     "output_type": "execute_result"
    }
   ],
   "source": [
    "X_batch.shape, y_batch.shape"
   ]
  },
  {
   "cell_type": "markdown",
   "metadata": {
    "id": "AfCMzJU0RLYf"
   },
   "source": [
    "### Validation Set\n",
    "\n",
    "We will monitor the model's performance on the test-set.\n",
    "The batch-generator randomly selects a batch of short sequences from the training-data and uses that during training. But for the validation-data we will instead run through the entire sequence from the test-set and measure the prediction accuracy on that entire sequence."
   ]
  },
  {
   "cell_type": "code",
   "execution_count": 129,
   "metadata": {
    "id": "rl9wxQg3RLYf"
   },
   "outputs": [],
   "source": [
    "validation_data = (np.expand_dims(X_test_scaled, axis = 0),\n",
    "                  np.expand_dims(y_test_scaled, axis = 0))"
   ]
  },
  {
   "cell_type": "code",
   "execution_count": 130,
   "metadata": {
    "id": "9_ftc9k6RLYg"
   },
   "outputs": [],
   "source": [
    "import tensorflow as tf\n",
    "import keras\n",
    "from keras.models import Sequential\n",
    "from keras.layers import Dense, LSTM, Dropout"
   ]
  },
  {
   "cell_type": "code",
   "execution_count": 131,
   "metadata": {
    "colab": {
     "base_uri": "https://localhost:8080/"
    },
    "id": "3J4e0DRfRLYg",
    "outputId": "e6dd8541-1b4d-46fd-eb11-6f3ad03f9f65"
   },
   "outputs": [
    {
     "name": "stdout",
     "output_type": "stream",
     "text": [
      "Model: \"sequential_169\"\n",
      "_________________________________________________________________\n",
      " Layer (type)                Output Shape              Param #   \n",
      "=================================================================\n",
      " lstm_338 (LSTM)             (None, None, 32)          5760      \n",
      "                                                                 \n",
      " dense_169 (Dense)           (None, None, 1)           33        \n",
      "                                                                 \n",
      "=================================================================\n",
      "Total params: 5,793\n",
      "Trainable params: 5,793\n",
      "Non-trainable params: 0\n",
      "_________________________________________________________________\n"
     ]
    }
   ],
   "source": [
    "model = keras.Sequential([\n",
    "    keras.layers.LSTM(units = 32,\n",
    "                     return_sequences = True,\n",
    "                     input_shape = (None, num_x_signals)),\n",
    "    keras.layers.Dense(num_y_signals)\n",
    "])\n",
    "\n",
    "model.compile(loss = 'mse', optimizer = 'adam')\n",
    "model.summary()"
   ]
  },
  {
   "cell_type": "code",
   "execution_count": 132,
   "metadata": {
    "colab": {
     "base_uri": "https://localhost:8080/"
    },
    "id": "mpNOG7JcRLYh",
    "outputId": "f590d01b-aa69-485b-c1aa-adb0ee27c4f0"
   },
   "outputs": [
    {
     "name": "stdout",
     "output_type": "stream",
     "text": [
      "Epoch 1/3\n",
      "100/100 [==============================] - 81s 778ms/step - loss: 0.0462 - val_loss: 0.0224\n",
      "Epoch 2/3\n",
      "100/100 [==============================] - 78s 779ms/step - loss: 0.0449 - val_loss: 0.0238\n",
      "Epoch 3/3\n",
      "100/100 [==============================] - 78s 781ms/step - loss: 0.0456 - val_loss: 0.0210\n",
      "CPU times: user 6min 50s, sys: 18.8 s, total: 7min 8s\n",
      "Wall time: 4min 24s\n"
     ]
    },
    {
     "data": {
      "text/plain": [
       "<keras.callbacks.History at 0x7fbf7eb61d10>"
      ]
     },
     "execution_count": 132,
     "metadata": {},
     "output_type": "execute_result"
    }
   ],
   "source": [
    "%%time\n",
    "model.fit_generator(generator=generator,\n",
    "                    epochs = 3,\n",
    "                    steps_per_epoch = 100,\n",
    "                    validation_data = validation_data)"
   ]
  },
  {
   "cell_type": "code",
   "execution_count": null,
   "metadata": {
    "id": "P5kkzRYERLYi"
   },
   "outputs": [],
   "source": [
    "import matplotlib.pyplot as plt\n",
    "plt.plot(model.history.history['val_loss'])"
   ]
  },
  {
   "cell_type": "markdown",
   "metadata": {
    "id": "mF_qkEOFRLYi"
   },
   "source": [
    "**The loss on the validation set is low and its good, there is a steady decrease for each epoch**"
   ]
  },
  {
   "cell_type": "code",
   "execution_count": null,
   "metadata": {
    "id": "m3aw8FPfRLYi"
   },
   "outputs": [],
   "source": [
    "\n",
    "result = model.evaluate(x = np.expand_dims(X_test_scaled, axis = 0),\n",
    "                        y = np.expand_dims(y_test_scaled, axis = 0))"
   ]
  },
  {
   "cell_type": "markdown",
   "metadata": {
    "id": "zgPlWSL2RLYj"
   },
   "source": [
    "**Loss on Test-Set**"
   ]
  },
  {
   "cell_type": "code",
   "execution_count": null,
   "metadata": {
    "id": "O2P4k_gJRLYj"
   },
   "outputs": [],
   "source": [
    "print('loss-test-set: ', result)"
   ]
  },
  {
   "cell_type": "markdown",
   "metadata": {
    "id": "z7hGC-9tRLYk"
   },
   "source": [
    "**Predictions**"
   ]
  },
  {
   "cell_type": "code",
   "execution_count": null,
   "metadata": {
    "id": "yO-c9-jgRLYk"
   },
   "outputs": [],
   "source": [
    "X_test_expanded = np.expand_dims(X_test_scaled, axis = 0)\n",
    "y_preds = model.predict(X_test_expanded)"
   ]
  },
  {
   "cell_type": "code",
   "execution_count": null,
   "metadata": {
    "id": "TxQraDoFRLYl"
   },
   "outputs": [],
   "source": [
    "#perform inverse transform\n",
    "y_pred_rescaled = scaler.inverse_transform(y_preds[0])"
   ]
  },
  {
   "cell_type": "markdown",
   "metadata": {
    "id": "qgxH0QNnRLYl"
   },
   "source": [
    "**truth and prediction plots**"
   ]
  },
  {
   "cell_type": "code",
   "execution_count": 138,
   "metadata": {
    "colab": {
     "base_uri": "https://localhost:8080/",
     "height": 320
    },
    "id": "lDaPAV7TRLYl",
    "outputId": "623bb12a-a93a-4332-f908-844d91c313d6"
   },
   "outputs": [
    {
     "data": {
      "image/png": "[encoded data removed]",
      "text/plain": [
       "<Figure size 1080x360 with 1 Axes>"
      ]
     },
     "metadata": {},
     "output_type": "display_data"
    }
   ],
   "source": [
    "plt.figure(figsize=(15,5))\n",
    "        \n",
    "plt.plot(y_test, label = 'True')\n",
    "plt.plot(y_pred_rescaled, label = 'Preds')\n",
    "\n",
    "plt.ylabel('CycleTime')\n",
    "plt.legend()\n",
    "plt.show()"
   ]
  },
  {
   "cell_type": "markdown",
   "metadata": {
    "id": "Q489pP9sRLYm"
   },
   "source": [
    "**`The Model has got the trend almost right but it struggled a bit in detecting the peaks and dips`**"
   ]
  },
  {
   "cell_type": "code",
   "execution_count": 139,
   "metadata": {
    "colab": {
     "base_uri": "https://localhost:8080/",
     "height": 268
    },
    "id": "aLI4Pn9Y_kp_",
    "outputId": "f8ecf606-6002-4528-bcbc-ff991bbf2391"
   },
   "outputs": [
    {
     "data": {
      "text/html": [
       "\n",
       "  <div id=\"df-c22e2dca-4b06-4c39-9ce0-6f785cded39b\">\n",
       "    <div class=\"colab-df-container\">\n",
       "      <div>\n",
       "<style scoped>\n",
       "    .dataframe tbody tr th:only-of-type {\n",
       "        vertical-align: middle;\n",
       "    }\n",
       "\n",
       "    .dataframe tbody tr th {\n",
       "        vertical-align: top;\n",
       "    }\n",
       "\n",
       "    .dataframe thead th {\n",
       "        text-align: right;\n",
       "    }\n",
       "</style>\n",
       "<table border=\"1\" class=\"dataframe\">\n",
       "  <thead>\n",
       "    <tr style=\"text-align: right;\">\n",
       "      <th></th>\n",
       "      <th>Variant_Change</th>\n",
       "      <th>Mono_Identity</th>\n",
       "      <th>Mono_MM_Duration (s)</th>\n",
       "      <th>Wrapping_Duration (s)</th>\n",
       "      <th>Pressing_Duration (s)</th>\n",
       "      <th>GBD_MM Duration (s)</th>\n",
       "      <th>OperationTime (s)</th>\n",
       "      <th>Downtime (s)</th>\n",
       "      <th>ShutDown (s)</th>\n",
       "      <th>Shift</th>\n",
       "      <th>Shift Status</th>\n",
       "      <th>CycleTime (s)</th>\n",
       "      <th>VariantID</th>\n",
       "    </tr>\n",
       "  </thead>\n",
       "  <tbody>\n",
       "    <tr>\n",
       "      <th>0</th>\n",
       "      <td>2</td>\n",
       "      <td>2</td>\n",
       "      <td>9007.0</td>\n",
       "      <td>8967.0</td>\n",
       "      <td>9050.0</td>\n",
       "      <td>4512.0</td>\n",
       "      <td>114.0</td>\n",
       "      <td>440.0</td>\n",
       "      <td>0.0</td>\n",
       "      <td>1</td>\n",
       "      <td>0</td>\n",
       "      <td>502.113312</td>\n",
       "      <td>7</td>\n",
       "    </tr>\n",
       "    <tr>\n",
       "      <th>1</th>\n",
       "      <td>2</td>\n",
       "      <td>2</td>\n",
       "      <td>8348.0</td>\n",
       "      <td>8298.0</td>\n",
       "      <td>8413.0</td>\n",
       "      <td>4197.0</td>\n",
       "      <td>114.0</td>\n",
       "      <td>1246.0</td>\n",
       "      <td>0.0</td>\n",
       "      <td>1</td>\n",
       "      <td>0</td>\n",
       "      <td>1307.774000</td>\n",
       "      <td>7</td>\n",
       "    </tr>\n",
       "    <tr>\n",
       "      <th>2</th>\n",
       "      <td>1</td>\n",
       "      <td>2</td>\n",
       "      <td>7689.0</td>\n",
       "      <td>7629.0</td>\n",
       "      <td>7776.0</td>\n",
       "      <td>3882.0</td>\n",
       "      <td>113.0</td>\n",
       "      <td>2051.0</td>\n",
       "      <td>0.0</td>\n",
       "      <td>1</td>\n",
       "      <td>0</td>\n",
       "      <td>2113.434688</td>\n",
       "      <td>7</td>\n",
       "    </tr>\n",
       "    <tr>\n",
       "      <th>3</th>\n",
       "      <td>1</td>\n",
       "      <td>2</td>\n",
       "      <td>7030.0</td>\n",
       "      <td>6960.0</td>\n",
       "      <td>7139.0</td>\n",
       "      <td>3567.0</td>\n",
       "      <td>113.0</td>\n",
       "      <td>2857.0</td>\n",
       "      <td>0.0</td>\n",
       "      <td>1</td>\n",
       "      <td>0</td>\n",
       "      <td>2919.095376</td>\n",
       "      <td>7</td>\n",
       "    </tr>\n",
       "    <tr>\n",
       "      <th>4</th>\n",
       "      <td>1</td>\n",
       "      <td>2</td>\n",
       "      <td>2190.0</td>\n",
       "      <td>2179.0</td>\n",
       "      <td>3620.0</td>\n",
       "      <td>1865.0</td>\n",
       "      <td>168.0</td>\n",
       "      <td>1803.0</td>\n",
       "      <td>0.0</td>\n",
       "      <td>1</td>\n",
       "      <td>0</td>\n",
       "      <td>1864.589761</td>\n",
       "      <td>7</td>\n",
       "    </tr>\n",
       "  </tbody>\n",
       "</table>\n",
       "</div>\n",
       "      <button class=\"colab-df-convert\" onclick=\"convertToInteractive('df-c22e2dca-4b06-4c39-9ce0-6f785cded39b')\"\n",
       "              title=\"Convert this dataframe to an interactive table.\"\n",
       "              style=\"display:none;\">\n",
       "        \n",
       "  <svg xmlns=\"http://www.w3.org/2000/svg\" height=\"24px\"viewBox=\"0 0 24 24\"\n",
       "       width=\"24px\">\n",
       "    <path d=\"M0 0h24v24H0V0z\" fill=\"none\"/>\n",
       "    <path d=\"M18.56 5.44l.94 2.06.94-2.06 2.06-.94-2.06-.94-.94-2.06-.94 2.06-2.06.94zm-11 1L8.5 8.5l.94-2.06 2.06-.94-2.06-.94L8.5 2.5l-.94 2.06-2.06.94zm10 10l.94 2.06.94-2.06 2.06-.94-2.06-.94-.94-2.06-.94 2.06-2.06.94z\"/><path d=\"M17.41 7.96l-1.37-1.37c-.4-.4-.92-.59-1.43-.59-.52 0-1.04.2-1.43.59L10.3 9.45l-7.72 7.72c-.78.78-.78 2.05 0 2.83L4 21.41c.39.39.9.59 1.41.59.51 0 1.02-.2 1.41-.59l7.78-7.78 2.81-2.81c.8-.78.8-2.07 0-2.86zM5.41 20L4 18.59l7.72-7.72 1.47 1.35L5.41 20z\"/>\n",
       "  </svg>\n",
       "      </button>\n",
       "      \n",
       "  <style>\n",
       "    .colab-df-container {\n",
       "      display:flex;\n",
       "      flex-wrap:wrap;\n",
       "      gap: 12px;\n",
       "    }\n",
       "\n",
       "    .colab-df-convert {\n",
       "      background-color: #E8F0FE;\n",
       "      border: none;\n",
       "      border-radius: 50%;\n",
       "      cursor: pointer;\n",
       "      display: none;\n",
       "      fill: #1967D2;\n",
       "      height: 32px;\n",
       "      padding: 0 0 0 0;\n",
       "      width: 32px;\n",
       "    }\n",
       "\n",
       "    .colab-df-convert:hover {\n",
       "      background-color: #E2EBFA;\n",
       "      box-shadow: 0px 1px 2px rgba(60, 64, 67, 0.3), 0px 1px 3px 1px rgba(60, 64, 67, 0.15);\n",
       "      fill: #174EA6;\n",
       "    }\n",
       "\n",
       "    [theme=dark] .colab-df-convert {\n",
       "      background-color: #3B4455;\n",
       "      fill: #D2E3FC;\n",
       "    }\n",
       "\n",
       "    [theme=dark] .colab-df-convert:hover {\n",
       "      background-color: #434B5C;\n",
       "      box-shadow: 0px 1px 3px 1px rgba(0, 0, 0, 0.15);\n",
       "      filter: drop-shadow(0px 1px 2px rgba(0, 0, 0, 0.3));\n",
       "      fill: #FFFFFF;\n",
       "    }\n",
       "  </style>\n",
       "\n",
       "      <script>\n",
       "        const buttonEl =\n",
       "          document.querySelector('#df-c22e2dca-4b06-4c39-9ce0-6f785cded39b button.colab-df-convert');\n",
       "        buttonEl.style.display =\n",
       "          google.colab.kernel.accessAllowed ? 'block' : 'none';\n",
       "\n",
       "        async function convertToInteractive(key) {\n",
       "          const element = document.querySelector('#df-c22e2dca-4b06-4c39-9ce0-6f785cded39b');\n",
       "          const dataTable =\n",
       "            await google.colab.kernel.invokeFunction('convertToInteractive',\n",
       "                                                     [key], {});\n",
       "          if (!dataTable) return;\n",
       "\n",
       "          const docLinkHtml = 'Like what you see? Visit the ' +\n",
       "            '<a target=\"_blank\" href=https://colab.research.google.com/notebooks/data_table.ipynb>data table notebook</a>'\n",
       "            + ' to learn more about interactive tables.';\n",
       "          element.innerHTML = '';\n",
       "          dataTable['output_type'] = 'display_data';\n",
       "          await google.colab.output.renderOutput(dataTable, element);\n",
       "          const docLink = document.createElement('div');\n",
       "          docLink.innerHTML = docLinkHtml;\n",
       "          element.appendChild(docLink);\n",
       "        }\n",
       "      </script>\n",
       "    </div>\n",
       "  </div>\n",
       "  "
      ],
      "text/plain": [
       "  Variant_Change Mono_Identity  ...  CycleTime (s)  VariantID\n",
       "0              2             2  ...     502.113312          7\n",
       "1              2             2  ...    1307.774000          7\n",
       "2              1             2  ...    2113.434688          7\n",
       "3              1             2  ...    2919.095376          7\n",
       "4              1             2  ...    1864.589761          7\n",
       "\n",
       "[5 rows x 13 columns]"
      ]
     },
     "execution_count": 139,
     "metadata": {},
     "output_type": "execute_result"
    }
   ],
   "source": [
    "final.head()"
   ]
  },
  {
   "cell_type": "code",
   "execution_count": 140,
   "metadata": {
    "colab": {
     "base_uri": "https://localhost:8080/",
     "height": 268
    },
    "id": "S944XyE8_m33",
    "outputId": "db59ff98-7caa-4d95-83df-4ee3d9c21f39"
   },
   "outputs": [
    {
     "data": {
      "text/html": [
       "\n",
       "  <div id=\"df-60464716-9368-423a-91a9-fbb0eefdf65e\">\n",
       "    <div class=\"colab-df-container\">\n",
       "      <div>\n",
       "<style scoped>\n",
       "    .dataframe tbody tr th:only-of-type {\n",
       "        vertical-align: middle;\n",
       "    }\n",
       "\n",
       "    .dataframe tbody tr th {\n",
       "        vertical-align: top;\n",
       "    }\n",
       "\n",
       "    .dataframe thead th {\n",
       "        text-align: right;\n",
       "    }\n",
       "</style>\n",
       "<table border=\"1\" class=\"dataframe\">\n",
       "  <thead>\n",
       "    <tr style=\"text-align: right;\">\n",
       "      <th></th>\n",
       "      <th>Variant_Change</th>\n",
       "      <th>Mono_Identity</th>\n",
       "      <th>Mono_MM_Duration (s)</th>\n",
       "      <th>Wrapping_Duration (s)</th>\n",
       "      <th>Pressing_Duration (s)</th>\n",
       "      <th>GBD_MM Duration (s)</th>\n",
       "      <th>OperationTime (s)</th>\n",
       "      <th>Downtime (s)</th>\n",
       "      <th>ShutDown (s)</th>\n",
       "      <th>Shift</th>\n",
       "      <th>Shift Status</th>\n",
       "      <th>CycleTime (s)</th>\n",
       "      <th>VariantID</th>\n",
       "    </tr>\n",
       "  </thead>\n",
       "  <tbody>\n",
       "    <tr>\n",
       "      <th>2</th>\n",
       "      <td>2.0</td>\n",
       "      <td>1.0</td>\n",
       "      <td>1893.0</td>\n",
       "      <td>1958.0</td>\n",
       "      <td>2195.0</td>\n",
       "      <td>1887.0</td>\n",
       "      <td>318.0</td>\n",
       "      <td>2095.0</td>\n",
       "      <td>0.0</td>\n",
       "      <td>1.0</td>\n",
       "      <td>0.0</td>\n",
       "      <td>1.976554</td>\n",
       "      <td>33</td>\n",
       "    </tr>\n",
       "    <tr>\n",
       "      <th>3</th>\n",
       "      <td>2.0</td>\n",
       "      <td>1.0</td>\n",
       "      <td>1895.0</td>\n",
       "      <td>1965.0</td>\n",
       "      <td>2229.0</td>\n",
       "      <td>1889.0</td>\n",
       "      <td>318.0</td>\n",
       "      <td>2116.0</td>\n",
       "      <td>0.0</td>\n",
       "      <td>1.0</td>\n",
       "      <td>0.0</td>\n",
       "      <td>1.845570</td>\n",
       "      <td>33</td>\n",
       "    </tr>\n",
       "    <tr>\n",
       "      <th>4</th>\n",
       "      <td>2.0</td>\n",
       "      <td>1.0</td>\n",
       "      <td>1897.0</td>\n",
       "      <td>1973.0</td>\n",
       "      <td>2272.0</td>\n",
       "      <td>1891.0</td>\n",
       "      <td>318.0</td>\n",
       "      <td>2141.0</td>\n",
       "      <td>0.0</td>\n",
       "      <td>1.0</td>\n",
       "      <td>0.0</td>\n",
       "      <td>1.748651</td>\n",
       "      <td>33</td>\n",
       "    </tr>\n",
       "    <tr>\n",
       "      <th>5</th>\n",
       "      <td>2.0</td>\n",
       "      <td>1.0</td>\n",
       "      <td>1899.0</td>\n",
       "      <td>1983.0</td>\n",
       "      <td>2322.0</td>\n",
       "      <td>1892.0</td>\n",
       "      <td>318.0</td>\n",
       "      <td>2170.0</td>\n",
       "      <td>0.0</td>\n",
       "      <td>1.0</td>\n",
       "      <td>0.0</td>\n",
       "      <td>1.677141</td>\n",
       "      <td>33</td>\n",
       "    </tr>\n",
       "    <tr>\n",
       "      <th>6</th>\n",
       "      <td>2.0</td>\n",
       "      <td>1.0</td>\n",
       "      <td>1902.0</td>\n",
       "      <td>1993.0</td>\n",
       "      <td>2380.0</td>\n",
       "      <td>1894.0</td>\n",
       "      <td>319.0</td>\n",
       "      <td>2202.0</td>\n",
       "      <td>0.0</td>\n",
       "      <td>1.0</td>\n",
       "      <td>0.0</td>\n",
       "      <td>1.620570</td>\n",
       "      <td>33</td>\n",
       "    </tr>\n",
       "  </tbody>\n",
       "</table>\n",
       "</div>\n",
       "      <button class=\"colab-df-convert\" onclick=\"convertToInteractive('df-60464716-9368-423a-91a9-fbb0eefdf65e')\"\n",
       "              title=\"Convert this dataframe to an interactive table.\"\n",
       "              style=\"display:none;\">\n",
       "        \n",
       "  <svg xmlns=\"http://www.w3.org/2000/svg\" height=\"24px\"viewBox=\"0 0 24 24\"\n",
       "       width=\"24px\">\n",
       "    <path d=\"M0 0h24v24H0V0z\" fill=\"none\"/>\n",
       "    <path d=\"M18.56 5.44l.94 2.06.94-2.06 2.06-.94-2.06-.94-.94-2.06-.94 2.06-2.06.94zm-11 1L8.5 8.5l.94-2.06 2.06-.94-2.06-.94L8.5 2.5l-.94 2.06-2.06.94zm10 10l.94 2.06.94-2.06 2.06-.94-2.06-.94-.94-2.06-.94 2.06-2.06.94z\"/><path d=\"M17.41 7.96l-1.37-1.37c-.4-.4-.92-.59-1.43-.59-.52 0-1.04.2-1.43.59L10.3 9.45l-7.72 7.72c-.78.78-.78 2.05 0 2.83L4 21.41c.39.39.9.59 1.41.59.51 0 1.02-.2 1.41-.59l7.78-7.78 2.81-2.81c.8-.78.8-2.07 0-2.86zM5.41 20L4 18.59l7.72-7.72 1.47 1.35L5.41 20z\"/>\n",
       "  </svg>\n",
       "      </button>\n",
       "      \n",
       "  <style>\n",
       "    .colab-df-container {\n",
       "      display:flex;\n",
       "      flex-wrap:wrap;\n",
       "      gap: 12px;\n",
       "    }\n",
       "\n",
       "    .colab-df-convert {\n",
       "      background-color: #E8F0FE;\n",
       "      border: none;\n",
       "      border-radius: 50%;\n",
       "      cursor: pointer;\n",
       "      display: none;\n",
       "      fill: #1967D2;\n",
       "      height: 32px;\n",
       "      padding: 0 0 0 0;\n",
       "      width: 32px;\n",
       "    }\n",
       "\n",
       "    .colab-df-convert:hover {\n",
       "      background-color: #E2EBFA;\n",
       "      box-shadow: 0px 1px 2px rgba(60, 64, 67, 0.3), 0px 1px 3px 1px rgba(60, 64, 67, 0.15);\n",
       "      fill: #174EA6;\n",
       "    }\n",
       "\n",
       "    [theme=dark] .colab-df-convert {\n",
       "      background-color: #3B4455;\n",
       "      fill: #D2E3FC;\n",
       "    }\n",
       "\n",
       "    [theme=dark] .colab-df-convert:hover {\n",
       "      background-color: #434B5C;\n",
       "      box-shadow: 0px 1px 3px 1px rgba(0, 0, 0, 0.15);\n",
       "      filter: drop-shadow(0px 1px 2px rgba(0, 0, 0, 0.3));\n",
       "      fill: #FFFFFF;\n",
       "    }\n",
       "  </style>\n",
       "\n",
       "      <script>\n",
       "        const buttonEl =\n",
       "          document.querySelector('#df-60464716-9368-423a-91a9-fbb0eefdf65e button.colab-df-convert');\n",
       "        buttonEl.style.display =\n",
       "          google.colab.kernel.accessAllowed ? 'block' : 'none';\n",
       "\n",
       "        async function convertToInteractive(key) {\n",
       "          const element = document.querySelector('#df-60464716-9368-423a-91a9-fbb0eefdf65e');\n",
       "          const dataTable =\n",
       "            await google.colab.kernel.invokeFunction('convertToInteractive',\n",
       "                                                     [key], {});\n",
       "          if (!dataTable) return;\n",
       "\n",
       "          const docLinkHtml = 'Like what you see? Visit the ' +\n",
       "            '<a target=\"_blank\" href=https://colab.research.google.com/notebooks/data_table.ipynb>data table notebook</a>'\n",
       "            + ' to learn more about interactive tables.';\n",
       "          element.innerHTML = '';\n",
       "          dataTable['output_type'] = 'display_data';\n",
       "          await google.colab.output.renderOutput(dataTable, element);\n",
       "          const docLink = document.createElement('div');\n",
       "          docLink.innerHTML = docLinkHtml;\n",
       "          element.appendChild(docLink);\n",
       "        }\n",
       "      </script>\n",
       "    </div>\n",
       "  </div>\n",
       "  "
      ],
      "text/plain": [
       "  Variant_Change Mono_Identity  ...  CycleTime (s)  VariantID\n",
       "2            2.0           1.0  ...       1.976554         33\n",
       "3            2.0           1.0  ...       1.845570         33\n",
       "4            2.0           1.0  ...       1.748651         33\n",
       "5            2.0           1.0  ...       1.677141         33\n",
       "6            2.0           1.0  ...       1.620570         33\n",
       "\n",
       "[5 rows x 13 columns]"
      ]
     },
     "execution_count": 140,
     "metadata": {},
     "output_type": "execute_result"
    }
   ],
   "source": [
    "final.tail()"
   ]
  },
  {
   "cell_type": "code",
   "execution_count": 141,
   "metadata": {
    "colab": {
     "base_uri": "https://localhost:8080/"
    },
    "id": "WDRvVbgC_nzv",
    "outputId": "af9743aa-f31d-445e-d3ab-df8c8f3144af"
   },
   "outputs": [
    {
     "data": {
      "text/plain": [
       "(57316, 13)"
      ]
     },
     "execution_count": 141,
     "metadata": {},
     "output_type": "execute_result"
    }
   ],
   "source": [
    "final.shape"
   ]
  },
  {
   "cell_type": "code",
   "execution_count": 142,
   "metadata": {
    "id": "axMZkQEGDkRu"
   },
   "outputs": [],
   "source": [
    "final.to_csv('forecasted.csv', index=False)"
   ]
  }
 ],
 "metadata": {
  "colab": {
   "collapsed_sections": [],
   "name": "Cycle_Time_Prediction(LSTM) (3) (1).ipynb",
   "provenance": []
  },
  "kernelspec": {
   "display_name": "Python 3 (ipykernel)",
   "language": "python",
   "name": "python3"
  },
  "language_info": {
   "codemirror_mode": {
    "name": "ipython",
    "version": 3
   },
   "file_extension": ".py",
   "mimetype": "text/x-python",
   "name": "python",
   "nbconvert_exporter": "python",
   "pygments_lexer": "ipython3",
   "version": "3.8.12"
  }
 },
 "nbformat": 4,
 "nbformat_minor": 1
}
