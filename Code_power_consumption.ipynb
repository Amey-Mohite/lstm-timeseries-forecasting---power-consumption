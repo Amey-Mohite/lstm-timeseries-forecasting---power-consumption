{
 "cells": [
  {
   "cell_type": "code",
   "execution_count": 50,
   "id": "3eacdcb7",
   "metadata": {},
   "outputs": [],
   "source": [
    "import pandas as pd\n",
    "import math\n",
    "import numpy as np\n",
    "import tensorflow as tf\n",
    "from tensorflow.keras.models import Sequential\n",
    "from tensorflow.keras.layers import Dense, LSTM, Dropout\n",
    "from sklearn.preprocessing import MinMaxScaler,StandardScaler\n",
    "import matplotlib.pyplot as plt\n",
    "import datetime\n",
    "import numpy as np\n",
    "from matplotlib import pyplot\n",
    "from math import sqrt\n",
    "from numpy import concatenate\n",
    "from sklearn.model_selection import train_test_split as tts\n",
    "from sklearn.metrics import mean_squared_error,r2_score\n",
    "from sklearn.preprocessing import MinMaxScaler\n",
    "from tensorflow.keras.preprocessing.sequence import TimeseriesGenerator\n",
    "#to ignore warnings\n",
    "import warnings\n",
    "warnings.filterwarnings('ignore')"
   ]
  },
  {
   "cell_type": "code",
   "execution_count": 13,
   "id": "36385b99",
   "metadata": {},
   "outputs": [],
   "source": [
    "#!pip install openpyxl"
   ]
  },
  {
   "cell_type": "code",
   "execution_count": 14,
   "id": "26bac104",
   "metadata": {},
   "outputs": [],
   "source": [
    "# Importing Data\n",
    "df_people = pd.read_csv(\"full occ csv (1).csv\")\n",
    "df_weather = pd.read_csv(\"weather-1 (1).csv\")\n",
    "df_electricity = pd.read_excel(\"consumption.xlsx\")"
   ]
  },
  {
   "cell_type": "code",
   "execution_count": 15,
   "id": "3cf5e026",
   "metadata": {},
   "outputs": [],
   "source": [
    "df_people = df_people.dropna(how='all')\n",
    "df_people =  df_people.drop_duplicates()"
   ]
  },
  {
   "cell_type": "code",
   "execution_count": 16,
   "id": "5790d2d2",
   "metadata": {},
   "outputs": [],
   "source": [
    "df_weather = df_weather.dropna(how='all')\n",
    "df_weather = df_weather.drop_duplicates()"
   ]
  },
  {
   "cell_type": "code",
   "execution_count": 17,
   "id": "b25383f6",
   "metadata": {},
   "outputs": [],
   "source": [
    "df_people['Date'] = pd.to_datetime(df_people['Date'], format='%d/%m/%Y')\n",
    "df_weather['READING DATE'] = pd.to_datetime(df_weather['READING DATE'], format='%Y-%m-%d')"
   ]
  },
  {
   "cell_type": "code",
   "execution_count": 18,
   "id": "f25edd3e",
   "metadata": {},
   "outputs": [],
   "source": [
    "df_people = df_people[df_people['Date'].isin(list(df_weather['READING DATE']))].reset_index().drop(['index'],1)\n",
    "df_electricity = df_electricity[df_electricity['READING DATE'].isin(list(df_weather['READING DATE']))].reset_index().drop(['index'],1)"
   ]
  },
  {
   "cell_type": "code",
   "execution_count": 19,
   "id": "5596b551",
   "metadata": {},
   "outputs": [],
   "source": [
    "df_electricity = df_electricity.drop([\"H\",\"OPTIMA Half Hourly DATA\",\"Unnamed: 2\",\"CHANNEL TYPE\",\"UNITS\"],axis = 1)"
   ]
  },
  {
   "cell_type": "code",
   "execution_count": 20,
   "id": "d4b19d6d",
   "metadata": {},
   "outputs": [],
   "source": [
    "electricity_drop_columns = [list(df_electricity.columns)[i] for i in range(len(list(df_electricity.columns))) if i%2!=0]\n",
    "df_electricity = df_electricity.drop(electricity_drop_columns,1)\n",
    "df_electricity['00:00'] = df_electricity[list(df_electricity.columns)[-1]]\n",
    "df_electricity = df_electricity.drop([list(df_electricity.columns)[-2]],1)"
   ]
  },
  {
   "cell_type": "code",
   "execution_count": 21,
   "id": "1be5faa4",
   "metadata": {},
   "outputs": [],
   "source": [
    "whether_drop_columns = [list(df_weather.columns)[i] for i in range(len(list(df_weather.columns))) if i%2!=0]\n",
    "df_weather = df_weather.drop(whether_drop_columns,1)\n",
    "df_weather['00:00'] = df_weather['23:59:00']\n",
    "df_weather = df_weather.drop(['23:59:00'],1)"
   ]
  },
  {
   "cell_type": "code",
   "execution_count": 22,
   "id": "47dc5b76",
   "metadata": {},
   "outputs": [],
   "source": [
    "for i,j in enumerate(df_people[\"13:00\"]):\n",
    "    if j == 'UID card access problems':\n",
    "        df_people[\"13:00\"][i] = np.nan\n",
    "\n",
    "for k in df_people.columns:\n",
    "    for i,j in enumerate(df_people[k]):\n",
    "        if j == 'Sentry Juno installation - Sentry offline, no data 9th -22nd July' or j == 'Sentry Juno live but no data yet' or j == \"Sentry Juno put into offline mode\" or j == \"#\" or j == \" \":\n",
    "            df_people[k][i] = np.nan"
   ]
  },
  {
   "cell_type": "code",
   "execution_count": 23,
   "id": "85e6b4f6",
   "metadata": {},
   "outputs": [],
   "source": [
    "df_people = df_people.fillna(0)"
   ]
  },
  {
   "cell_type": "code",
   "execution_count": 24,
   "id": "fe093bf6",
   "metadata": {},
   "outputs": [],
   "source": [
    "df_weather = df_weather.fillna(0)"
   ]
  },
  {
   "cell_type": "code",
   "execution_count": 25,
   "id": "f9da3dba",
   "metadata": {},
   "outputs": [
    {
     "data": {
      "text/plain": [
       "((1520, 25), (1520, 25), (1520, 25))"
      ]
     },
     "execution_count": 25,
     "metadata": {},
     "output_type": "execute_result"
    }
   ],
   "source": [
    "df_people.shape,df_weather.shape,df_electricity.shape"
   ]
  },
  {
   "cell_type": "code",
   "execution_count": 26,
   "id": "bb6e4c53",
   "metadata": {},
   "outputs": [],
   "source": [
    "def get_dataframe(df,date1,name):\n",
    "    dict1 = {}\n",
    "    df_col = list(df.columns)[1:]\n",
    "    for i in range(len(df)):\n",
    "        for j in range(len(df_col)):\n",
    "            dict1[str(df.at[i,date1].date()) +' '+ df_col[j]] = df.at[i,df_col[j]]\n",
    "    return pd.DataFrame(dict1.items(),columns = ['Date',name])"
   ]
  },
  {
   "cell_type": "code",
   "execution_count": 27,
   "id": "a9163c8e",
   "metadata": {},
   "outputs": [],
   "source": [
    "final_df_people = get_dataframe(df_people,'Date','people')\n",
    "final_df_weather = get_dataframe(df_weather,'READING DATE','weather')\n",
    "final_df_electricity = get_dataframe(df_electricity,'READING DATE','power_consumption')"
   ]
  },
  {
   "cell_type": "code",
   "execution_count": 28,
   "id": "4159beec",
   "metadata": {},
   "outputs": [
    {
     "data": {
      "text/plain": [
       "((36480, 2), (36480, 2), (36480, 2))"
      ]
     },
     "execution_count": 28,
     "metadata": {},
     "output_type": "execute_result"
    }
   ],
   "source": [
    "final_df_people.shape,final_df_weather.shape,final_df_electricity.shape"
   ]
  },
  {
   "cell_type": "code",
   "execution_count": 29,
   "id": "c3909192",
   "metadata": {},
   "outputs": [],
   "source": [
    "final_df = final_df_people.merge(final_df_weather,on='Date').merge(final_df_electricity,on='Date')"
   ]
  },
  {
   "cell_type": "code",
   "execution_count": 30,
   "id": "77bc1f45",
   "metadata": {},
   "outputs": [
    {
     "data": {
      "text/html": [
       "<div>\n",
       "<style scoped>\n",
       "    .dataframe tbody tr th:only-of-type {\n",
       "        vertical-align: middle;\n",
       "    }\n",
       "\n",
       "    .dataframe tbody tr th {\n",
       "        vertical-align: top;\n",
       "    }\n",
       "\n",
       "    .dataframe thead th {\n",
       "        text-align: right;\n",
       "    }\n",
       "</style>\n",
       "<table border=\"1\" class=\"dataframe\">\n",
       "  <thead>\n",
       "    <tr style=\"text-align: right;\">\n",
       "      <th></th>\n",
       "      <th>Date</th>\n",
       "      <th>people</th>\n",
       "      <th>weather</th>\n",
       "      <th>power_consumption</th>\n",
       "    </tr>\n",
       "  </thead>\n",
       "  <tbody>\n",
       "    <tr>\n",
       "      <th>0</th>\n",
       "      <td>2017-09-01 00:00</td>\n",
       "      <td>0.0</td>\n",
       "      <td>12</td>\n",
       "      <td>0.7</td>\n",
       "    </tr>\n",
       "    <tr>\n",
       "      <th>1</th>\n",
       "      <td>2017-09-01 01:00</td>\n",
       "      <td>0.0</td>\n",
       "      <td>12</td>\n",
       "      <td>0.8</td>\n",
       "    </tr>\n",
       "    <tr>\n",
       "      <th>2</th>\n",
       "      <td>2017-09-01 02:00</td>\n",
       "      <td>0.0</td>\n",
       "      <td>12</td>\n",
       "      <td>0.8</td>\n",
       "    </tr>\n",
       "    <tr>\n",
       "      <th>3</th>\n",
       "      <td>2017-09-01 03:00</td>\n",
       "      <td>0.0</td>\n",
       "      <td>11</td>\n",
       "      <td>0.7</td>\n",
       "    </tr>\n",
       "    <tr>\n",
       "      <th>4</th>\n",
       "      <td>2017-09-01 04:00</td>\n",
       "      <td>0.0</td>\n",
       "      <td>11</td>\n",
       "      <td>0.8</td>\n",
       "    </tr>\n",
       "    <tr>\n",
       "      <th>...</th>\n",
       "      <td>...</td>\n",
       "      <td>...</td>\n",
       "      <td>...</td>\n",
       "      <td>...</td>\n",
       "    </tr>\n",
       "    <tr>\n",
       "      <th>36475</th>\n",
       "      <td>2021-11-13 19:00</td>\n",
       "      <td>230</td>\n",
       "      <td>10</td>\n",
       "      <td>2.1</td>\n",
       "    </tr>\n",
       "    <tr>\n",
       "      <th>36476</th>\n",
       "      <td>2021-11-13 20:00</td>\n",
       "      <td>162</td>\n",
       "      <td>9</td>\n",
       "      <td>3.1</td>\n",
       "    </tr>\n",
       "    <tr>\n",
       "      <th>36477</th>\n",
       "      <td>2021-11-13 21:00</td>\n",
       "      <td>115</td>\n",
       "      <td>9</td>\n",
       "      <td>2.8</td>\n",
       "    </tr>\n",
       "    <tr>\n",
       "      <th>36478</th>\n",
       "      <td>2021-11-13 22:00</td>\n",
       "      <td>67</td>\n",
       "      <td>9</td>\n",
       "      <td>3.2</td>\n",
       "    </tr>\n",
       "    <tr>\n",
       "      <th>36479</th>\n",
       "      <td>2021-11-13 23:00</td>\n",
       "      <td>33</td>\n",
       "      <td>8</td>\n",
       "      <td>1.4</td>\n",
       "    </tr>\n",
       "  </tbody>\n",
       "</table>\n",
       "<p>36480 rows × 4 columns</p>\n",
       "</div>"
      ],
      "text/plain": [
       "                   Date people  weather  power_consumption\n",
       "0      2017-09-01 00:00    0.0       12                0.7\n",
       "1      2017-09-01 01:00    0.0       12                0.8\n",
       "2      2017-09-01 02:00    0.0       12                0.8\n",
       "3      2017-09-01 03:00    0.0       11                0.7\n",
       "4      2017-09-01 04:00    0.0       11                0.8\n",
       "...                 ...    ...      ...                ...\n",
       "36475  2021-11-13 19:00    230       10                2.1\n",
       "36476  2021-11-13 20:00    162        9                3.1\n",
       "36477  2021-11-13 21:00    115        9                2.8\n",
       "36478  2021-11-13 22:00     67        9                3.2\n",
       "36479  2021-11-13 23:00     33        8                1.4\n",
       "\n",
       "[36480 rows x 4 columns]"
      ]
     },
     "execution_count": 30,
     "metadata": {},
     "output_type": "execute_result"
    }
   ],
   "source": [
    "final_df"
   ]
  },
  {
   "cell_type": "markdown",
   "id": "623cd5e4",
   "metadata": {},
   "source": [
    "# Different Approach"
   ]
  },
  {
   "cell_type": "code",
   "execution_count": 31,
   "id": "f953c386",
   "metadata": {},
   "outputs": [
    {
     "name": "stdout",
     "output_type": "stream",
     "text": [
      "Cols : people\n",
      "WARNING:tensorflow:Layer lstm will not use cuDNN kernel since it doesn't meet the cuDNN kernel criteria. It will use generic GPU kernel as fallback when running on GPU\n",
      "WARNING:tensorflow:Layer lstm_1 will not use cuDNN kernel since it doesn't meet the cuDNN kernel criteria. It will use generic GPU kernel as fallback when running on GPU\n",
      "Training for columns : people\n",
      "Epoch 1/10\n",
      "570/570 [==============================] - 103s 180ms/step - loss: 0.0025\n",
      "Epoch 2/10\n",
      "570/570 [==============================] - 119s 208ms/step - loss: 7.3022e-04\n",
      "Epoch 3/10\n",
      "570/570 [==============================] - 109s 192ms/step - loss: 4.9260e-04\n",
      "Epoch 4/10\n",
      "570/570 [==============================] - 105s 185ms/step - loss: 3.6242e-04\n",
      "Epoch 5/10\n",
      "570/570 [==============================] - 110s 192ms/step - loss: 3.1919e-04\n",
      "Epoch 6/10\n",
      "570/570 [==============================] - 103s 180ms/step - loss: 2.7381e-04\n",
      "Epoch 7/10\n",
      "570/570 [==============================] - 86s 151ms/step - loss: 2.6350e-04\n",
      "Epoch 8/10\n",
      "570/570 [==============================] - 114s 199ms/step - loss: 2.4697e-04\n",
      "Epoch 9/10\n",
      "570/570 [==============================] - 26s 45ms/step - loss: 2.3146e-04\n",
      "Epoch 10/10\n",
      "570/570 [==============================] - 12s 20ms/step - loss: 2.2571e-04 1s -\n",
      "Cols : weather\n",
      "WARNING:tensorflow:Layer lstm_2 will not use cuDNN kernel since it doesn't meet the cuDNN kernel criteria. It will use generic GPU kernel as fallback when running on GPU\n",
      "WARNING:tensorflow:Layer lstm_3 will not use cuDNN kernel since it doesn't meet the cuDNN kernel criteria. It will use generic GPU kernel as fallback when running on GPU\n",
      "Training for columns : weather\n",
      "Epoch 1/10\n",
      "570/570 [==============================] - 11s 20ms/step - loss: 0.0125\n",
      "Epoch 2/10\n",
      "570/570 [==============================] - 11s 19ms/step - loss: 0.0016\n",
      "Epoch 3/10\n",
      "570/570 [==============================] - 11s 19ms/step - loss: 0.0011\n",
      "Epoch 4/10\n",
      "570/570 [==============================] - 10s 18ms/step - loss: 9.1081e-04\n",
      "Epoch 5/10\n",
      "570/570 [==============================] - 10s 18ms/step - loss: 8.0408e-04\n",
      "Epoch 6/10\n",
      "570/570 [==============================] - 11s 19ms/step - loss: 7.8901e-04\n",
      "Epoch 7/10\n",
      "570/570 [==============================] - 10s 18ms/step - loss: 7.7938e-04\n",
      "Epoch 8/10\n",
      "570/570 [==============================] - 12s 21ms/step - loss: 7.1579e-04\n",
      "Epoch 9/10\n",
      "570/570 [==============================] - 12s 22ms/step - loss: 7.4434e-04\n",
      "Epoch 10/10\n",
      "570/570 [==============================] - 11s 20ms/step - loss: 7.2342e-04\n"
     ]
    }
   ],
   "source": [
    "temp_df = pd.DataFrame()\n",
    "for cols in final_df.drop(['Date', 'power_consumption'], axis = 1).columns:\n",
    "    timeseries_data = final_df[cols]\n",
    "    scaler = MinMaxScaler()\n",
    "    print(f'Cols : {cols}')\n",
    "    scaler.fit(np.array(timeseries_data).reshape(-1, 1))\n",
    "    scaled_train = scaler.transform(np.array(timeseries_data).reshape(-1, 1))\n",
    "    n_input = 4\n",
    "    n_features = 1\n",
    "    generator = TimeseriesGenerator(scaled_train, scaled_train, length=n_input, batch_size = 64)\n",
    "    X, y = generator[0]\n",
    "    model = Sequential()\n",
    "    model.add(LSTM(64, activation='relu', input_shape = (X.shape[1], X.shape[2]),return_sequences= True))\n",
    "    model.add(LSTM(32, activation='relu'))\n",
    "    model.add(Dense(1))\n",
    "    model.compile(optimizer = 'adam', loss = 'mse')\n",
    "    print(f'Training for columns : {cols}')\n",
    "    model.fit(generator, epochs = 10, verbose = 1)\n",
    "    test_predictions = []\n",
    "    first_eval_batch = scaled_train[-n_input:]\n",
    "    current_batch = first_eval_batch.reshape((1, n_input, n_features))\n",
    "    future = 720\n",
    "    for i in range(future):\n",
    "        current_pred = model.predict(current_batch)[0]\n",
    "        test_predictions.append(current_pred)\n",
    "        current_batch = np.append(current_batch[:,1:,:],[[current_pred]],axis=1)\n",
    "\n",
    "    true_predictions = scaler.inverse_transform(test_predictions)\n",
    "    temp_df[cols] = true_predictions.flatten()"
   ]
  },
  {
   "cell_type": "code",
   "execution_count": 36,
   "id": "c510cd68",
   "metadata": {},
   "outputs": [
    {
     "data": {
      "text/html": [
       "<div>\n",
       "<style scoped>\n",
       "    .dataframe tbody tr th:only-of-type {\n",
       "        vertical-align: middle;\n",
       "    }\n",
       "\n",
       "    .dataframe tbody tr th {\n",
       "        vertical-align: top;\n",
       "    }\n",
       "\n",
       "    .dataframe thead th {\n",
       "        text-align: right;\n",
       "    }\n",
       "</style>\n",
       "<table border=\"1\" class=\"dataframe\">\n",
       "  <thead>\n",
       "    <tr style=\"text-align: right;\">\n",
       "      <th></th>\n",
       "      <th>people</th>\n",
       "      <th>weather</th>\n",
       "    </tr>\n",
       "  </thead>\n",
       "  <tbody>\n",
       "    <tr>\n",
       "      <th>0</th>\n",
       "      <td>24.0</td>\n",
       "      <td>8.0</td>\n",
       "    </tr>\n",
       "    <tr>\n",
       "      <th>1</th>\n",
       "      <td>33.0</td>\n",
       "      <td>8.0</td>\n",
       "    </tr>\n",
       "    <tr>\n",
       "      <th>2</th>\n",
       "      <td>64.0</td>\n",
       "      <td>8.0</td>\n",
       "    </tr>\n",
       "    <tr>\n",
       "      <th>3</th>\n",
       "      <td>132.0</td>\n",
       "      <td>8.0</td>\n",
       "    </tr>\n",
       "    <tr>\n",
       "      <th>4</th>\n",
       "      <td>243.0</td>\n",
       "      <td>8.0</td>\n",
       "    </tr>\n",
       "  </tbody>\n",
       "</table>\n",
       "</div>"
      ],
      "text/plain": [
       "   people  weather\n",
       "0    24.0      8.0\n",
       "1    33.0      8.0\n",
       "2    64.0      8.0\n",
       "3   132.0      8.0\n",
       "4   243.0      8.0"
      ]
     },
     "execution_count": 36,
     "metadata": {},
     "output_type": "execute_result"
    }
   ],
   "source": [
    "temp_df = temp_df.round()\n",
    "temp_df = abs(temp_df)"
   ]
  },
  {
   "cell_type": "code",
   "execution_count": 39,
   "id": "a4126d76",
   "metadata": {},
   "outputs": [],
   "source": [
    "X = final_df.drop(['Date','power_consumption'],1)\n",
    "y = final_df['power_consumption']"
   ]
  },
  {
   "cell_type": "code",
   "execution_count": 44,
   "id": "f400f269",
   "metadata": {},
   "outputs": [],
   "source": [
    "from sklearn.ensemble import RandomForestRegressor"
   ]
  },
  {
   "cell_type": "code",
   "execution_count": 42,
   "id": "54b89789",
   "metadata": {},
   "outputs": [
    {
     "data": {
      "text/plain": [
       "((27360, 2), (9120, 2))"
      ]
     },
     "execution_count": 42,
     "metadata": {},
     "output_type": "execute_result"
    }
   ],
   "source": [
    "X_train, X_test, y_train, y_test = tts(X,y,test_size=0.25,random_state=42)\n",
    "X_train.shape, X_test.shape"
   ]
  },
  {
   "cell_type": "code",
   "execution_count": 45,
   "id": "fa285109",
   "metadata": {},
   "outputs": [],
   "source": [
    "rf=RandomForestRegressor()"
   ]
  },
  {
   "cell_type": "code",
   "execution_count": 46,
   "id": "33e6f378",
   "metadata": {},
   "outputs": [
    {
     "data": {
      "text/plain": [
       "RandomForestRegressor()"
      ]
     },
     "execution_count": 46,
     "metadata": {},
     "output_type": "execute_result"
    }
   ],
   "source": [
    "rf.fit(X_train,y_train)"
   ]
  },
  {
   "cell_type": "code",
   "execution_count": 47,
   "id": "72fff1d6",
   "metadata": {},
   "outputs": [],
   "source": [
    "pred = rf.predict(X_test)"
   ]
  },
  {
   "cell_type": "code",
   "execution_count": 64,
   "id": "c269503a",
   "metadata": {},
   "outputs": [
    {
     "name": "stdout",
     "output_type": "stream",
     "text": [
      "mse :  177.6311343149907\n"
     ]
    }
   ],
   "source": [
    "print(\"mse : \",mean_squared_error(pred,y_test))"
   ]
  },
  {
   "cell_type": "code",
   "execution_count": 55,
   "id": "cab058ae",
   "metadata": {},
   "outputs": [],
   "source": [
    "power_consumption_pred = rf.predict(temp_df)"
   ]
  },
  {
   "cell_type": "code",
   "execution_count": 60,
   "id": "098aba61",
   "metadata": {},
   "outputs": [],
   "source": [
    "forecast_period_dates = []\n",
    "date = datetime.datetime(2021,11,13)\n",
    "for i in range(30): \n",
    "    date += datetime.timedelta(days=1)\n",
    "    for j in range(24):\n",
    "        forecast_period_dates.append(str(date).split(' ')[0]+' '+str(j)+':00')"
   ]
  },
  {
   "cell_type": "code",
   "execution_count": 61,
   "id": "17c55202",
   "metadata": {},
   "outputs": [],
   "source": [
    "temp_df['Date'] = forecast_period_dates"
   ]
  },
  {
   "cell_type": "code",
   "execution_count": 58,
   "id": "e3e97d9d",
   "metadata": {},
   "outputs": [],
   "source": [
    "temp_df['power_consumption_pred'] = power_consumption_pred.round()"
   ]
  },
  {
   "cell_type": "code",
   "execution_count": 62,
   "id": "c5b2ef3f",
   "metadata": {},
   "outputs": [
    {
     "data": {
      "text/html": [
       "<div>\n",
       "<style scoped>\n",
       "    .dataframe tbody tr th:only-of-type {\n",
       "        vertical-align: middle;\n",
       "    }\n",
       "\n",
       "    .dataframe tbody tr th {\n",
       "        vertical-align: top;\n",
       "    }\n",
       "\n",
       "    .dataframe thead th {\n",
       "        text-align: right;\n",
       "    }\n",
       "</style>\n",
       "<table border=\"1\" class=\"dataframe\">\n",
       "  <thead>\n",
       "    <tr style=\"text-align: right;\">\n",
       "      <th></th>\n",
       "      <th>people</th>\n",
       "      <th>weather</th>\n",
       "      <th>power_consumption_pred</th>\n",
       "      <th>Date</th>\n",
       "    </tr>\n",
       "  </thead>\n",
       "  <tbody>\n",
       "    <tr>\n",
       "      <th>0</th>\n",
       "      <td>24.0</td>\n",
       "      <td>8.0</td>\n",
       "      <td>2.0</td>\n",
       "      <td>2021-11-14 0:00</td>\n",
       "    </tr>\n",
       "    <tr>\n",
       "      <th>1</th>\n",
       "      <td>33.0</td>\n",
       "      <td>8.0</td>\n",
       "      <td>2.0</td>\n",
       "      <td>2021-11-14 1:00</td>\n",
       "    </tr>\n",
       "    <tr>\n",
       "      <th>2</th>\n",
       "      <td>64.0</td>\n",
       "      <td>8.0</td>\n",
       "      <td>2.0</td>\n",
       "      <td>2021-11-14 2:00</td>\n",
       "    </tr>\n",
       "    <tr>\n",
       "      <th>3</th>\n",
       "      <td>132.0</td>\n",
       "      <td>8.0</td>\n",
       "      <td>3.0</td>\n",
       "      <td>2021-11-14 3:00</td>\n",
       "    </tr>\n",
       "    <tr>\n",
       "      <th>4</th>\n",
       "      <td>243.0</td>\n",
       "      <td>8.0</td>\n",
       "      <td>3.0</td>\n",
       "      <td>2021-11-14 4:00</td>\n",
       "    </tr>\n",
       "    <tr>\n",
       "      <th>...</th>\n",
       "      <td>...</td>\n",
       "      <td>...</td>\n",
       "      <td>...</td>\n",
       "      <td>...</td>\n",
       "    </tr>\n",
       "    <tr>\n",
       "      <th>715</th>\n",
       "      <td>112.0</td>\n",
       "      <td>7.0</td>\n",
       "      <td>2.0</td>\n",
       "      <td>2021-12-13 19:00</td>\n",
       "    </tr>\n",
       "    <tr>\n",
       "      <th>716</th>\n",
       "      <td>83.0</td>\n",
       "      <td>7.0</td>\n",
       "      <td>2.0</td>\n",
       "      <td>2021-12-13 20:00</td>\n",
       "    </tr>\n",
       "    <tr>\n",
       "      <th>717</th>\n",
       "      <td>72.0</td>\n",
       "      <td>7.0</td>\n",
       "      <td>2.0</td>\n",
       "      <td>2021-12-13 21:00</td>\n",
       "    </tr>\n",
       "    <tr>\n",
       "      <th>718</th>\n",
       "      <td>81.0</td>\n",
       "      <td>7.0</td>\n",
       "      <td>3.0</td>\n",
       "      <td>2021-12-13 22:00</td>\n",
       "    </tr>\n",
       "    <tr>\n",
       "      <th>719</th>\n",
       "      <td>119.0</td>\n",
       "      <td>7.0</td>\n",
       "      <td>2.0</td>\n",
       "      <td>2021-12-13 23:00</td>\n",
       "    </tr>\n",
       "  </tbody>\n",
       "</table>\n",
       "<p>720 rows × 4 columns</p>\n",
       "</div>"
      ],
      "text/plain": [
       "     people  weather  power_consumption_pred              Date\n",
       "0      24.0      8.0                     2.0   2021-11-14 0:00\n",
       "1      33.0      8.0                     2.0   2021-11-14 1:00\n",
       "2      64.0      8.0                     2.0   2021-11-14 2:00\n",
       "3     132.0      8.0                     3.0   2021-11-14 3:00\n",
       "4     243.0      8.0                     3.0   2021-11-14 4:00\n",
       "..      ...      ...                     ...               ...\n",
       "715   112.0      7.0                     2.0  2021-12-13 19:00\n",
       "716    83.0      7.0                     2.0  2021-12-13 20:00\n",
       "717    72.0      7.0                     2.0  2021-12-13 21:00\n",
       "718    81.0      7.0                     3.0  2021-12-13 22:00\n",
       "719   119.0      7.0                     2.0  2021-12-13 23:00\n",
       "\n",
       "[720 rows x 4 columns]"
      ]
     },
     "execution_count": 62,
     "metadata": {},
     "output_type": "execute_result"
    }
   ],
   "source": [
    "temp_df"
   ]
  },
  {
   "cell_type": "code",
   "execution_count": null,
   "id": "cb193e0e",
   "metadata": {},
   "outputs": [],
   "source": []
  },
  {
   "cell_type": "code",
   "execution_count": null,
   "id": "314049ab",
   "metadata": {},
   "outputs": [],
   "source": []
  },
  {
   "cell_type": "code",
   "execution_count": null,
   "id": "e8c36449",
   "metadata": {},
   "outputs": [],
   "source": []
  },
  {
   "cell_type": "code",
   "execution_count": null,
   "id": "a5392093",
   "metadata": {},
   "outputs": [],
   "source": [
    "temp_df = temp_df.round()\n",
    "temp_df = abs(temp_df)\n",
    "final_df_forecasted = temp_df.astype(int)"
   ]
  },
  {
   "cell_type": "code",
   "execution_count": null,
   "id": "a65e9678",
   "metadata": {},
   "outputs": [],
   "source": [
    "final_df_forecasted['power_consumption'] = np.zeros(720)"
   ]
  },
  {
   "cell_type": "code",
   "execution_count": null,
   "id": "f4ab069d",
   "metadata": {},
   "outputs": [],
   "source": [
    "final_df"
   ]
  },
  {
   "cell_type": "code",
   "execution_count": null,
   "id": "2096a98c",
   "metadata": {},
   "outputs": [],
   "source": [
    "power_consumption_lst = final_df['power_consumption']\n",
    "final_df.drop(['power_consumption'], axis = 1, inplace = True)\n",
    "\n",
    "final_df['power_consumption'] = power_consumption_lst"
   ]
  },
  {
   "cell_type": "code",
   "execution_count": null,
   "id": "d02a862d",
   "metadata": {},
   "outputs": [],
   "source": [
    "final_df_forecasted = pd.concat([final_df, final_df_forecasted])"
   ]
  },
  {
   "cell_type": "code",
   "execution_count": null,
   "id": "734f1b5d",
   "metadata": {},
   "outputs": [],
   "source": [
    "final_df_forecasted"
   ]
  },
  {
   "cell_type": "code",
   "execution_count": null,
   "id": "5ce4f7f2",
   "metadata": {},
   "outputs": [],
   "source": [
    "df_temp = final_df_forecasted.copy()"
   ]
  },
  {
   "cell_type": "code",
   "execution_count": null,
   "id": "1e0a6454",
   "metadata": {},
   "outputs": [],
   "source": [
    "final_df_forecasted.drop(['Date'], axis = 1, inplace = True)"
   ]
  },
  {
   "cell_type": "code",
   "execution_count": null,
   "id": "5c5a544b",
   "metadata": {},
   "outputs": [],
   "source": [
    "final = final_df_forecasted.copy()"
   ]
  },
  {
   "cell_type": "code",
   "execution_count": null,
   "id": "af354d37",
   "metadata": {},
   "outputs": [],
   "source": [
    "final.shape"
   ]
  },
  {
   "cell_type": "markdown",
   "id": "c8fca286",
   "metadata": {},
   "source": [
    "### Forecasting power consumption"
   ]
  },
  {
   "cell_type": "code",
   "execution_count": null,
   "id": "cf564b7c",
   "metadata": {},
   "outputs": [],
   "source": [
    "scaler_std = StandardScaler()\n",
    "scaler_std = scaler_std.fit(final_df_forecasted)\n",
    "final_df_trainscaled = scaler_std.transform(final_df_forecasted)"
   ]
  },
  {
   "cell_type": "code",
   "execution_count": null,
   "id": "72a5d2d4",
   "metadata": {},
   "outputs": [],
   "source": [
    "Train_X = []\n",
    "Train_y = []\n",
    "\n",
    "n_Future = 720\n",
    "n_Past = 1440"
   ]
  },
  {
   "cell_type": "code",
   "execution_count": null,
   "id": "880cf9b6",
   "metadata": {},
   "outputs": [],
   "source": [
    "#iterate between the past observations limit and the length of the df and subtract the future(days to predict into the future) and add 1 \n",
    "for i in range(n_Past, len(final_df_trainscaled) - n_Future + 1):\n",
    "    #append each value to Train_X\n",
    "    Train_X.append(final_df_trainscaled[i - n_Past:i, 0:final_df.shape[1]])\n",
    "    #append CycleTime to the Train_y list [-1] is the col index of Cycletime\n",
    "    Train_y.append(final_df_trainscaled[i + n_Future - 1:i + n_Future, -1])"
   ]
  },
  {
   "cell_type": "code",
   "execution_count": null,
   "id": "ec259294",
   "metadata": {},
   "outputs": [],
   "source": [
    "Train_X, Train_y = np.array(Train_X), np.array(Train_y)"
   ]
  },
  {
   "cell_type": "code",
   "execution_count": null,
   "id": "4d68c8fd",
   "metadata": {},
   "outputs": [],
   "source": [
    "print(f'Train X shape : {Train_X.shape}')\n",
    "print(f'Train y shape : {Train_y.shape}')"
   ]
  },
  {
   "cell_type": "code",
   "execution_count": null,
   "id": "33375569",
   "metadata": {},
   "outputs": [],
   "source": [
    "#create the DL model\n",
    "model = Sequential()\n",
    "#using relu as the activation\n",
    "model.add(LSTM(64, activation='relu', input_shape = (Train_X.shape[1], Train_X.shape[2]), return_sequences=True))\n",
    "model.add(LSTM(32, activation='relu', return_sequences=False))\n",
    "model.add(Dropout(0.2))\n",
    "model.add(Dense(Train_y.shape[1]))\n",
    "\n",
    "#using adam as the activation\n",
    "model.compile(optimizer = 'adam', loss = 'mse')\n",
    "model.summary()"
   ]
  },
  {
   "cell_type": "code",
   "execution_count": null,
   "id": "e4469aae",
   "metadata": {},
   "outputs": [],
   "source": [
    "history = model.fit(Train_X, Train_y, \n",
    "                    epochs = 1, batch_size = 32,\n",
    "                    verbose = 1)"
   ]
  },
  {
   "cell_type": "code",
   "execution_count": null,
   "id": "e7bee137",
   "metadata": {},
   "outputs": [],
   "source": []
  },
  {
   "cell_type": "code",
   "execution_count": null,
   "id": "64bd78b2",
   "metadata": {},
   "outputs": [],
   "source": [
    "import matplotlib.pyplot as plt\n",
    "plt.plot(history.history['loss'])"
   ]
  },
  {
   "cell_type": "code",
   "execution_count": null,
   "id": "e27f05f5",
   "metadata": {},
   "outputs": [],
   "source": [
    "N_past = 721\n",
    "N_future = 720"
   ]
  },
  {
   "cell_type": "code",
   "execution_count": null,
   "id": "01ffcf00",
   "metadata": {},
   "outputs": [],
   "source": [
    "forecast_period_dates = []\n",
    "date = datetime.datetime(2021,11,13)\n",
    "for i in range(30): \n",
    "    date += datetime.timedelta(days=1)\n",
    "    for j in range(24):\n",
    "        forecast_period_dates.append(str(date).split(' ')[0]+' '+str(j)+':00')"
   ]
  },
  {
   "cell_type": "code",
   "execution_count": null,
   "id": "7a8d23d3",
   "metadata": {},
   "outputs": [],
   "source": [
    "#predict using the observations from the previous data\n",
    "prediction = model.predict(Train_X[-N_future:])"
   ]
  },
  {
   "cell_type": "code",
   "execution_count": null,
   "id": "1a4723fd",
   "metadata": {},
   "outputs": [],
   "source": [
    "prediction"
   ]
  },
  {
   "cell_type": "code",
   "execution_count": null,
   "id": "85fea656",
   "metadata": {},
   "outputs": [],
   "source": [
    "#repeat the predictions for the fututre days(given as input)\n",
    "predictions = np.repeat(prediction, final_df_forecasted.shape[1], axis=-1)\n",
    "#inverse_transform\n",
    "y_pred_future = scaler_std.inverse_transform(predictions)[:,0]"
   ]
  },
  {
   "cell_type": "code",
   "execution_count": null,
   "id": "7bd933cf",
   "metadata": {},
   "outputs": [],
   "source": [
    "# Append the predictions to the list\n",
    " \n",
    "df_fr_final = pd.DataFrame({'Date':np.array(forecast_period_dates), 'power_consumption':y_pred_future})\n",
    "df_fr_final['Date'] = pd.to_datetime(df_fr_final['Date'])"
   ]
  },
  {
   "cell_type": "code",
   "execution_count": null,
   "id": "0f9c1485",
   "metadata": {},
   "outputs": [],
   "source": [
    "df_fr_final['Date'] = pd.to_datetime(df_fr_final['Date'])"
   ]
  },
  {
   "cell_type": "code",
   "execution_count": null,
   "id": "882ff9df",
   "metadata": {},
   "outputs": [],
   "source": [
    "import seaborn as sns\n",
    "\n",
    "plt.figure(figsize = (15,4))\n",
    "ax = sns.lineplot(df_fr_final['Date'], df_fr_final['power_consumption'])"
   ]
  },
  {
   "cell_type": "code",
   "execution_count": null,
   "id": "638c36ec",
   "metadata": {},
   "outputs": [],
   "source": [
    "df_fr_final['people'] = temp_df['people']\n",
    "df_fr_final['weather'] = temp_df['weather']"
   ]
  },
  {
   "cell_type": "code",
   "execution_count": null,
   "id": "c7156610",
   "metadata": {},
   "outputs": [],
   "source": [
    "df_fr_final"
   ]
  },
  {
   "cell_type": "code",
   "execution_count": null,
   "id": "b82a0af4",
   "metadata": {},
   "outputs": [],
   "source": []
  },
  {
   "cell_type": "markdown",
   "id": "27317659",
   "metadata": {},
   "source": [
    "# Different Approach"
   ]
  },
  {
   "cell_type": "code",
   "execution_count": null,
   "id": "c5edeb81",
   "metadata": {},
   "outputs": [],
   "source": [
    "def get_predicted_x_df(df):\n",
    "    #creating empty dataframe\n",
    "    temp_df = pd.DataFrame()\n",
    "\n",
    "    #running for loop on two columns people and whether to run LSTM on them to predict future values\n",
    "    for cols in df.drop(['Date'], axis = 1).columns:\n",
    "        timeseries_data = df[cols]\n",
    "        scaler = MinMaxScaler()\n",
    "        print(f'Cols : {cols}')\n",
    "        scaler.fit(np.array(timeseries_data).reshape(-1, 1))\n",
    "        scaled_train = scaler.transform(np.array(timeseries_data).reshape(-1, 1))\n",
    "        n_input = 10\n",
    "        n_features = 1\n",
    "        generator = TimeseriesGenerator(scaled_train, scaled_train, length=n_input, batch_size = 64)\n",
    "        X, y = generator[0]\n",
    "        model = Sequential()\n",
    "        model.add(LSTM(64, activation='relu', input_shape = (X.shape[1], X.shape[2]),return_sequences= True))\n",
    "        model.add(LSTM(32, activation='relu', return_sequences=True))\n",
    "        model.add(Dropout(0.2))\n",
    "        model.add(LSTM(32, activation='relu'))\n",
    "        model.add(LSTM(32, activation='relu', return_sequences=False))\n",
    "        model.add(Dropout(0.2))\n",
    "        model.add(Dense(1))\n",
    "        model.compile(optimizer = 'adam', loss = 'mse')\n",
    "        print(f'Training for columns : {cols}')\n",
    "        model.fit(generator, epochs = 10, verbose = 1)\n",
    "        test_predictions = []\n",
    "        first_eval_batch = scaled_train[-n_input:]\n",
    "        current_batch = first_eval_batch.reshape((1, n_input, n_features))\n",
    "        future = 30 # this will predict no. of future values.\n",
    "        for i in range(future):\n",
    "            current_pred = model.predict(current_batch)[0]\n",
    "            test_predictions.append(current_pred)\n",
    "            current_batch = np.append(current_batch[:,1:,:],[[current_pred]],axis=1)\n",
    "\n",
    "        true_predictions = scaler.inverse_transform(test_predictions)\n",
    "        temp_df[cols] = true_predictions.flatten()\n",
    "    return temp_df"
   ]
  },
  {
   "cell_type": "code",
   "execution_count": null,
   "id": "aa19dee2",
   "metadata": {},
   "outputs": [],
   "source": [
    "predicted_df_x_people = get_predicted_x_df(df_people)\n",
    "predicted_df_x_weather = get_predicted_x_df(df_weather)"
   ]
  },
  {
   "cell_type": "code",
   "execution_count": null,
   "id": "9d421c32",
   "metadata": {},
   "outputs": [],
   "source": [
    "mse1 = {}\n",
    "train_df = pd.DataFrame()\n",
    "prediction_df = pd.DataFrame()\n",
    "predicted_df_y_power_consumption = pd.DataFrame()\n",
    "#getting future date hour values\n",
    "forecast_period_dates = []\n",
    "date = datetime.datetime(2021,11,13)\n",
    "for i in range(30): \n",
    "    date += datetime.timedelta(days=1)\n",
    "    forecast_period_dates.append(date)\n",
    "predicted_df_y_power_consumption['Dates'] = forecast_period_dates\n",
    "predicted_df_x_people['Dates'] = forecast_period_dates\n",
    "predicted_df_x_weather['Dates'] = forecast_period_dates"
   ]
  },
  {
   "cell_type": "code",
   "execution_count": null,
   "id": "a2a8040f",
   "metadata": {},
   "outputs": [],
   "source": [
    "for i in list(predicted_df_x_people.columns):\n",
    "    print(i)\n",
    "    train_df['people_'+i]  =  df_people[i]\n",
    "    train_df['weather_'+i]  =  df_weather[i]\n",
    "    print('people_'+i,'weather_'+i)\n",
    "    X = train_df[['people_'+i,'weather_'+i]]\n",
    "    y = df_electricity[i]\n",
    "    #Scaling the Data\n",
    "    scaler=StandardScaler()\n",
    "    col=X.columns\n",
    "    X=scaler.fit_transform(X)\n",
    "    X=pd.DataFrame(X,columns=col)\n",
    "    X_train, X_test, y_train, y_test = tts(X,y,test_size=0.25,random_state=42)\n",
    "    X_train.shape, X_test.shape\n",
    "    rf=RandomForestRegressor(n_estimators = 200, min_samples_split = 5,min_samples_leaf = 4,max_features = 'auto',max_depth = 10,bootstrap = True   )\n",
    "    rf.fit(X_train,y_train)\n",
    "    pred = rf.predict(X_test)\n",
    "    mse1[i] = mean_squared_error(pred,y_test)  \n",
    "    prediction_df['people_'+i]  =  predicted_df_x_people[i]\n",
    "    prediction_df['weather_'+i]  =  predicted_df_x_weather[i]\n",
    "    power_consumption_pred = rf.predict(prediction_df[['people_'+i,'weather_'+i]])\n",
    "    predicted_df_y_power_consumption[i] = power_consumption_pred\n",
    "    print(\"done\")"
   ]
  },
  {
   "cell_type": "code",
   "execution_count": null,
   "id": "c1a58537",
   "metadata": {},
   "outputs": [],
   "source": [
    "predicted_df_y_power_consumption"
   ]
  },
  {
   "cell_type": "code",
   "execution_count": null,
   "id": "47ea3df9",
   "metadata": {},
   "outputs": [],
   "source": []
  },
  {
   "cell_type": "code",
   "execution_count": null,
   "id": "702a92dd",
   "metadata": {},
   "outputs": [],
   "source": []
  },
  {
   "cell_type": "code",
   "execution_count": null,
   "id": "f78c2103",
   "metadata": {},
   "outputs": [],
   "source": []
  },
  {
   "cell_type": "code",
   "execution_count": null,
   "id": "12174323",
   "metadata": {},
   "outputs": [],
   "source": []
  },
  {
   "cell_type": "code",
   "execution_count": null,
   "id": "a942d33c",
   "metadata": {},
   "outputs": [],
   "source": []
  },
  {
   "cell_type": "code",
   "execution_count": null,
   "id": "72ad1f12",
   "metadata": {},
   "outputs": [],
   "source": []
  },
  {
   "cell_type": "code",
   "execution_count": null,
   "id": "86c96881",
   "metadata": {},
   "outputs": [],
   "source": []
  },
  {
   "cell_type": "code",
   "execution_count": null,
   "id": "38f0c1f6",
   "metadata": {},
   "outputs": [],
   "source": []
  },
  {
   "cell_type": "code",
   "execution_count": null,
   "id": "60f02ecd",
   "metadata": {},
   "outputs": [],
   "source": []
  },
  {
   "cell_type": "markdown",
   "id": "9cda73fe",
   "metadata": {},
   "source": [
    "# Different Approach"
   ]
  },
  {
   "cell_type": "code",
   "execution_count": null,
   "id": "60c31013",
   "metadata": {},
   "outputs": [],
   "source": [
    "final_df1 = final_df[['people']]"
   ]
  },
  {
   "cell_type": "code",
   "execution_count": null,
   "id": "45a8cfdc",
   "metadata": {},
   "outputs": [],
   "source": [
    "def series_to_supervised(data, n_in=1, n_out=1, dropnan=True):\n",
    "\tn_vars = 1 if type(data) is list else data.shape[1]\n",
    "\tdf = pd.DataFrame(data)\n",
    "\tcols, names = list(), list()\n",
    "\t# input sequence (t-n, ... t-1)\n",
    "\tfor i in range(n_in, 0, -1):\n",
    "\t\tcols.append(df.shift(i))\n",
    "\t\tnames += [('var%d(t-%d)' % (j+1, i)) for j in range(n_vars)]\n",
    "\t# forecast sequence (t, t+1, ... t+n)\n",
    "\tfor i in range(0, n_out):\n",
    "\t\tcols.append(df.shift(-i))\n",
    "\t\tif i == 0:\n",
    "\t\t\tnames += [('var%d(t)' % (j+1)) for j in range(n_vars)]\n",
    "\t\telse:\n",
    "\t\t\tnames += [('var%d(t+%d)' % (j+1, i)) for j in range(n_vars)]\n",
    "\t# put it all together\n",
    "\tagg = pd.concat(cols, axis=1)\n",
    "\tagg.columns = names\n",
    "\t# drop rows with NaN values\n",
    "\tif dropnan:\n",
    "\t\tagg.dropna(inplace=True)\n",
    "\treturn agg"
   ]
  },
  {
   "cell_type": "code",
   "execution_count": null,
   "id": "f3a0f310",
   "metadata": {},
   "outputs": [],
   "source": [
    "values = final_df1.values\n",
    "values = values.astype('float32')\n",
    "reframed = series_to_supervised(values, 30, 1)\n",
    "scaler = MinMaxScaler()#scaler.inverse_transform\n",
    "scaled = scaler.fit_transform(reframed)"
   ]
  },
  {
   "cell_type": "code",
   "execution_count": null,
   "id": "e5e21a1a",
   "metadata": {},
   "outputs": [],
   "source": [
    "# split into train and test sets\n",
    "values = scaled\n",
    "n_train_hours = 27360\n",
    "train = values[:n_train_hours, :]\n",
    "test = values[n_train_hours:, :]\n",
    "# split into input and outputs\n",
    "train_X, train_y = train[:, :-1], train[:, -1]\n",
    "test_X, test_y = test[:, :-1], test[:, -1]\n",
    "# reshape input to be 3D [samples, timesteps, features]\n",
    "train_X = train_X.reshape((train_X.shape[0], 1, train_X.shape[1]))\n",
    "test_X = test_X.reshape((test_X.shape[0], 1, test_X.shape[1]))\n",
    "print(train_X.shape, train_y.shape, test_X.shape, test_y.shape)"
   ]
  },
  {
   "cell_type": "code",
   "execution_count": null,
   "id": "d703d1d7",
   "metadata": {
    "scrolled": true
   },
   "outputs": [],
   "source": [
    "model = Sequential()\n",
    "model.add(LSTM(50, input_shape=(train_X.shape[1], train_X.shape[2])))\n",
    "model.add(Dense(1))\n",
    "model.compile(loss='mae', optimizer='adam')\n",
    "# fit network\n",
    "history = model.fit(train_X, train_y, epochs=20, batch_size=32, validation_data=(test_X, test_y), verbose=1, shuffle=False)\n",
    "# plot history\n",
    "pyplot.plot(history.history['loss'], label='train')\n",
    "pyplot.plot(history.history['val_loss'], label='test')\n",
    "pyplot.legend()\n",
    "pyplot.show()"
   ]
  },
  {
   "cell_type": "code",
   "execution_count": null,
   "id": "ee9a9249",
   "metadata": {},
   "outputs": [],
   "source": [
    "test_X.shape"
   ]
  },
  {
   "cell_type": "code",
   "execution_count": null,
   "id": "a9edfb46",
   "metadata": {},
   "outputs": [],
   "source": [
    "# make a prediction\n",
    "yhat = model.predict(test_X)\n",
    "test_X = test_X.reshape((test_X.shape[0], test_X.shape[2]))"
   ]
  },
  {
   "cell_type": "code",
   "execution_count": null,
   "id": "f7215270",
   "metadata": {},
   "outputs": [],
   "source": [
    "# invert scaling for forecast\n",
    "inv_yhat = concatenate((yhat, test_X[:, :]), axis=1)\n",
    "inv_yhat = scaler.inverse_transform(inv_yhat)\n",
    "inv_yhat = inv_yhat[:,0]"
   ]
  },
  {
   "cell_type": "code",
   "execution_count": null,
   "id": "f8e3d171",
   "metadata": {},
   "outputs": [],
   "source": [
    "# invert scaling for actual\n",
    "test_y = test_y.reshape((len(test_y), 1))\n",
    "inv_y = concatenate((test_y, test_X[:, :]), axis=1)\n",
    "inv_y = scaler.inverse_transform(inv_y)\n",
    "inv_y = inv_y[:,0]"
   ]
  },
  {
   "cell_type": "code",
   "execution_count": null,
   "id": "e6ec8fdf",
   "metadata": {},
   "outputs": [],
   "source": [
    "# calculate RMSE\n",
    "mse = mean_squared_error(inv_y, inv_yhat)\n",
    "print('Test MSE: %.3f' % mse)"
   ]
  },
  {
   "cell_type": "code",
   "execution_count": null,
   "id": "cea0edf2",
   "metadata": {},
   "outputs": [],
   "source": []
  },
  {
   "cell_type": "code",
   "execution_count": null,
   "id": "386b7d59",
   "metadata": {},
   "outputs": [],
   "source": []
  },
  {
   "cell_type": "code",
   "execution_count": null,
   "id": "c5af474d",
   "metadata": {},
   "outputs": [],
   "source": []
  },
  {
   "cell_type": "code",
   "execution_count": null,
   "id": "969077d2",
   "metadata": {},
   "outputs": [],
   "source": []
  },
  {
   "cell_type": "code",
   "execution_count": null,
   "id": "90aaa6f9",
   "metadata": {},
   "outputs": [],
   "source": []
  },
  {
   "cell_type": "code",
   "execution_count": null,
   "id": "a6a45a77",
   "metadata": {},
   "outputs": [],
   "source": []
  },
  {
   "cell_type": "code",
   "execution_count": null,
   "id": "9de57004",
   "metadata": {},
   "outputs": [],
   "source": []
  },
  {
   "cell_type": "code",
   "execution_count": null,
   "id": "83fbf635",
   "metadata": {},
   "outputs": [],
   "source": []
  },
  {
   "cell_type": "code",
   "execution_count": null,
   "id": "c424a1f0",
   "metadata": {},
   "outputs": [],
   "source": []
  },
  {
   "cell_type": "code",
   "execution_count": null,
   "id": "87bd046d",
   "metadata": {},
   "outputs": [],
   "source": []
  },
  {
   "cell_type": "code",
   "execution_count": null,
   "id": "f3840bcd",
   "metadata": {},
   "outputs": [],
   "source": []
  },
  {
   "cell_type": "code",
   "execution_count": null,
   "id": "5861b907",
   "metadata": {},
   "outputs": [],
   "source": []
  },
  {
   "cell_type": "code",
   "execution_count": null,
   "id": "cae8a34c",
   "metadata": {},
   "outputs": [],
   "source": []
  },
  {
   "cell_type": "code",
   "execution_count": null,
   "id": "5b28e975",
   "metadata": {},
   "outputs": [],
   "source": []
  },
  {
   "cell_type": "code",
   "execution_count": null,
   "id": "851e03ce",
   "metadata": {},
   "outputs": [],
   "source": []
  }
 ],
 "metadata": {
  "kernelspec": {
   "display_name": "Python 3 (ipykernel)",
   "language": "python",
   "name": "python3"
  },
  "language_info": {
   "codemirror_mode": {
    "name": "ipython",
    "version": 3
   },
   "file_extension": ".py",
   "mimetype": "text/x-python",
   "name": "python",
   "nbconvert_exporter": "python",
   "pygments_lexer": "ipython3",
   "version": "3.8.12"
  }
 },
 "nbformat": 4,
 "nbformat_minor": 5
}
